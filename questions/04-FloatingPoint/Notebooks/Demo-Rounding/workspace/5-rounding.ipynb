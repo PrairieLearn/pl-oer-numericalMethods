{
  "cells": [
    {
      "cell_type": "code",
      "execution_count": 1,
      "metadata": {},
      "outputs": [],
      "source": [
        "import numpy as np"
      ]
    },
    {
      "cell_type": "markdown",
      "metadata": {},
      "source": [
        "# 1) Floating Point system and finite representation - Roundoff"
      ]
    },
    {
      "cell_type": "markdown",
      "metadata": {},
      "source": [
        "**What will happen when you run the code snippet below?**\n",
        "\n",
        "\n",
        "A) it won't stop (infinite loop)\n",
        "\n",
        "B) it will stop when b reaches underflow\n",
        "\n",
        "C) it will stop when b reaches machine epsilon\n",
        "\n",
        "D) none of the above"
      ]
    },
    {
      "cell_type": "code",
      "execution_count": null,
      "metadata": {},
      "outputs": [],
      "source": [
        "from time import sleep\n",
        "\n",
        "x = 0.0\n",
        "\n",
        "while x != (1.0):\n",
        "    x += 0.1\n",
        "    print(repr(x))\n",
        "    \n",
        "    sleep(0.4)"
      ]
    },
    {
      "cell_type": "markdown",
      "metadata": {},
      "source": [
        "This is a very simple example of undesirable consequences of floating point representation and arithmetic. The real number 0.1 does not have an exact (finite) representation. Operations using its machine representation `fl(x)` cause this \"unexpected\" behavior.\n",
        "\n",
        "** What happens with this other code snippet?** \n",
        "\n",
        "You should think about this problem first. You are computing a + b using machine precision `fl(a+b)` and you want to know how small `b` should be such that `fl(a+b)` such that `fl(a+b)` is no longer greater than `fl(a)`. Think about what you learned about the gap between two machine numbers."
      ]
    },
    {
      "cell_type": "markdown",
      "metadata": {},
      "source": [
        "A) it won't stop (infinite loop)\n",
        "\n",
        "B) it will stop when b reaches underflow\n",
        "\n",
        "C) it will stop when b reaches machine epsilon\n",
        "\n",
        "D) none of the above"
      ]
    },
    {
      "cell_type": "code",
      "execution_count": null,
      "metadata": {},
      "outputs": [],
      "source": [
        "a = 10**4\n",
        "b = 1.0\n",
        "i=0\n",
        "while (a + b > a):\n",
        "    #print(\"{0:d}, {1:1.16f}\". format(i, b)) \n",
        "    print(i,b)\n",
        "    b = b / 2.0\n",
        "    i+=1"
      ]
    },
    {
      "cell_type": "markdown",
      "metadata": {},
      "source": [
        "# 2) Floating Point Arithmetic"
      ]
    },
    {
      "cell_type": "code",
      "execution_count": null,
      "metadata": {},
      "outputs": [],
      "source": [
        "import numpy as np"
      ]
    },
    {
      "cell_type": "markdown",
      "metadata": {},
      "source": [
        "Distributive property"
      ]
    },
    {
      "cell_type": "code",
      "execution_count": null,
      "metadata": {},
      "outputs": [],
      "source": [
        "print(100*(0.1 + 0.2))\n",
        "print(100*0.1 + 100*0.2)"
      ]
    },
    {
      "cell_type": "code",
      "execution_count": null,
      "metadata": {},
      "outputs": [],
      "source": [
        "100*(0.1 + 0.2) == 100*0.1 + 100*0.2"
      ]
    },
    {
      "cell_type": "markdown",
      "metadata": {},
      "source": [
        "Associative property"
      ]
    },
    {
      "cell_type": "code",
      "execution_count": null,
      "metadata": {},
      "outputs": [],
      "source": [
        "(np.pi+1e100)-1e100"
      ]
    },
    {
      "cell_type": "code",
      "execution_count": null,
      "metadata": {},
      "outputs": [],
      "source": [
        "(np.pi)+(1e100-1e100)"
      ]
    },
    {
      "cell_type": "code",
      "execution_count": null,
      "metadata": {},
      "outputs": [],
      "source": [
        "b = 1e80\n",
        "a = 1e2\n",
        "print(a + (b - b) )\n",
        "print((a + b) - b )"
      ]
    },
    {
      "cell_type": "markdown",
      "metadata": {},
      "source": [
        "# 3) Catastrophic Cancellation"
      ]
    },
    {
      "cell_type": "markdown",
      "metadata": {},
      "source": [
        "Let's make two numbers with very similar magnitude:"
      ]
    },
    {
      "cell_type": "code",
      "execution_count": null,
      "metadata": {},
      "outputs": [],
      "source": [
        "x = 1.48234\n",
        "y = 1.48235"
      ]
    },
    {
      "cell_type": "markdown",
      "metadata": {},
      "source": [
        "Now let's compute their difference in double precision:"
      ]
    },
    {
      "cell_type": "code",
      "execution_count": null,
      "metadata": {},
      "outputs": [],
      "source": [
        "x_dbl = np.float64(x)\n",
        "y_dbl = np.float64(y)\n",
        "diff_dbl = x_dbl-y_dbl\n",
        "\n",
        "diff_dbl"
      ]
    },
    {
      "cell_type": "markdown",
      "metadata": {},
      "source": [
        "* What would the correct result be?\n",
        "* What has happened here?"
      ]
    },
    {
      "cell_type": "markdown",
      "metadata": {},
      "source": [
        "-------------\n",
        "Can you predict what will happen in single precision?"
      ]
    },
    {
      "cell_type": "code",
      "execution_count": null,
      "metadata": {},
      "outputs": [],
      "source": [
        "x_sng = np.float32(x)\n",
        "y_sng = np.float32(y)\n",
        "diff_sng = x_sng-y_sng\n",
        "\n",
        "print(diff_sng)"
      ]
    }
  ],
  "metadata": {
    "kernelspec": {
      "display_name": "Python 3",
      "language": "python",
      "name": "python3"
    },
    "language_info": {
      "codemirror_mode": {
        "name": "ipython",
        "version": 3
      },
      "file_extension": ".py",
      "mimetype": "text/x-python",
      "name": "python",
      "nbconvert_exporter": "python",
      "pygments_lexer": "ipython3",
      "version": "3.8.0"
    }
  },
  "nbformat": 4,
  "nbformat_minor": 1
}