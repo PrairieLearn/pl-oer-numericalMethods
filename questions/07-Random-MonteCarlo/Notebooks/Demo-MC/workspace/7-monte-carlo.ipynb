{
  "cells": [
    {
      "cell_type": "code",
      "execution_count": 1,
      "metadata": {
        "slideshow": {
          "slide_type": "skip"
        }
      },
      "outputs": [],
      "source": [
        "import matplotlib.pyplot as plt\n",
        "%matplotlib inline"
      ]
    },
    {
      "cell_type": "markdown",
      "metadata": {
        "colab_type": "text",
        "id": "REJqvG0z6Bkj",
        "slideshow": {
          "slide_type": "slide"
        }
      },
      "source": [
        "# Randomness\n",
        "\n",
        "What type of problems can we solve with the help of random numbers?\n",
        "\n",
        "We can compute (potentially) complicated averages:\n",
        "\n",
        "*   How much my stock/option portfolio is going to be worth?\n",
        "*   What are my odds to win a certain competition?\n",
        "\n"
      ]
    },
    {
      "cell_type": "markdown",
      "metadata": {
        "colab_type": "text",
        "id": "ONUZol4M8J7y",
        "slideshow": {
          "slide_type": "slide"
        }
      },
      "source": [
        "### Random Number Generators\n",
        "\n",
        "*   Computers are deterministic - operations are reproducible\n",
        "*   How do we get random numbers out of a deterministic machine?"
      ]
    },
    {
      "cell_type": "markdown",
      "metadata": {
        "slideshow": {
          "slide_type": "-"
        }
      },
      "source": [
        "You can use the library `numpy.random` to generate random numbes:"
      ]
    },
    {
      "cell_type": "code",
      "execution_count": 2,
      "metadata": {
        "colab": {},
        "colab_type": "code",
        "id": "ETXJlNHY8pIa",
        "slideshow": {
          "slide_type": "-"
        }
      },
      "outputs": [],
      "source": [
        "import numpy as np\n",
        "\n",
        "np.random.rand(10)"
      ]
    },
    {
      "cell_type": "markdown",
      "metadata": {
        "slideshow": {
          "slide_type": "slide"
        }
      },
      "source": [
        "If you want to generate a random integer number over a given range, you can use\n",
        "\n",
        "`np.random.randint(low,high)`\n",
        "\n",
        "that returns a random integer from low (inclusive) to high (exclusive)."
      ]
    },
    {
      "cell_type": "code",
      "execution_count": 3,
      "metadata": {
        "slideshow": {
          "slide_type": "-"
        }
      },
      "outputs": [],
      "source": [
        "np.random.randint(1,10)"
      ]
    },
    {
      "cell_type": "markdown",
      "metadata": {
        "slideshow": {
          "slide_type": "slide"
        }
      },
      "source": [
        "Note that if you use the library `random` to accomplish the same thing:\n",
        "\n",
        "`random.randint(low,high)`\n",
        "\n",
        "the function returns a random integer from low (inclusive) to high (**inclusive**)."
      ]
    },
    {
      "cell_type": "code",
      "execution_count": 4,
      "metadata": {
        "slideshow": {
          "slide_type": "-"
        }
      },
      "outputs": [],
      "source": [
        "import random\n",
        "random.randint(1,10)"
      ]
    },
    {
      "cell_type": "markdown",
      "metadata": {
        "slideshow": {
          "slide_type": "slide"
        }
      },
      "source": [
        "Generating many random numbers at one, using a numpy array:"
      ]
    },
    {
      "cell_type": "code",
      "execution_count": 5,
      "metadata": {
        "colab": {
          "base_uri": "https://localhost:8080/",
          "height": 357
        },
        "colab_type": "code",
        "id": "W_INXEwi8kBU",
        "outputId": "c31cb2c2-fc8e-4439-fb80-923cc56b3f0c",
        "slideshow": {
          "slide_type": "-"
        }
      },
      "outputs": [],
      "source": [
        "np.random.seed(10)\n",
        "for x in range(0, 20):\n",
        "    numbers = np.random.rand(6)\n",
        "    print(numbers)"
      ]
    },
    {
      "cell_type": "markdown",
      "metadata": {
        "colab_type": "text",
        "id": "fFZS3WxE871v",
        "slideshow": {
          "slide_type": "notes"
        }
      },
      "source": [
        "They all seem random correct? Let's try to fix something called **seed** using  \n",
        "np.random.seed(10)\n",
        "\n",
        "What do you observe? \n",
        "\n",
        "Let's see what this seed is..."
      ]
    },
    {
      "cell_type": "markdown",
      "metadata": {
        "colab_type": "text",
        "id": "IuiZnPxm9dQc",
        "slideshow": {
          "slide_type": "slide"
        }
      },
      "source": [
        "## Pseudo-random Numbers\n",
        "\n",
        "* Numbers and sequences appear random, but they are actually reproducible\n",
        "* Great for algorithm developing and debugging\n",
        "* How truly \"random\" are these numbers?"
      ]
    },
    {
      "cell_type": "markdown",
      "metadata": {
        "colab_type": "text",
        "id": "M828HMrX94T9",
        "slideshow": {
          "slide_type": "slide"
        }
      },
      "source": [
        "## Linear congruential generator\n",
        "\n",
        "Given the parameters $a$, $c$, $m$ and $s$, where $s$ is the seed value, this algorithm will generate a sequence of pseudo-random numbers:\n",
        "\n",
        "$x_o = s $\n",
        "\n",
        "$x_{n+1} = (a x_n + c) mod(m)$"
      ]
    },
    {
      "cell_type": "code",
      "execution_count": 6,
      "metadata": {
        "colab": {},
        "colab_type": "code",
        "id": "gZYMuH2t_ZZ5",
        "slideshow": {
          "slide_type": "slide"
        }
      },
      "outputs": [],
      "source": [
        "s = 3 # seed\n",
        "a =  10 # multiplier\n",
        "c = 2 # increment\n",
        "m = 19 # modulus\n",
        "\n",
        "n = 60\n",
        "x = np.zeros(n)\n",
        "x[0] = s\n",
        "for i in range(1,n):\n",
        "    x[i] = (a * x[i-1] + c) % m"
      ]
    },
    {
      "cell_type": "code",
      "execution_count": 7,
      "metadata": {
        "colab": {
          "base_uri": "https://localhost:8080/",
          "height": 282
        },
        "colab_type": "code",
        "id": "jzE_vTlw_4te",
        "outputId": "4cf92953-d8db-4e10-d250-15e7edf66469",
        "scrolled": false,
        "slideshow": {
          "slide_type": "-"
        }
      },
      "outputs": [],
      "source": [
        "import matplotlib.pyplot as plt\n",
        "%matplotlib inline\n",
        "plt.plot(x,'.')"
      ]
    },
    {
      "cell_type": "markdown",
      "metadata": {
        "colab_type": "text",
        "id": "P-iFLPo5AVTr",
        "slideshow": {
          "slide_type": "slide"
        }
      },
      "source": [
        "Notice there is a period, when numbers eventually start repeating.  One of the advantages of the LCG is that by using appropriate choice for the parameters, we can obtain known and long periods.\n",
        "\n",
        "Check here https://en.wikipedia.org/wiki/Linear_congruential_generator for a list of commonly used parameters of LCGs.\n",
        "\n",
        "Let's try using the parameters from \n",
        "[Numerical recipes](https://en.wikipedia.org/wiki/Numerical_Recipes)"
      ]
    },
    {
      "cell_type": "code",
      "execution_count": 8,
      "metadata": {
        "colab": {
          "base_uri": "https://localhost:8080/",
          "height": 293
        },
        "colab_type": "code",
        "id": "6GF31MZ6-oQP",
        "outputId": "d14ece91-7508-43db-8a98-d25ce4a345db",
        "slideshow": {
          "slide_type": "subslide"
        }
      },
      "outputs": [],
      "source": [
        "s = 30\n",
        "a = 1664525\n",
        "c = 1013904223\n",
        "m = 2**32\n",
        "\n",
        "n = 300\n",
        "x = np.zeros(n)\n",
        "x[0] = s\n",
        "for i in range(1,n):\n",
        "    x[i] = (a * x[i-1] + c) % m\n",
        "\n",
        "plt.plot(x,'.')"
      ]
    },
    {
      "cell_type": "markdown",
      "metadata": {
        "colab_type": "text",
        "id": "JV4q29UYBv85",
        "slideshow": {
          "slide_type": "slide"
        }
      },
      "source": [
        "\"Good\" random number generators:\n",
        "\n",
        "- Random pattern\n",
        "- Long period\n",
        "- Efficiency\n",
        "- Repeatability\n",
        "- Portability\n"
      ]
    },
    {
      "cell_type": "markdown",
      "metadata": {
        "colab_type": "text",
        "id": "y4CBQZcbB-8w",
        "slideshow": {
          "slide_type": "slide"
        }
      },
      "source": [
        "# Random Variables\n",
        "\n",
        "Think of a random variable $X$ as a function that maps the outcome of an unpredictable (random) processes to numerical quantities.\n",
        "\n",
        "For example:\n",
        "\n",
        "* $X$ = the face of a bread when it falls on the ground. The random value can abe the \"buttered\" side or the \"not buttered\" side\n",
        "* $X$ = value that appears on top of dice after each roll\n",
        "\n",
        "We don't have an exact number to represent these random processes, but we can get something that represents the **average** case. To do that, we need to know the likelihood of each individual value of $X$."
      ]
    },
    {
      "cell_type": "markdown",
      "metadata": {
        "colab_type": "text",
        "id": "4t4D9HC9FRpR",
        "slideshow": {
          "slide_type": "slide"
        }
      },
      "source": [
        "### Coin toss\n",
        "\n",
        "Random variable $X$: result of a coin toss\n",
        "\n",
        "In each toss, the random variable can take the values $x_1 = 0$ (tail) and $x_2 = 1$ (head), and each $x_i$ has probability $p_i = 0.5$. \n",
        "\n",
        "The **expected value** of a discrete random variable is defined as:\n",
        "\n",
        "$$ E(x) = \\sum_{i=1}^{m} p_i x_i $$\n",
        "\n",
        "Hence for a coin toss we have:\n",
        "\n",
        "$$ E(x) = 1(0.5) + 0(0.5) = 0.5 $$"
      ]
    },
    {
      "cell_type": "markdown",
      "metadata": {
        "colab_type": "text",
        "id": "RAy-VqBRPlLN",
        "slideshow": {
          "slide_type": "slide"
        }
      },
      "source": [
        "### Roll Dice\n",
        "\n",
        "Random variable $X$: value that appears on top of the dice after each roll\n",
        "\n",
        "In each toss, the random variable can take the values $x_i = 1,2,3,...,6$ and each $x_i$ has probability $p_i = 1/6$. \n",
        "\n",
        "The **expected value** of the discrete random variable is defined as:"
      ]
    },
    {
      "cell_type": "code",
      "execution_count": 9,
      "metadata": {
        "colab": {
          "base_uri": "https://localhost:8080/",
          "height": 34
        },
        "colab_type": "code",
        "id": "4qPwU0PMRGVW",
        "outputId": "0cd295ac-3aa5-4f0d-fc8d-1048cf1ff9c3",
        "slideshow": {
          "slide_type": "-"
        }
      },
      "outputs": [],
      "source": [
        "E = 0\n",
        "for i in range(1,7):\n",
        "    E += (i)*(1/6)\n",
        "E"
      ]
    },
    {
      "cell_type": "markdown",
      "metadata": {
        "colab_type": "text",
        "id": "SoAgVnqV57hs",
        "slideshow": {
          "slide_type": "slide"
        }
      },
      "source": [
        "#  Monte Carlo Methods\n",
        "\n",
        "Monte Carlo methods are algorithms that rely on repeated random sampling to approximate a desired quantity.\n",
        "\n",
        "### Example 1: Simulating a coin toss experiment"
      ]
    },
    {
      "cell_type": "markdown",
      "metadata": {
        "colab_type": "text",
        "id": "T0arakhyR_rE",
        "slideshow": {
          "slide_type": "-"
        }
      },
      "source": [
        "We want to find the probability of heads when tossing a coin. We know the expected value is 0.5. Using Monte Carlo with N samples (here tosses), our estimate of the expected value is:\n",
        "\n",
        "$$E = \\frac{1}{N}\\sum_{i=1}^N f(x_i) = \\frac{1}{N}\\sum_{i=1}^N x_i$$ \n",
        "\n",
        "where $x_i = 1$ if the toss gives head."
      ]
    },
    {
      "cell_type": "markdown",
      "metadata": {
        "colab_type": "text",
        "id": "KpTgSEa2pKLa",
        "slideshow": {
          "slide_type": "slide"
        }
      },
      "source": [
        "Let's toss a \"fair\" coin N times and record the results for each toss.\n",
        "\n",
        "But first, how can we simulate one toss?"
      ]
    },
    {
      "cell_type": "code",
      "execution_count": 10,
      "metadata": {
        "colab": {
          "base_uri": "https://localhost:8080/",
          "height": 34
        },
        "colab_type": "code",
        "id": "odxGZRnXSmoM",
        "outputId": "37a00f28-37f9-4266-d4ad-9a3ddc6a396a",
        "slideshow": {
          "slide_type": "-"
        }
      },
      "outputs": [],
      "source": [
        "toss = np.random.choice([0,1])\n",
        "print(toss)\n"
      ]
    },
    {
      "cell_type": "code",
      "execution_count": 11,
      "metadata": {
        "colab": {
          "base_uri": "https://localhost:8080/",
          "height": 34
        },
        "colab_type": "code",
        "id": "U9ZYKgj0SSVW",
        "outputId": "7e95e3c0-5734-452c-8f90-e2fe5e840593",
        "slideshow": {
          "slide_type": "slide"
        }
      },
      "outputs": [],
      "source": [
        "N = 30 # number of samples (tosses)\n",
        "M = 30\n",
        "heads = []\n",
        "for j in range(M):\n",
        "    toss_list = []\n",
        "    for i in range(N):\n",
        "        toss = np.random.choice([0,1])\n",
        "        toss_list.append(toss)\n",
        "    #print(toss_list)\n",
        "    expec = np.array(toss_list).sum()/N\n",
        "    heads.append(expec)\n",
        "print(heads)\n",
        "\n",
        "heads = np.array(heads)"
      ]
    },
    {
      "cell_type": "markdown",
      "metadata": {
        "colab_type": "text",
        "id": "Efi5ZoVnrhZr",
        "slideshow": {
          "slide_type": "-"
        }
      },
      "source": [
        "Note that if we run the code snippet above again, it is likely we will get a different result. What if we run this many times? "
      ]
    },
    {
      "cell_type": "code",
      "execution_count": 12,
      "metadata": {
        "colab": {
          "base_uri": "https://localhost:8080/",
          "height": 333
        },
        "colab_type": "code",
        "id": "bFTFeML5FGa0",
        "outputId": "be443173-472d-4c55-e217-4dd879d88ee7",
        "slideshow": {
          "slide_type": "slide"
        }
      },
      "outputs": [],
      "source": [
        "N = 300 # number of tosses\n",
        "M = 300 # number of numerical experiments\n",
        "nheads = []\n",
        "for j in range(M):   \n",
        "    toss_list = []\n",
        "    for i in range(N):\n",
        "        toss_list.append(np.random.choice([0,1]))\n",
        "    nheads.append( np.array(toss_list).sum()/N ) \n",
        "nheads = np.array(nheads);"
      ]
    },
    {
      "cell_type": "code",
      "execution_count": 13,
      "metadata": {
        "slideshow": {
          "slide_type": "-"
        }
      },
      "outputs": [],
      "source": [
        "plt.hist(nheads);"
      ]
    },
    {
      "cell_type": "code",
      "execution_count": 14,
      "metadata": {
        "colab": {
          "base_uri": "https://localhost:8080/",
          "height": 34
        },
        "colab_type": "code",
        "id": "NYuuPvtXCDa-",
        "outputId": "fa9e8002-f59c-4c58-d35a-f31057b6b508",
        "slideshow": {
          "slide_type": "-"
        }
      },
      "outputs": [],
      "source": [
        "print(nheads.mean(),nheads.std())"
      ]
    },
    {
      "cell_type": "markdown",
      "metadata": {
        "colab_type": "text",
        "id": "rM1o1S8HnT62",
        "slideshow": {
          "slide_type": "skip"
        }
      },
      "source": [
        "What happens when we increase the number of numerical experiments?\n",
        "What happens when we increase the number of samples (in this case, the number of tosses)?"
      ]
    },
    {
      "cell_type": "markdown",
      "metadata": {
        "colab_type": "text",
        "id": "9NZ-2H5LteBa",
        "slideshow": {
          "slide_type": "slide"
        }
      },
      "source": [
        "### B) Monte Carlo to approximate integrals\n",
        "\n",
        "One of the most important applications of Monte Carlo methods is in estimating volumes and areas that are difficult to compute analytically. Without loss of generality we will first present Monte Carlo to approximate two-dimensional integrals. Nonetheless, Monte Carlo is a great method to solve high-dimensional problems. \n",
        "\n",
        "To approximate an integration\n",
        "\n",
        "$$ A = \\int_{x_1}^{x_2} \\int_{y_1}^{y_2} f(x,y) dx dy $$\n",
        "\n",
        "we sample points uniformily inside a domain $D = [x_1,x_2] \\times [y_1,y2]$, i.e. we let $X$ be a uniformily distributed random variable on $D$. \n",
        "\n",
        "\n"
      ]
    },
    {
      "cell_type": "markdown",
      "metadata": {
        "slideshow": {
          "slide_type": "subslide"
        }
      },
      "source": [
        "Using Monte Carlo with N sample points, our estimate for the expected value  is:\n",
        "\n",
        "$$ S_N = \\frac{1}{N} \\sum_{i=1}^{N} f(X_i) $$\n",
        "\n",
        "which gives the approximate for the integral:\n",
        "\n",
        "$$ A_N = (x_2 - x_1)(y_2-y_1) \\frac{1}{N} \\sum_{i=1}^{N} f(X_i) $$\n",
        "\n",
        "Law of large numbers:\n",
        "\n",
        "as $N \\rightarrow \\infty$, the sample average $S_N$ converges the the expected value $E(X)$ and hence $A_N \\rightarrow A$"
      ]
    },
    {
      "cell_type": "markdown",
      "metadata": {
        "slideshow": {
          "slide_type": "slide"
        }
      },
      "source": [
        "### Example 2: Approximate the area of a circle\n",
        "\n",
        "We will use Monte Carlo Method to approximate the area of a circle of radius R = 1.\n",
        "\n",
        "- Let's start with a uniform distribution on the unit square  [0,1]\u00d7[0,1] . Create a 2D array samples of shape (2, N):\n",
        "\n",
        "- Scale the sample points \"samples\", so that we have a uniform distribution inside a square $[-1,1]\\times [-1,1]$. Calculate the distance from each sample point to the origin $(0,0)$"
      ]
    },
    {
      "cell_type": "code",
      "execution_count": 15,
      "metadata": {
        "colab": {},
        "colab_type": "code",
        "id": "VOcrb1ItuANJ",
        "slideshow": {
          "slide_type": "-"
        }
      },
      "outputs": [],
      "source": [
        "N = 10**2\n",
        "samples = np.random.rand(2, N)\n",
        "xy = samples * 2 - 1.0 # scale sample points\n",
        "r = np.sqrt(xy[0, :]**2 + xy[1, :]**2)  # calculate radius\n",
        "xy.shape"
      ]
    },
    {
      "cell_type": "code",
      "execution_count": 16,
      "metadata": {
        "slideshow": {
          "slide_type": "slide"
        }
      },
      "outputs": [],
      "source": [
        "plt.plot(xy[0,:], xy[1,:], 'k.')\n",
        "plt.axis('equal')\n",
        "plt.xlabel('x')\n",
        "plt.ylabel('y');"
      ]
    },
    {
      "cell_type": "markdown",
      "metadata": {
        "colab_type": "text",
        "id": "vb-GIrEAuisk",
        "slideshow": {
          "slide_type": "slide"
        }
      },
      "source": [
        "We then count how many of these points are inside the circle centered at the origin."
      ]
    },
    {
      "cell_type": "code",
      "execution_count": 17,
      "metadata": {
        "colab": {
          "base_uri": "https://localhost:8080/",
          "height": 34
        },
        "colab_type": "code",
        "id": "-IgDXBPDuWvL",
        "outputId": "5f6c7250-22f2-47a8-c14a-c6ef688f848d",
        "slideshow": {
          "slide_type": "-"
        }
      },
      "outputs": [],
      "source": [
        "incircle = (r <= 1)\n",
        "count_incircle = incircle.sum()\n",
        "print(count_incircle)"
      ]
    },
    {
      "cell_type": "markdown",
      "metadata": {
        "colab_type": "text",
        "id": "KB2AZ1Htvnca",
        "slideshow": {
          "slide_type": "-"
        }
      },
      "source": [
        "And the approximated value for the area is:"
      ]
    },
    {
      "cell_type": "code",
      "execution_count": 18,
      "metadata": {
        "colab": {
          "base_uri": "https://localhost:8080/",
          "height": 34
        },
        "colab_type": "code",
        "id": "ifu3O7hKvmcB",
        "outputId": "0cb43347-740f-4de5-fc77-1547a44b96fa",
        "slideshow": {
          "slide_type": "-"
        }
      },
      "outputs": [],
      "source": [
        "A_approx = (2*2) * (count_incircle)/N\n",
        "A_approx"
      ]
    },
    {
      "cell_type": "markdown",
      "metadata": {
        "colab_type": "text",
        "id": "akngnIAlvLxm",
        "slideshow": {
          "slide_type": "slide"
        }
      },
      "source": [
        "We can assign different colors to the points inside the circle and plot (just for vizualization purposes)."
      ]
    },
    {
      "cell_type": "code",
      "execution_count": 19,
      "metadata": {
        "colab": {
          "base_uri": "https://localhost:8080/",
          "height": 279
        },
        "colab_type": "code",
        "id": "KVbBFZz2u8ur",
        "outputId": "969d095a-e802-4f2d-aeef-5bba28537c65",
        "slideshow": {
          "slide_type": "-"
        }
      },
      "outputs": [],
      "source": [
        "plt.figure(figsize=(10,6))\n",
        "plt.plot(xy[0,np.where(incircle)[0]], xy[1,np.where(incircle)[0]], 'b.')\n",
        "plt.plot(xy[0,np.where(incircle==False)[0]], xy[1,np.where(incircle==False)[0]], 'r.')\n",
        "plt.axis('equal')\n",
        "plt.xlabel('x')\n",
        "plt.ylabel('y');"
      ]
    },
    {
      "cell_type": "markdown",
      "metadata": {
        "colab_type": "text",
        "id": "W1Hcg1sLzuby",
        "slideshow": {
          "slide_type": "slide"
        }
      },
      "source": [
        "Combine all the relevant code above, so we can easily run this numerical experiment for different sample size N."
      ]
    },
    {
      "cell_type": "code",
      "execution_count": 20,
      "metadata": {
        "colab": {
          "base_uri": "https://localhost:8080/",
          "height": 34
        },
        "colab_type": "code",
        "id": "1adLD05ivgXo",
        "outputId": "cc11d838-499f-4400-ae09-235763a87940",
        "slideshow": {
          "slide_type": "-"
        }
      },
      "outputs": [],
      "source": [
        "N = 10**2\n",
        "samples = np.random.rand(2, N)\n",
        "xy = samples * 2 - 1.0 # scale sample points\n",
        "r = np.sqrt(xy[0, :]**2 + xy[1, :]**2)  # calculate radius\n",
        "incircle = (r <= 1)\n",
        "count_incircle = incircle.sum()\n",
        "A_approx = (2*2) * (count_incircle)/N\n",
        "print(A_approx)"
      ]
    },
    {
      "cell_type": "markdown",
      "metadata": {
        "colab_type": "text",
        "id": "lZHO_7iY0QUM",
        "slideshow": {
          "slide_type": "slide"
        }
      },
      "source": [
        "Perform the same above, but now store the approximated area for different N, and plot:"
      ]
    },
    {
      "cell_type": "code",
      "execution_count": 21,
      "metadata": {
        "colab": {},
        "colab_type": "code",
        "id": "WW315PBL0DVU",
        "slideshow": {
          "slide_type": "-"
        }
      },
      "outputs": [],
      "source": [
        "N = 10**6\n",
        "samples = np.random.rand(2, N)\n",
        "xy = samples * 2 - 1.0 # scale sample points\n",
        "r = np.sqrt(xy[0, :]**2 + xy[1, :]**2)  # calculate radius\n",
        "incircle = (r <= 1)\n",
        "\n",
        "plt.figure(figsize=(10,6))\n",
        "plt.plot(xy[0,np.where(incircle)[0]], xy[1,np.where(incircle)[0]], 'b.')\n",
        "plt.plot(xy[0,np.where(incircle==False)[0]], xy[1,np.where(incircle==False)[0]], 'r.')\n",
        "plt.axis('equal')\n",
        "\n",
        "N_samples = np.arange(1,N+1)\n",
        "A_approx = 4 * incircle.cumsum() / N_samples\n",
        "\n",
        "print('The approximated area is ', A_approx[-1] )"
      ]
    },
    {
      "cell_type": "code",
      "execution_count": 22,
      "metadata": {
        "colab": {
          "base_uri": "https://localhost:8080/",
          "height": 282
        },
        "colab_type": "code",
        "id": "f5P8RBO82H-b",
        "outputId": "28a8d28a-7128-4d65-da33-802aae137c84",
        "slideshow": {
          "slide_type": "slide"
        }
      },
      "outputs": [],
      "source": [
        "plt.figure(figsize=(10,6))\n",
        "plt.plot(A_approx)"
      ]
    },
    {
      "cell_type": "markdown",
      "metadata": {
        "colab_type": "text",
        "id": "qxdOIwO41CYj",
        "slideshow": {
          "slide_type": "-"
        }
      },
      "source": [
        "Which as expected gives an approximation for the number $\\pi$, since the circle has radius 1."
      ]
    },
    {
      "cell_type": "markdown",
      "metadata": {
        "slideshow": {
          "slide_type": "slide"
        }
      },
      "source": [
        "Let's plot the error of our approximation:"
      ]
    },
    {
      "cell_type": "code",
      "execution_count": 23,
      "metadata": {
        "colab": {
          "base_uri": "https://localhost:8080/",
          "height": 300
        },
        "colab_type": "code",
        "id": "DBsy2SHj0v9C",
        "outputId": "652d44ab-5f18-433a-d48a-f7c270e944d8",
        "slideshow": {
          "slide_type": "-"
        }
      },
      "outputs": [],
      "source": [
        "plt.figure(figsize=(10,6))\n",
        "plt.loglog(N_samples, np.abs(A_approx - np.pi), '.')\n",
        "plt.xlabel('n')\n",
        "plt.ylabel('error')"
      ]
    },
    {
      "cell_type": "code",
      "execution_count": 24,
      "metadata": {
        "colab": {
          "base_uri": "https://localhost:8080/",
          "height": 300
        },
        "colab_type": "code",
        "id": "buaZ18zO1Yuh",
        "outputId": "ec1bd9d7-f1f1-4936-f2e4-d007b01a1dd8",
        "slideshow": {
          "slide_type": "slide"
        }
      },
      "outputs": [],
      "source": [
        "plt.figure(figsize=(8,6));\n",
        "plt.loglog(N_samples, np.abs(A_approx - np.pi), '.');\n",
        "plt.xlabel('n');\n",
        "plt.ylabel('error');\n",
        "plt.loglog(N_samples, 1/N_samples**2, '.');\n",
        "plt.loglog(N_samples, 1/N_samples, 'r');\n",
        "plt.loglog(N_samples, 1/np.sqrt(N_samples), 'm');"
      ]
    },
    {
      "cell_type": "markdown",
      "metadata": {},
      "source": [
        "The asymptotic behavior of the error resulting from Monte Carlo methods is\n",
        "\n",
        "$$ O\\left(\\frac{1}{\\sqrt{N}}\\right) $$\n",
        " \n",
        "where $N$ is the number of samples.\n"
      ]
    },
    {
      "cell_type": "code",
      "execution_count": 25,
      "metadata": {
        "colab": {
          "base_uri": "https://localhost:8080/",
          "height": 333
        },
        "colab_type": "code",
        "id": "RSlwPXwE25pp",
        "outputId": "80f3269e-bb25-42e1-cee4-89aea08c0e12",
        "slideshow": {
          "slide_type": "slide"
        }
      },
      "outputs": [],
      "source": [
        "N = 10**4 # number of sample points\n",
        "M = 1000  # number of numerical experiments\n",
        "\n",
        "A_list = []\n",
        "\n",
        "for i in range(M):\n",
        "    samples = np.random.rand(2, N)\n",
        "    xy = samples * 2 - 1.0 # scale sample points\n",
        "    r = np.sqrt(xy[0, :]**2 + xy[1, :]**2)  # calculate radius\n",
        "    incircle = (r <= 1)\n",
        "    count_incircle = incircle.sum()\n",
        "    A_list.append( (2*2) * (count_incircle)/N )\n",
        "\n",
        "A_array = np.array(A_list)\n",
        "\n",
        "plt.hist(A_list)\n",
        "plt.xlim([2.6,3.6])"
      ]
    },
    {
      "cell_type": "markdown",
      "metadata": {
        "slideshow": {
          "slide_type": "-"
        }
      },
      "source": [
        "**By increasing the number of sample points, we reduce the variance of the distribution.**"
      ]
    },
    {
      "cell_type": "markdown",
      "metadata": {
        "slideshow": {
          "slide_type": "slide"
        }
      },
      "source": [
        "### Example 3 - Calculating a Volume of Intersection\n",
        "\n",
        "In this exercise, we will use Monte Carlo integration to compute a volume of intersection between two cylinders. This integral is possible to compute analytically, so we can compare our answer to the true result and see how accurate it is.\n",
        "\n",
        "The solid common to two right circular cylinders of equal radii intersecting at right angles is called the Steinmetz solid.\n",
        "\n",
        "Two cylinders intersecting at right angles are called a bicylinder or mouhefanggai (Chinese for \"two square umbrellas\").\n",
        "\n",
        "![](steinmetz.JPG)\n",
        "\n",
        "http://mathworld.wolfram.com/SteinmetzSolid.html\n"
      ]
    },
    {
      "cell_type": "markdown",
      "metadata": {
        "slideshow": {
          "slide_type": "slide"
        }
      },
      "source": [
        "#### a) Write a function that will determine if a given point is inside both cylinders\n",
        "\n",
        "Write the function `insideCylinders` that given a NumPy array representing some arbitrary point in a 3-dimensional space returns `true` if the point is inside both cylinders. Assume the solid is centered at the origin, the cylinders are along the $x$ and $z$ axes and both have radius $r$\n",
        "\n",
        "```python\n",
        "def insideCylinders(pos,r):\n",
        "    # pos = np.array([x,y,z])\n",
        "    # r = radius of the cylinders\n",
        "    return bool\n",
        "```"
      ]
    },
    {
      "cell_type": "code",
      "execution_count": 26,
      "metadata": {},
      "outputs": [],
      "source": []
    },
    {
      "cell_type": "markdown",
      "metadata": {},
      "source": [
        "#### b) Write a function to evaluate the probability the point is inside the given volume\n",
        "The function `prob_inside_volume` should take as argument the number of random points N.\n",
        "\n",
        "The function generate N random points inside a box around the intersection of the cylinders, and uses the function `insideCylinders` to determine if the point is inside the cylinders or not. Recall that these random points should be generated in a form of a NumPy array.\n",
        "\n",
        "Track the number of points $C$ that fall inside both cylinders. Return the ratio $C/N$ as a floating point number.\n",
        "\n",
        "```python\n",
        "def prob_inside_volume(N,r):\n",
        "    # N = number of sample points\n",
        "    # r = radius of the cylinders\n",
        "    return float\n",
        "```"
      ]
    },
    {
      "cell_type": "code",
      "execution_count": 27,
      "metadata": {},
      "outputs": [],
      "source": []
    },
    {
      "cell_type": "markdown",
      "metadata": {},
      "source": [
        "#### c) Use the ratio $\\frac{C}{N}$ to estimate the volume of intersection"
      ]
    },
    {
      "cell_type": "markdown",
      "metadata": {},
      "source": [
        "To approximate the volume of the intersection, we use:\n",
        "\n",
        "$$ V_N = V_D \\frac{1}{N} \\sum_{i=1}^{N} f(X_i) =  V_D \\frac{C}{N} $$\n",
        "\n",
        "where $ V_D$ is the volume of the domain used to generate the sample points. In this example, we considered the domain as the box around the intersection of the cylinders, hence \n",
        "\n",
        "$$ V_D = (2r)^3 $$"
      ]
    },
    {
      "cell_type": "markdown",
      "metadata": {},
      "source": [
        "Use your function `prob_inside_volume` to approximate the volume $V_{N}$ for $N = 1000$ for cylinders of radius 1."
      ]
    },
    {
      "cell_type": "code",
      "execution_count": 28,
      "metadata": {},
      "outputs": [],
      "source": [
        "N = 1000\n",
        "r = 1\n",
        "Vn = ...\n",
        "\n",
        "print(Vn)"
      ]
    },
    {
      "cell_type": "markdown",
      "metadata": {},
      "source": [
        "#### d) Comparing with the exact solution"
      ]
    },
    {
      "cell_type": "markdown",
      "metadata": {},
      "source": [
        "Two cylinders of radius r oriented long the z- and x-axes gives the equations $x^2+y^2=r^2$ and $y^2+z^2=r^2$ \n",
        "\n",
        "The volume common to two cylinders was known to Archimedes and the Chinese mathematician Tsu Ch'ung-Chih, and does not require calculus to derive. Using calculus provides a simple derivation, however. The volume is given by\n",
        "\n",
        "$$\ud835\udc49 = \\int_{-r}^{r}(2 \\sqrt{\ud835\udc5f^2\u2212\ud835\udc67^2})^2 \ud835\udc51\ud835\udc67= \\frac{16}{3}\ud835\udc5f^3$$"
      ]
    },
    {
      "cell_type": "markdown",
      "metadata": {},
      "source": [
        "Use your function `prob_inside_volume` to approximate the volume $V_{N}$ for increasing values of $N$ defined in `Nvalues`. Store each $V_{N}$ in a list `approxVol`. Plot $N$ vs $V_{N}$."
      ]
    },
    {
      "cell_type": "code",
      "execution_count": 29,
      "metadata": {},
      "outputs": [],
      "source": [
        "Nvalues = [(10**N) for N in range(1,6)]"
      ]
    },
    {
      "cell_type": "code",
      "execution_count": 30,
      "metadata": {},
      "outputs": [],
      "source": [
        "approxVol = []\n",
        "\n",
        "\n",
        "plt.plot(Nvalues,approxVol)"
      ]
    },
    {
      "cell_type": "markdown",
      "metadata": {},
      "source": [
        "Compute the absolute error, using the exact expression given above. Plot $N$ vs $error$.  Compare with the known asymptotic behavior of the error $O(1/\\sqrt{N})$ "
      ]
    },
    {
      "cell_type": "code",
      "execution_count": 31,
      "metadata": {},
      "outputs": [],
      "source": [
        "r = 1\n",
        "trueVol = (16.0/3.0)*r**3\n",
        "plt.loglog(Nvalues,np.abs(np.array(approxVol)-trueVol))\n",
        "plt.loglog(Nvalues, 1/np.sqrt(Nvalues), 'm')"
      ]
    },
    {
      "cell_type": "code",
      "execution_count": null,
      "metadata": {},
      "outputs": [],
      "source": []
    }
  ],
  "metadata": {
    "colab": {
      "name": "MonteCarloMethods.ipynb",
      "provenance": [],
      "toc_visible": true
    },
    "kernelspec": {
      "display_name": "Python 3",
      "language": "python",
      "name": "python3"
    },
    "language_info": {
      "codemirror_mode": {
        "name": "ipython",
        "version": 3
      },
      "file_extension": ".py",
      "mimetype": "text/x-python",
      "name": "python",
      "nbconvert_exporter": "python",
      "pygments_lexer": "ipython3",
      "version": "3.8.0"
    },
    "rise": {
      "enable_chalkboard": true
    }
  },
  "nbformat": 4,
  "nbformat_minor": 1
}