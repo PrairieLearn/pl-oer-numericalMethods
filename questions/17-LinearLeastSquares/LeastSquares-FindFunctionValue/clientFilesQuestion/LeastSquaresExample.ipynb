{
 "cells": [
  {
   "cell_type": "code",
   "execution_count": 3,
   "metadata": {
    "collapsed": true
   },
   "outputs": [],
   "source": [
    "import numpy as np\n",
    "import numpy.linalg as la\n",
    "import matplotlib.pyplot as plt\n",
    "%matplotlib inline"
   ]
  },
  {
   "cell_type": "code",
   "execution_count": 4,
   "metadata": {},
   "outputs": [],
   "source": [
    "def feval(t):\n",
    "    return 1/(1+np.exp(-t))"
   ]
  },
  {
   "cell_type": "code",
   "execution_count": 16,
   "metadata": {},
   "outputs": [
    {
     "data": {
      "image/png": "[encoded data removed]",
      "text/plain": [
       "<matplotlib.figure.Figure at 0x11bd47518>"
      ]
     },
     "metadata": {},
     "output_type": "display_data"
    }
   ],
   "source": [
    "m = 30\n",
    "x = np.linspace(-4, 4, m)\n",
    "y = feval(x)\n",
    "for i in range(m):\n",
    "    if abs(x[i]) < 3:\n",
    "        y[i] += 0.15*np.random.rand()\n",
    "plt.plot(x,y,'o')\n",
    "plt.xlabel('x');\n",
    "plt.ylabel('y');"
   ]
  },
  {
   "cell_type": "code",
   "execution_count": 6,
   "metadata": {
    "collapsed": true
   },
   "outputs": [],
   "source": [
    "def func(n,t,coeffs):\n",
    "    f = 0*t\n",
    "    for i in range(n+1):\n",
    "        f = f + coeffs[i]*t**i    \n",
    "    return f"
   ]
  },
  {
   "cell_type": "code",
   "execution_count": 12,
   "metadata": {},
   "outputs": [
    {
     "name": "stdout",
     "output_type": "stream",
     "text": [
      "sigma =  [  7.53476170e+03   1.98828802e+03   9.60192799e+01   3.26428520e+01\n",
      "   5.95247764e+00   2.89355192e+00   2.14098618e+00]\n",
      "[  5.93196455e-01   2.44186620e-01  -6.86039782e-03  -1.30789266e-02\n",
      "  -2.83965123e-04   3.36281974e-04   2.08771079e-05]\n",
      "[  5.93196455e-01   2.44186620e-01  -6.86039782e-03  -1.30789266e-02\n",
      "  -2.83965123e-04   3.36281974e-04   2.08771079e-05]\n",
      "[  5.93196455e-01   2.44186620e-01  -6.86039782e-03  -1.30789266e-02\n",
      "  -2.83965123e-04   3.36281974e-04   2.08771079e-05]\n",
      "3519.29488441\n"
     ]
    }
   ],
   "source": [
    "n = 6# polynomial degree\n",
    "A = np.array([\n",
    "    x**i\n",
    "    for i in range(n+1)\n",
    "    ]).T\n",
    "\n",
    "\n",
    "U, sigma, VT = la.svd(A,full_matrices=False)\n",
    "coeffs = VT.T@((U.T@y) / sigma)\n",
    "print(\"sigma = \",sigma)\n",
    "print(coeffs)\n",
    "\n",
    "coeffs,residual,rank,sval = la.lstsq(A,y)\n",
    "print(coeffs)\n",
    "\n",
    "coeffs = la.solve(A.T@A,A.T@y)\n",
    "print(coeffs)\n",
    "\n",
    "print(la.cond(A))"
   ]
  },
  {
   "cell_type": "code",
   "execution_count": 13,
   "metadata": {},
   "outputs": [
    {
     "data": {
      "text/plain": [
       "[<matplotlib.lines.Line2D at 0x11bb08b00>]"
      ]
     },
     "execution_count": 13,
     "metadata": {},
     "output_type": "execute_result"
    },
    {
     "data": {
      "image/png": "[encoded data removed]",
      "text/plain": [
       "<matplotlib.figure.Figure at 0x11bb08d30>"
      ]
     },
     "metadata": {},
     "output_type": "display_data"
    }
   ],
   "source": [
    "plt.plot(x, y, \"o\")\n",
    "plt.plot(x,func(n,x,coeffs))"
   ]
  },
  {
   "cell_type": "code",
   "execution_count": null,
   "metadata": {
    "collapsed": true
   },
   "outputs": [],
   "source": []
  },
  {
   "cell_type": "code",
   "execution_count": null,
   "metadata": {
    "collapsed": true
   },
   "outputs": [],
   "source": []
  }
 ],
 "metadata": {
  "kernelspec": {
   "display_name": "Python 3",
   "language": "python",
   "name": "python3"
  },
  "language_info": {
   "codemirror_mode": {
    "name": "ipython",
    "version": 3
   },
   "file_extension": ".py",
   "mimetype": "text/x-python",
   "name": "python",
   "nbconvert_exporter": "python",
   "pygments_lexer": "ipython3",
   "version": "3.6.3"
  }
 },
 "nbformat": 4,
 "nbformat_minor": 2
}
