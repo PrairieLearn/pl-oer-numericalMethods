{
 "cells": [
  {
   "cell_type": "code",
   "execution_count": 1,
   "metadata": {
    "collapsed": true
   },
   "outputs": [],
   "source": [
    "import numpy as np\n",
    "import random\n",
    "import numpy.linalg as la\n",
    "import matplotlib.pyplot as plt\n",
    "%matplotlib inline\n",
    "import csv"
   ]
  },
  {
   "cell_type": "markdown",
   "metadata": {},
   "source": [
    "## Setup code - creating the \"fake\" data"
   ]
  },
  {
   "cell_type": "code",
   "execution_count": 2,
   "metadata": {},
   "outputs": [
    {
     "data": {
      "text/plain": [
       "[<matplotlib.lines.Line2D at 0x10e1b6b38>]"
      ]
     },
     "execution_count": 2,
     "metadata": {},
     "output_type": "execute_result"
    },
    {
     "data": {
      "image/png": "[encoded data removed]",
      "text/plain": [
       "<matplotlib.figure.Figure at 0x1091b2668>"
      ]
     },
     "metadata": {},
     "output_type": "display_data"
    }
   ],
   "source": [
    "def feval(t):\n",
    "    return 1/(1+np.exp(-t))\n",
    "x = np.linspace(-4, 4, 20)\n",
    "plt.plot(x,feval(x))"
   ]
  },
  {
   "cell_type": "code",
   "execution_count": 3,
   "metadata": {},
   "outputs": [
    {
     "data": {
      "text/plain": [
       "[<matplotlib.lines.Line2D at 0x111540710>]"
      ]
     },
     "execution_count": 3,
     "metadata": {},
     "output_type": "execute_result"
    },
    {
     "data": {
      "image/png": "[encoded data removed]",
      "text/plain": [
       "<matplotlib.figure.Figure at 0x1070ee8d0>"
      ]
     },
     "metadata": {},
     "output_type": "display_data"
    }
   ],
   "source": [
    "m = 30\n",
    "x = np.linspace(-4, 4, m)\n",
    "y = feval(x)\n",
    "for i in range(m):\n",
    "    if abs(x[i]) < 3:\n",
    "        y[i] += 0.15*np.random.rand()\n",
    "plt.plot(x,y,'o')"
   ]
  },
  {
   "cell_type": "markdown",
   "metadata": {},
   "source": [
    "## Answer code"
   ]
  },
  {
   "cell_type": "code",
   "execution_count": 4,
   "metadata": {
    "collapsed": true
   },
   "outputs": [],
   "source": [
    "def func(n,t,coeffs):\n",
    "    f = 0*t\n",
    "    for i in range(n+1):\n",
    "        f = f + coeffs[i]*t**i    \n",
    "    return f"
   ]
  },
  {
   "cell_type": "code",
   "execution_count": 14,
   "metadata": {
    "scrolled": true
   },
   "outputs": [
    {
     "name": "stdout",
     "output_type": "stream",
     "text": [
      "709.336633966\n",
      "[  5.57512211e-01   2.20716407e-01   5.11565066e-04  -8.31352522e-03\n",
      "  -3.11889434e-04   1.21252966e-04]\n"
     ]
    }
   ],
   "source": [
    "n = 5\n",
    "A = np.array([\n",
    "    x**i\n",
    "    for i in range(n+1)\n",
    "    ]).T\n",
    "\n",
    "print(la.cond(A))\n",
    "\n",
    "coeffs,residual,rank,sval=la.lstsq(A,y)\n",
    "print(coeffs)"
   ]
  },
  {
   "cell_type": "code",
   "execution_count": 6,
   "metadata": {},
   "outputs": [
    {
     "name": "stdout",
     "output_type": "stream",
     "text": [
      "[  5.57512211e-01   2.20716407e-01   5.11565066e-04  -8.31352522e-03\n",
      "  -3.11889434e-04   1.21252966e-04]\n"
     ]
    }
   ],
   "source": [
    "coeffNE = la.solve(A.T@A,A.T@y)\n",
    "print(coeffNE)"
   ]
  },
  {
   "cell_type": "code",
   "execution_count": 7,
   "metadata": {},
   "outputs": [
    {
     "name": "stdout",
     "output_type": "stream",
     "text": [
      "[  5.57512211e-01   2.20716407e-01   5.11565066e-04  -8.31352522e-03\n",
      "  -3.11889434e-04   1.21252966e-04]\n"
     ]
    }
   ],
   "source": [
    "#clear\n",
    "U, sigma, VT = la.svd(A,full_matrices=False)\n",
    "xsol = VT.T@((U.T@y) / sigma)\n",
    "print(xsol)"
   ]
  },
  {
   "cell_type": "code",
   "execution_count": 8,
   "metadata": {},
   "outputs": [
    {
     "name": "stdout",
     "output_type": "stream",
     "text": [
      "[ 1988.28802255   533.2329879     32.64285203    12.29325923     2.89355192\n",
      "     2.80302458]\n"
     ]
    }
   ],
   "source": [
    "print(sigma)"
   ]
  },
  {
   "cell_type": "code",
   "execution_count": 9,
   "metadata": {},
   "outputs": [
    {
     "data": {
      "text/plain": [
       "[<matplotlib.lines.Line2D at 0x1114a3940>]"
      ]
     },
     "execution_count": 9,
     "metadata": {},
     "output_type": "execute_result"
    },
    {
     "data": {
      "image/png": "[encoded data removed]",
      "text/plain": [
       "<matplotlib.figure.Figure at 0x1114a3d68>"
      ]
     },
     "metadata": {},
     "output_type": "display_data"
    }
   ],
   "source": [
    "plt.plot(x,y,'o')\n",
    "plt.plot(x,func(n,x,coeffs),'m')"
   ]
  },
  {
   "cell_type": "code",
   "execution_count": 10,
   "metadata": {},
   "outputs": [
    {
     "data": {
      "text/plain": [
       "[<matplotlib.lines.Line2D at 0x111881cc0>]"
      ]
     },
     "execution_count": 10,
     "metadata": {},
     "output_type": "execute_result"
    },
    {
     "data": {
      "image/png": "[encoded data removed]",
      "text/plain": [
       "<matplotlib.figure.Figure at 0x111881c50>"
      ]
     },
     "metadata": {},
     "output_type": "display_data"
    }
   ],
   "source": [
    "plt.plot(x,y,'o')\n",
    "plt.plot(x,func(n,x,coeffNE),'m')"
   ]
  },
  {
   "cell_type": "code",
   "execution_count": 11,
   "metadata": {},
   "outputs": [
    {
     "name": "stdout",
     "output_type": "stream",
     "text": [
      "1.24554533354e-12 1.14369839744e-10\n",
      "3.91248144993e-12 -5.75903052442e-11\n",
      "9.88875648034e-12 -3.29932923692e-11\n",
      "2.15718554131e-11 -2.4031693322e-11\n"
     ]
    }
   ],
   "source": [
    "for i in range(4,8):\n",
    "    errorA = (func(n,-i,coeffs) - func(n,-i,coeffNE))\n",
    "    errorR = errorA/func(n,-i,coeffs)\n",
    "    print(errorA,errorR)"
   ]
  },
  {
   "cell_type": "code",
   "execution_count": 12,
   "metadata": {},
   "outputs": [
    {
     "name": "stdout",
     "output_type": "stream",
     "text": [
      "-0.299720208874\n"
     ]
    }
   ],
   "source": [
    "print(func(n,-6,coeffs))"
   ]
  },
  {
   "cell_type": "code",
   "execution_count": 13,
   "metadata": {},
   "outputs": [
    {
     "name": "stdout",
     "output_type": "stream",
     "text": [
      "-0.299720208883\n"
     ]
    }
   ],
   "source": [
    "print(func(n,-6,coeffNE))"
   ]
  },
  {
   "cell_type": "code",
   "execution_count": null,
   "metadata": {
    "collapsed": true
   },
   "outputs": [],
   "source": []
  }
 ],
 "metadata": {
  "kernelspec": {
   "display_name": "Python 3",
   "language": "python",
   "name": "python3"
  },
  "language_info": {
   "codemirror_mode": {
    "name": "ipython",
    "version": 3
   },
   "file_extension": ".py",
   "mimetype": "text/x-python",
   "name": "python",
   "nbconvert_exporter": "python",
   "pygments_lexer": "ipython3",
   "version": "3.6.3"
  }
 },
 "nbformat": 4,
 "nbformat_minor": 2
}
