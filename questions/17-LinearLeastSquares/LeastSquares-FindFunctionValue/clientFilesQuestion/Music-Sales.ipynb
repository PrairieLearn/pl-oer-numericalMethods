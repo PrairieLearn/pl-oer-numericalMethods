{
 "cells": [
  {
   "cell_type": "markdown",
   "metadata": {},
   "source": [
    "# Data Fitting with Least Squares"
   ]
  },
  {
   "cell_type": "code",
   "execution_count": 53,
   "metadata": {
    "collapsed": true
   },
   "outputs": [],
   "source": [
    "import numpy as np\n",
    "import numpy.linalg as la\n",
    "import matplotlib.pyplot as plt\n",
    "import random\n",
    "%matplotlib inline"
   ]
  },
  {
   "cell_type": "markdown",
   "metadata": {},
   "source": [
    "https://www.riaa.com/u-s-sales-database/"
   ]
  },
  {
   "cell_type": "code",
   "execution_count": 54,
   "metadata": {},
   "outputs": [
    {
     "name": "stdout",
     "output_type": "stream",
     "text": [
      "36 36\n"
     ]
    }
   ],
   "source": [
    "CassetteSales = np.array([15,15.3,16.2,21.8,36.9,61.3,78.5,99,124,183.2,\n",
    "       236.8,332,339.1,344.5,410,450.1,446.2,442.2,\n",
    "       360.1,366.4,339.5,345.4,272.6,225.3,172.6,\n",
    "        158.5,123.6,76,45,31.1,17.2,5.2,2.5,0.7,0.4,0.1])\n",
    "year = np.array(range(1973,2009))\n",
    "print(len(CassetteSales),len(year))"
   ]
  },
  {
   "cell_type": "code",
   "execution_count": 55,
   "metadata": {},
   "outputs": [
    {
     "data": {
      "text/plain": [
       "[<matplotlib.lines.Line2D at 0x11aa19358>]"
      ]
     },
     "execution_count": 55,
     "metadata": {},
     "output_type": "execute_result"
    },
    {
     "data": {
      "image/png": "[encoded data removed]",
      "text/plain": [
       "<matplotlib.figure.Figure at 0x11a9465f8>"
      ]
     },
     "metadata": {},
     "output_type": "display_data"
    }
   ],
   "source": [
    "pt.plot(year, CassetteSales, \"o\")"
   ]
  },
  {
   "cell_type": "markdown",
   "metadata": {},
   "source": [
    "## Creating fake data random"
   ]
  },
  {
   "cell_type": "code",
   "execution_count": 67,
   "metadata": {},
   "outputs": [
    {
     "data": {
      "text/plain": [
       "[<matplotlib.lines.Line2D at 0x11ad10710>]"
      ]
     },
     "execution_count": 67,
     "metadata": {},
     "output_type": "execute_result"
    },
    {
     "data": {
      "image/png": "[encoded data removed]",
      "text/plain": [
       "<matplotlib.figure.Figure at 0x11ac57be0>"
      ]
     },
     "metadata": {},
     "output_type": "display_data"
    }
   ],
   "source": [
    "index = [[7,8,9],[12,13,14],[19,20,21],[24,25,26]]\n",
    "choice_i = random.randint(0,3)\n",
    "\n",
    "x = year - 1973#np.delete(year,index[choice_i]) - 1973\n",
    "y = CassetteSales #np.delete(CassetteSales,index[choice_i])\n",
    "\n",
    "pt.plot(x, y, \"o\")"
   ]
  },
  {
   "cell_type": "code",
   "execution_count": 68,
   "metadata": {
    "collapsed": true
   },
   "outputs": [],
   "source": [
    "def func(n,t,coeffs):\n",
    "    f = 0*t\n",
    "    for i in range(n+1):\n",
    "        f = f + coeffs[i]*t**i    \n",
    "    return f"
   ]
  },
  {
   "cell_type": "code",
   "execution_count": 71,
   "metadata": {},
   "outputs": [
    {
     "name": "stdout",
     "output_type": "stream",
     "text": [
      "sigma =  [  1.01152966e+08   3.14656151e+05   2.79934929e+03   6.07419323e+01\n",
      "   3.82145336e+00   1.10929318e+00]\n",
      "[  5.72573734e+01  -6.51656089e+01   1.72565615e+01  -1.10511676e+00\n",
      "   2.61803209e-02  -2.05580695e-04]\n",
      "[  5.72573734e+01  -6.51656089e+01   1.72565615e+01  -1.10511676e+00\n",
      "   2.61803209e-02  -2.05580695e-04]\n",
      "[  5.72573736e+01  -6.51656089e+01   1.72565615e+01  -1.10511676e+00\n",
      "   2.61803209e-02  -2.05580695e-04]\n",
      "91186863.3526\n"
     ]
    }
   ],
   "source": [
    "n = 5# polynomial degree\n",
    "A = np.array([\n",
    "    x**i\n",
    "    for i in range(n+1)\n",
    "    ]).T\n",
    "\n",
    "\n",
    "U, sigma, VT = la.svd(A,full_matrices=False)\n",
    "coeffs = VT.T@((U.T@y) / sigma)\n",
    "print(\"sigma = \",sigma)\n",
    "print(coeffs)\n",
    "\n",
    "coeffs,residual,rank,sval = la.lstsq(A,y)\n",
    "print(coeffs)\n",
    "\n",
    "coeffs = la.solve(A.T@A,A.T@y)\n",
    "print(coeffs)\n",
    "\n",
    "print(la.cond(A))"
   ]
  },
  {
   "cell_type": "code",
   "execution_count": 72,
   "metadata": {},
   "outputs": [
    {
     "data": {
      "text/plain": [
       "[<matplotlib.lines.Line2D at 0x11ae9a748>]"
      ]
     },
     "execution_count": 72,
     "metadata": {},
     "output_type": "execute_result"
    },
    {
     "data": {
      "image/png": "[encoded data removed]",
      "text/plain": [
       "<matplotlib.figure.Figure at 0x11aded668>"
      ]
     },
     "metadata": {},
     "output_type": "display_data"
    }
   ],
   "source": [
    "pt.plot(x, y, \"o\")\n",
    "pt.plot(func(n,x,coeffs))"
   ]
  },
  {
   "cell_type": "code",
   "execution_count": null,
   "metadata": {
    "collapsed": true
   },
   "outputs": [],
   "source": []
  }
 ],
 "metadata": {
  "kernelspec": {
   "display_name": "Python 3",
   "language": "python",
   "name": "python3"
  },
  "language_info": {
   "codemirror_mode": {
    "name": "ipython",
    "version": 3
   },
   "file_extension": ".py",
   "mimetype": "text/x-python",
   "name": "python",
   "nbconvert_exporter": "python",
   "pygments_lexer": "ipython3",
   "version": "3.6.3"
  },
  "widgets": {
   "state": {},
   "version": "1.1.2"
  }
 },
 "nbformat": 4,
 "nbformat_minor": 1
}
