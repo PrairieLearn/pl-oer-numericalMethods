{
  "cells": [
    {
      "cell_type": "code",
      "execution_count": 6,
      "metadata": {},
      "outputs": [],
      "source": [
        "import numpy as np\n",
        "import numpy.linalg as la\n",
        "import matplotlib.pyplot as plt\n",
        "import sys\n",
        "%matplotlib inline\n",
        "\n",
        "from graph import *"
      ]
    },
    {
      "cell_type": "markdown",
      "metadata": {},
      "source": [
        "# Review of graphs and adjacency matrices\n",
        "\n",
        "How can we write the graph below as an adjacency matrix? "
      ]
    },
    {
      "cell_type": "code",
      "execution_count": 7,
      "metadata": {},
      "outputs": [],
      "source": [
        "make_graph_adj_random(4)"
      ]
    },
    {
      "cell_type": "markdown",
      "metadata": {},
      "source": [
        "Remember that:\n",
        "\n",
        "$A_{ij} = 1$ if the node $j$ has an outgoing edge (arrow) going to node $i$ \n",
        "\n",
        "$A_{ij} = 0$ otherwise\n",
        "\n",
        "Hence the rows indicate incoming edges to a specific node and columns indicate outgoing edges from a specific node.\n",
        "\n",
        "Write the adjacency matrix A of the above graph:"
      ]
    },
    {
      "cell_type": "code",
      "execution_count": 9,
      "metadata": {},
      "outputs": [],
      "source": []
    },
    {
      "cell_type": "markdown",
      "metadata": {},
      "source": [
        "You can call the helper function:\n",
        "```python    \n",
        "graph.graph_matrix(mat, mat_label=None, show_weights=True, round_digits=3)\n",
        "# mat: 2d numpy array of shape (n,n) with the adjacency matrix\n",
        "# mat_label: 1d numpy array of shape (n,) with optional labels for the nodes\n",
        "# show_weights: boolean - option to display the weights of the edges\n",
        "# round_digits: integer - number of digits to display when showing the edge weights\n",
        "```\n",
        "to check if you get the same graph. Since in this example all the edge weights are zero, you should use `show_weights=False`"
      ]
    },
    {
      "cell_type": "code",
      "execution_count": 10,
      "metadata": {},
      "outputs": [],
      "source": []
    },
    {
      "cell_type": "markdown",
      "metadata": {},
      "source": [
        "# Transition matrices\n",
        "\n",
        "### Using graphs to represent the transition from one state to the other"
      ]
    },
    {
      "cell_type": "markdown",
      "metadata": {},
      "source": [
        "After collecting data about the weather for many years, you observed that the chance of a rainy day occurring after one rainy day is 50% and that the chance of a rainy day after one sunny day is 10%. \n",
        "\n",
        "The graph that represents the transition from the weather on day 1 to the weather on day 2 can be expressed as an adjacency matrix, where the edge weights are the probabilities of weather conditions. We call that the transition matrix.\n",
        "\n",
        "Write the transition matrix ${\\bf A}$ for the weather observation described above, and use the helper function to plot the graph. Your graph will look better if you assign the labels for your nodes, for example, use the label `['sunny','rainy']`\n"
      ]
    },
    {
      "cell_type": "code",
      "execution_count": 11,
      "metadata": {},
      "outputs": [],
      "source": []
    },
    {
      "cell_type": "markdown",
      "metadata": {},
      "source": [
        "### Properties of a transition (Markov) matrix"
      ]
    },
    {
      "cell_type": "markdown",
      "metadata": {},
      "source": [
        "- $A_{ij}$ entry of a transition matrix has the probability of transitioning from state $j$ to state $i$\n",
        "\n",
        "- Since the entries are probabilities, they are always non-negative real numbers, and the columns should add up to one.\n"
      ]
    },
    {
      "cell_type": "markdown",
      "metadata": {},
      "source": [
        "### The weather today is sunny. What is the probability of sunny day tomorrow?"
      ]
    },
    {
      "cell_type": "markdown",
      "metadata": {},
      "source": [
        "The answer to this question is quite trivial, and in this example, we can directly get that information from the graph.\n",
        "But how could we obtain the same as a matrix-vector multiplication?\n",
        "\n",
        "Write the numpy array ${\\bf x0}$ representing the current state, which is the weather today. Your vector should be consistent with the transition matrix. If the first column of ${\\bf A}$ corresponded to transitioning **from** a sunny day, the first entry of the state vector should be sunny."
      ]
    },
    {
      "cell_type": "code",
      "execution_count": 12,
      "metadata": {},
      "outputs": [],
      "source": [
        "x0 = np.array([1,0])"
      ]
    },
    {
      "cell_type": "markdown",
      "metadata": {},
      "source": [
        "You can now obtain the probabilities for tomorrow weather by performing a matrix-vector multiplication:"
      ]
    },
    {
      "cell_type": "code",
      "execution_count": 13,
      "metadata": {},
      "outputs": [],
      "source": [
        "x1 = A@x0\n",
        "print(x1)"
      ]
    },
    {
      "cell_type": "markdown",
      "metadata": {},
      "source": [
        "### The weather today (Thursday) is sunny. What is the probability of rain on Sunday? Should I keep my plans for a barbecue?"
      ]
    },
    {
      "cell_type": "code",
      "execution_count": 14,
      "metadata": {},
      "outputs": [],
      "source": []
    },
    {
      "cell_type": "markdown",
      "metadata": {},
      "source": [
        "### What is the probability of sunny days in the long run? \n",
        "\n",
        "Let's run power iteration for the equivalent of 20 days. We will store all the state vectors ${\\bf x}$ as columns of a matrix, so that we can plot the results later.\n",
        "\n",
        "We will store all iterations in `allx` in order to view the running probabilities later."
      ]
    },
    {
      "cell_type": "code",
      "execution_count": 19,
      "metadata": {},
      "outputs": [],
      "source": [
        "its = 20\n",
        "allx = np.zeros((2,its))"
      ]
    },
    {
      "cell_type": "markdown",
      "metadata": {},
      "source": [
        "We will start with the initial state of rainy day:"
      ]
    },
    {
      "cell_type": "code",
      "execution_count": 20,
      "metadata": {},
      "outputs": [],
      "source": [
        "x = np.array([0.5,0.5])\n",
        "allx[:,0] = x"
      ]
    },
    {
      "cell_type": "markdown",
      "metadata": {},
      "source": [
        "What are the probabilities after 20 days? Store the remaining columns of `allx`"
      ]
    },
    {
      "cell_type": "code",
      "execution_count": 21,
      "metadata": {},
      "outputs": [],
      "source": []
    },
    {
      "cell_type": "code",
      "execution_count": 22,
      "metadata": {},
      "outputs": [],
      "source": [
        "print('Probabilities of initial state:', allx[:,0])\n",
        "print('Probabilities after 20 days:', allx[:,-1])\n",
        "plt.plot(allx.T)\n",
        "plt.xlabel('')"
      ]
    },
    {
      "cell_type": "markdown",
      "metadata": {},
      "source": [
        "What if we were to start with a random current state? Would the weather probabilities change in the long run? Write a similar code snippet, but now starting at a random initial state. Remember that the sum of the probabilities has to be equal to 1 (or that columns and state vectors should sum to 1). Think about normalizing. Which norm would satisfy this property?"
      ]
    },
    {
      "cell_type": "code",
      "execution_count": 23,
      "metadata": {},
      "outputs": [],
      "source": [
        "x = np.random.rand(2)\n",
        "x = x/la.norm(x,1)\n",
        "print(x)\n",
        "\n",
        "its = 20\n",
        "allx = np.zeros((2,its))\n",
        "allx[:,0] = x\n",
        "\n",
        "for k in range(1,its):\n",
        "    x = A@x\n",
        "    allx[:,k] = x\n",
        "    \n",
        "print(x)"
      ]
    },
    {
      "cell_type": "code",
      "execution_count": 24,
      "metadata": {},
      "outputs": [],
      "source": [
        "print('Probabilities of initial state:', allx[:,0])\n",
        "print('Probabilities after 20 days:', allx[:,-1])\n",
        "plt.plot(allx.T)\n",
        "plt.xlabel('')"
      ]
    },
    {
      "cell_type": "markdown",
      "metadata": {
        "collapsed": true
      },
      "source": [
        "You can run your code snippet above a few times. What do you notice?"
      ]
    },
    {
      "cell_type": "markdown",
      "metadata": {},
      "source": [
        "### Summarizing:"
      ]
    },
    {
      "cell_type": "markdown",
      "metadata": {},
      "source": [
        "- You started with an initial weather state ${\\bf x_0}$.\n",
        "\n",
        "- Using the transition matrix, you can get the weather probability for the next day: ${\\bf A  x_0} = {\\bf x_1}$.\n",
        "\n",
        "- In general, you can write ${\\bf A  x_n} = {\\bf x_{n+1}}$.\n",
        "\n",
        "- Predictions for the weather on more distant days are increasingly inaccurate.\n",
        "\n",
        "- Power iteration will converge to a **steady-state** vector, that gives the weather probabilities in the long-run.\n",
        "\n",
        "$${\\bf A  x^*} = {\\bf x^*}$$\n",
        "\n",
        "- ${\\bf x^*}$ is the long-run equilibrium state, or the eigenvector corresponding to the eigenvalue $\\lambda = 1$.\n",
        "\n",
        "- This steady-state condition ${\\bf x^*}$ does not depend on the initial state."
      ]
    },
    {
      "cell_type": "markdown",
      "metadata": {},
      "source": [
        "# Example 2: What are students doing during CS 357 lectures?\n",
        "\n",
        "Consider the following graph of states. Assume this is a model of the behavior of a student after 10 minutes of a lecture. For example, if a student at the beginning of a lecture is participating in the class activity, there is a probability of 20% that they will be surfing the web after 10 minutes."
      ]
    },
    {
      "cell_type": "markdown",
      "metadata": {},
      "source": [
        "<img src=\"StudentLecture.png\" style=\"width: 500px;\"/>"
      ]
    },
    {
      "cell_type": "markdown",
      "metadata": {},
      "source": [
        "Write the transition matrix ${\\bf A}$ corresponding to the graph above. Build your matrix so that the columns are given in the following order:\n",
        "```python\n",
        "activity_names = ['lecture', 'web', 'hw', 'text']\n",
        "```\n",
        "Plot the graph using the `graph_matrix` helper function, to make sure you are indeed building the correct matrix. You can use the list above to label the nodes. "
      ]
    },
    {
      "cell_type": "code",
      "execution_count": 25,
      "metadata": {},
      "outputs": [],
      "source": [
        "activity_names = ['lecture', 'web', 'hw', 'text']\n",
        "\n",
        "A  = np.array([\n",
        "    [0.6,  0.4, 0.2, 0.3],\n",
        "    [0.2, 0.5, 0.1, 0.2],\n",
        "    [0.15, 0.1,  0.7, 0.0],\n",
        "    [0.05, 0, 0  , 0.5]\n",
        "])\n",
        "\n",
        "graph_matrix(A,activity_names)"
      ]
    },
    {
      "cell_type": "markdown",
      "metadata": {},
      "source": [
        "Build the initial state vector ${\\bf x}$. Recall that this array should follow the same order as the matrix, here defined in `activity_names`.  In the initial state (suppose that we are at the 0 minute mark of the lecture, i.e. the beginning of the lecture), students have an 80% probability of participating in lecture, 10% probability of texting friends and 10% probability of surfing the web. "
      ]
    },
    {
      "cell_type": "code",
      "execution_count": 26,
      "metadata": {},
      "outputs": [],
      "source": [
        "x0 = np.array([0.8,0.1,0,0.1])"
      ]
    },
    {
      "cell_type": "markdown",
      "metadata": {},
      "source": [
        "What is the probability that students will be working on their HW after 10 minutes?"
      ]
    },
    {
      "cell_type": "code",
      "execution_count": 27,
      "metadata": {},
      "outputs": [],
      "source": [
        "x = x0\n",
        "# Update x\n",
        "print(x)\n",
        "print(\"Probability of working on HW after 10 minutes is:\", x[2])"
      ]
    },
    {
      "cell_type": "markdown",
      "metadata": {},
      "source": [
        "What is the probability that students will be sending text messages after 30 minutes? Start from the random state provided below:"
      ]
    },
    {
      "cell_type": "code",
      "execution_count": 29,
      "metadata": {},
      "outputs": [],
      "source": [
        "x = np.random.random(4)\n",
        "x = x/la.norm(x,1)\n",
        "\n",
        "# Update x\n",
        "    \n",
        "print(\"Probability of surfing the web after 30 minutes is:\", x[3])"
      ]
    },
    {
      "cell_type": "markdown",
      "metadata": {},
      "source": [
        "Would your answer above change if you were to start from a different initial state? Try for example x0 = [0, 0.2, 0.1, 0.7]."
      ]
    },
    {
      "cell_type": "code",
      "execution_count": 30,
      "metadata": {},
      "outputs": [],
      "source": []
    },
    {
      "cell_type": "markdown",
      "metadata": {},
      "source": [
        "Steady-state will not depend on the initial state, but before achieving steady-state, the probabilities will be different!\n",
        "\n",
        "Get the steady-state for this problem:\n",
        "- Start from a random initial state. \n",
        "- Make sure the probability of the initial state sums to 1. \n",
        "- Assume 20 iterations of power method"
      ]
    },
    {
      "cell_type": "code",
      "execution_count": 31,
      "metadata": {},
      "outputs": [],
      "source": [
        "its = 20\n",
        "allx = np.zeros((4,its))"
      ]
    },
    {
      "cell_type": "code",
      "execution_count": 32,
      "metadata": {},
      "outputs": [],
      "source": [
        "x0 = np.random.rand(4)\n",
        "x0 = x0/la.norm(x0,1)\n",
        "\n",
        "x = np.copy(x0)\n",
        "allx[:,0] = x\n",
        "\n",
        "for k in range(1,its):\n",
        "    x = A.dot(x)\n",
        "    allx[:,k] = x\n",
        "    \n",
        "print(x)"
      ]
    },
    {
      "cell_type": "code",
      "execution_count": 33,
      "metadata": {},
      "outputs": [],
      "source": [
        "plt.plot(allx.T)\n",
        "plt.legend(activity_names)\n",
        "plt.grid()"
      ]
    },
    {
      "cell_type": "markdown",
      "metadata": {},
      "source": [
        "Do you think you achieved steady-state at iteration 40?\n",
        "\n",
        "Note that iteration 40 corresponds to the 400th minute of a lecture, which in this case does not exist (luckily? :-))\n",
        "\n",
        "Does the class achieve steady-state at the end of lecture (about 70 minutes or 7 steps)?"
      ]
    },
    {
      "cell_type": "markdown",
      "metadata": {},
      "source": [
        "Use `numpy.linalg.eig` to see how the steady-state (solution of power iteration) is the eigenvector of ${\\bf A}$ corresponding the the eigenvalue 1. The eigenvectors are given in the columns of ${\\bf U}$."
      ]
    },
    {
      "cell_type": "code",
      "execution_count": 34,
      "metadata": {},
      "outputs": [],
      "source": [
        "lambdas, U = la.eig(A)\n",
        "print(lambdas)\n",
        "print(U[:,0])"
      ]
    },
    {
      "cell_type": "markdown",
      "metadata": {},
      "source": [
        "Not what you expected? Remember that if ${\\bf u}$ is an eigenvector of ${\\bf A}$, then $\\alpha {\\bf u}$ is also en eigenvector. Can you show that the eigenvector from the power iteration solution is the same as the one obtained using `numpy.linalg.eig`?"
      ]
    },
    {
      "cell_type": "code",
      "execution_count": 36,
      "metadata": {},
      "outputs": [],
      "source": [
        "uvec = U[:,0]\n",
        "uvec = uvec/la.norm(uvec,1)\n",
        "print(uvec)"
      ]
    },
    {
      "cell_type": "code",
      "execution_count": null,
      "metadata": {},
      "outputs": [],
      "source": []
    }
  ],
  "metadata": {
    "kernelspec": {
      "display_name": "Python 3",
      "language": "python",
      "name": "python3"
    },
    "language_info": {
      "codemirror_mode": {
        "name": "ipython",
        "version": 3
      },
      "file_extension": ".py",
      "mimetype": "text/x-python",
      "name": "python",
      "nbconvert_exporter": "python",
      "pygments_lexer": "ipython3",
      "version": "3.8.0"
    }
  },
  "nbformat": 4,
  "nbformat_minor": 2
}