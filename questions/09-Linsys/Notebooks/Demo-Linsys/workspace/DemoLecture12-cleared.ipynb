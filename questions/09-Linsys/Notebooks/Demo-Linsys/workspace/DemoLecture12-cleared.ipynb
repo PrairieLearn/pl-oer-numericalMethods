{
 "cells": [
  {
   "cell_type": "code",
   "execution_count": 1,
   "id": "04295911",
   "metadata": {},
   "outputs": [],
   "source": [
    "import matplotlib.pyplot as plt\n",
    "%matplotlib inline\n",
    "\n",
    "import numpy as np\n",
    "import numpy.linalg as la\n",
    "import scipy.linalg as sla\n",
    "import scipy.sparse as sp\n",
    "import scipy.sparse.linalg as spla"
   ]
  },
  {
   "cell_type": "markdown",
   "id": "2bf5cb2e",
   "metadata": {},
   "source": [
    "# Norms"
   ]
  },
  {
   "cell_type": "code",
   "execution_count": 5,
   "id": "ad808777",
   "metadata": {},
   "outputs": [
    {
     "name": "stdout",
     "output_type": "stream",
     "text": [
      "[0.36648243 0.47036164 0.31253997 0.57639159 0.69500335 0.68270278\n",
      " 0.68837841 0.59646451 0.47898418 0.97769541]\n",
      "1.0923555965090863\n",
      "1.0923555965090863\n"
     ]
    }
   ],
   "source": [
    "v = np.random.rand(10)\n",
    "print(v)\n",
    "\n",
    "p = 5\n",
    "\n",
    "print(la.norm(v,p))\n",
    "\n",
    "normv = 0\n",
    "for vi in v:\n",
    "    normv += abs(vi)**p\n",
    "normv = normv**(1/p)\n",
    "\n",
    "print(normv)"
   ]
  },
  {
   "cell_type": "code",
   "execution_count": 7,
   "id": "ed73db57",
   "metadata": {},
   "outputs": [
    {
     "name": "stdout",
     "output_type": "stream",
     "text": [
      "(10, 10)\n",
      "(10,)\n",
      "3.9070307801701936 5.08048550511338\n"
     ]
    }
   ],
   "source": [
    "n = 10\n",
    "\n",
    "A = np.random.rand(n,n)\n",
    "print(A.shape)\n",
    "\n",
    "v = np.random.rand(n)\n",
    "print(v.shape)\n",
    "\n",
    "p = 2\n",
    "\n",
    "\n",
    "normv = 0\n",
    "for vi in v:\n",
    "    normv += abs(vi)**p\n",
    "normv = normv**(1/p)\n",
    "\n",
    "Av = A@v\n",
    "\n",
    "normAv = la.norm(Av,p)\n",
    "\n",
    "print(normAv/normv, la.norm(A,2))"
   ]
  },
  {
   "cell_type": "code",
   "execution_count": 12,
   "id": "9547acc0",
   "metadata": {},
   "outputs": [
    {
     "name": "stdout",
     "output_type": "stream",
     "text": [
      "(10, 10)\n",
      "5.315537209920713 5.34272931358472\n"
     ]
    }
   ],
   "source": [
    "n = 10\n",
    "\n",
    "A = np.random.rand(n,n)\n",
    "print(A.shape)\n",
    "\n",
    "normA = 0\n",
    "\n",
    "p = 2\n",
    "\n",
    "for i in range(100000):\n",
    "    \n",
    "    v = np.random.rand(n)\n",
    "\n",
    "    normv = 0\n",
    "    for vi in v:\n",
    "        normv += abs(vi)**p\n",
    "    normv = normv**(1/p)\n",
    "\n",
    "    Av = A@v\n",
    "\n",
    "    normAv = la.norm(Av,p)\n",
    "    \n",
    "    normAtemp = normAv/normv\n",
    "    \n",
    "    if normAtemp > normA:\n",
    "        normA = normAtemp\n",
    "\n",
    "print(normA, la.norm(A,2))"
   ]
  },
  {
   "cell_type": "markdown",
   "id": "87e41116",
   "metadata": {},
   "source": [
    "# Norms to quantify errors"
   ]
  },
  {
   "cell_type": "code",
   "execution_count": 13,
   "id": "8524e7b3",
   "metadata": {},
   "outputs": [
    {
     "data": {
      "text/plain": [
       "0.1"
      ]
     },
     "execution_count": 13,
     "metadata": {},
     "output_type": "execute_result"
    }
   ],
   "source": [
    "u = np.array([1,0])\n",
    "v = np.array([1,0.1])\n",
    "\n",
    "e = v-u\n",
    "la.norm(e,2)"
   ]
  },
  {
   "cell_type": "code",
   "execution_count": 14,
   "id": "41ebdb47",
   "metadata": {},
   "outputs": [
    {
     "data": {
      "text/plain": [
       "1.004987562112089"
      ]
     },
     "execution_count": 14,
     "metadata": {},
     "output_type": "execute_result"
    }
   ],
   "source": [
    "la.norm(v)"
   ]
  },
  {
   "cell_type": "code",
   "execution_count": 15,
   "id": "e5225214",
   "metadata": {},
   "outputs": [
    {
     "data": {
      "text/plain": [
       "1.0"
      ]
     },
     "execution_count": 15,
     "metadata": {},
     "output_type": "execute_result"
    }
   ],
   "source": [
    "la.norm(u)"
   ]
  },
  {
   "cell_type": "markdown",
   "id": "b21638b0",
   "metadata": {},
   "source": [
    "# Be careful with the default settings\n",
    "\n",
    "https://numpy.org/doc/stable/reference/generated/numpy.linalg.norm.html"
   ]
  },
  {
   "cell_type": "code",
   "execution_count": 16,
   "id": "d9548bc6",
   "metadata": {},
   "outputs": [
    {
     "name": "stdout",
     "output_type": "stream",
     "text": [
      "[[6 4 8]\n",
      " [8 7 4]\n",
      " [5 5 5]]\n"
     ]
    }
   ],
   "source": [
    "n = 3\n",
    "\n",
    "A = np.random.randint(10, size=(n,n))\n",
    "print(A)\n",
    "\n"
   ]
  },
  {
   "cell_type": "markdown",
   "id": "4db262e8",
   "metadata": {},
   "source": [
    "# Solve Linear System of Equations"
   ]
  },
  {
   "cell_type": "markdown",
   "id": "307c8e9f",
   "metadata": {
    "slideshow": {
     "slide_type": "-"
    }
   },
   "source": [
    "![](myfigure.png)"
   ]
  },
  {
   "cell_type": "markdown",
   "id": "20eab797",
   "metadata": {
    "slideshow": {
     "slide_type": "-"
    }
   },
   "source": [
    "When performing optimization of structural problem, for example to obtain the bridge design above, you may want to use a numerical method called Finite Element Method (you will learn this in a future MP). The optimization will consist of a series of `solve` of the form:\n",
    "$$ {\\bf K} {\\bf u} = {\\bf F} $$\n",
    "\n",
    "Here will load the matrix $ {\\bf K}$ from a file. The matrix is given in Compressed Sparse Column (CSC) format."
   ]
  },
  {
   "cell_type": "code",
   "execution_count": 17,
   "id": "8d485edb",
   "metadata": {
    "slideshow": {
     "slide_type": "-"
    }
   },
   "outputs": [
    {
     "data": {
      "text/plain": [
       "<6600x6600 sparse matrix of type '<class 'numpy.float64'>'\n",
       "\twith 105912 stored elements in Compressed Sparse Column format>"
      ]
     },
     "execution_count": 17,
     "metadata": {},
     "output_type": "execute_result"
    }
   ],
   "source": [
    "K = sp.load_npz('yourmatrix.npz')\n",
    "K"
   ]
  },
  {
   "cell_type": "markdown",
   "id": "f3e2cb23",
   "metadata": {
    "slideshow": {
     "slide_type": "slide"
    }
   },
   "source": [
    "We can `spy` the distribution of the non-zero entries of the matrix:"
   ]
  },
  {
   "cell_type": "code",
   "execution_count": 18,
   "id": "5f13cfed",
   "metadata": {
    "slideshow": {
     "slide_type": "-"
    }
   },
   "outputs": [
    {
     "data": {
      "image/png": "[encoded data removed]",
      "text/plain": [
       "<Figure size 432x288 with 1 Axes>"
      ]
     },
     "metadata": {
      "needs_background": "light"
     },
     "output_type": "display_data"
    }
   ],
   "source": [
    "plt.spy(K)\n",
    "plt.show()"
   ]
  },
  {
   "cell_type": "markdown",
   "id": "d6b03e72",
   "metadata": {
    "slideshow": {
     "slide_type": "-"
    }
   },
   "source": [
    "The matrix ${\\bf K}$ has a banded format, and it is also symmetric and positive definite. "
   ]
  },
  {
   "cell_type": "code",
   "execution_count": 19,
   "id": "4cb21500",
   "metadata": {
    "slideshow": {
     "slide_type": "-"
    }
   },
   "outputs": [],
   "source": [
    "Kdense = K.todense()"
   ]
  },
  {
   "cell_type": "code",
   "execution_count": 20,
   "id": "184a8c19",
   "metadata": {
    "slideshow": {
     "slide_type": "skip"
    }
   },
   "outputs": [
    {
     "data": {
      "text/plain": [
       "(6600, 6600)"
      ]
     },
     "execution_count": 20,
     "metadata": {},
     "output_type": "execute_result"
    }
   ],
   "source": [
    "Kdense.shape"
   ]
  },
  {
   "cell_type": "markdown",
   "id": "9f57525b",
   "metadata": {
    "slideshow": {
     "slide_type": "slide"
    }
   },
   "source": [
    "### Solving the linear system of equations using different methods:"
   ]
  },
  {
   "cell_type": "code",
   "execution_count": 21,
   "id": "b712e696",
   "metadata": {
    "slideshow": {
     "slide_type": "-"
    }
   },
   "outputs": [],
   "source": [
    "F = np.zeros(K.shape[0])\n",
    "F[1]=-1"
   ]
  },
  {
   "cell_type": "markdown",
   "id": "7fe81814",
   "metadata": {
    "slideshow": {
     "slide_type": "-"
    }
   },
   "source": [
    "#### a) la.solve"
   ]
  },
  {
   "cell_type": "code",
   "execution_count": 22,
   "id": "1315f92c",
   "metadata": {
    "slideshow": {
     "slide_type": "-"
    }
   },
   "outputs": [
    {
     "data": {
      "text/plain": [
       "(6600,)"
      ]
     },
     "execution_count": 22,
     "metadata": {},
     "output_type": "execute_result"
    }
   ],
   "source": [
    "u1 = sla.solve(Kdense,F)\n",
    "u1.shape"
   ]
  },
  {
   "cell_type": "markdown",
   "id": "fdd427a9",
   "metadata": {
    "slideshow": {
     "slide_type": "slide"
    }
   },
   "source": [
    "#### b) LU factorization"
   ]
  },
  {
   "cell_type": "code",
   "execution_count": 23,
   "id": "7a37cbe4",
   "metadata": {
    "slideshow": {
     "slide_type": "-"
    }
   },
   "outputs": [
    {
     "data": {
      "text/plain": [
       "(6600,)"
      ]
     },
     "execution_count": 23,
     "metadata": {},
     "output_type": "execute_result"
    }
   ],
   "source": [
    "P,L,U = sla.lu(Kdense)\n",
    "y = sla.solve_triangular(L, np.dot(P.T, F), lower=True)\n",
    "u2 = sla.solve_triangular(U, y)\n",
    "u2.shape"
   ]
  },
  {
   "cell_type": "markdown",
   "id": "d2542088",
   "metadata": {
    "slideshow": {
     "slide_type": "slide"
    }
   },
   "source": [
    "#### c) Cholesky factorization"
   ]
  },
  {
   "cell_type": "code",
   "execution_count": 24,
   "id": "bb97ef85",
   "metadata": {
    "slideshow": {
     "slide_type": "-"
    }
   },
   "outputs": [
    {
     "data": {
      "text/plain": [
       "(6600,)"
      ]
     },
     "execution_count": 24,
     "metadata": {},
     "output_type": "execute_result"
    }
   ],
   "source": [
    "Kcho = sla.cholesky(Kdense)\n",
    "u3 = sla.cho_solve((Kcho,False),F)\n",
    "u3.shape"
   ]
  },
  {
   "cell_type": "markdown",
   "id": "0a651f4e",
   "metadata": {
    "slideshow": {
     "slide_type": "slide"
    }
   },
   "source": [
    "#### d) Sparse solve"
   ]
  },
  {
   "cell_type": "code",
   "execution_count": 25,
   "id": "70dcc3c7",
   "metadata": {
    "slideshow": {
     "slide_type": "-"
    }
   },
   "outputs": [
    {
     "data": {
      "text/plain": [
       "(6600,)"
      ]
     },
     "execution_count": 25,
     "metadata": {},
     "output_type": "execute_result"
    }
   ],
   "source": [
    "u4 = spla.spsolve(K,F)\n",
    "u4.shape"
   ]
  },
  {
   "cell_type": "markdown",
   "id": "1fccdb66",
   "metadata": {},
   "source": [
    "# What is happening inside \"solve\"?"
   ]
  },
  {
   "cell_type": "markdown",
   "id": "3b882d38",
   "metadata": {
    "slideshow": {
     "slide_type": "skip"
    }
   },
   "source": [
    "Inside \"Solve\" there are factorization and substitutions. For example, let's think of LU factorization.\n",
    "\n",
    "We want to solve $Ax = P L U x = b$. We perform the following steps:\n",
    "\n",
    "1. Factorize $A = P L U$\n",
    "2. $y \\leftarrow \\text{solve}\\,\\, L y = P^Tb$\n",
    "3. $x \\leftarrow \\text{solve}\\,\\, U x = y$"
   ]
  },
  {
   "cell_type": "markdown",
   "id": "8acdb4a6",
   "metadata": {},
   "source": [
    "## Why do we split the factorization and substitutions?"
   ]
  },
  {
   "cell_type": "code",
   "execution_count": 26,
   "id": "f7db31c6",
   "metadata": {},
   "outputs": [],
   "source": [
    "F = np.zeros(K.shape[0])\n",
    "F[1]=-10\n",
    "F[0]=5"
   ]
  },
  {
   "cell_type": "code",
   "execution_count": 27,
   "id": "89473d8d",
   "metadata": {},
   "outputs": [
    {
     "data": {
      "text/plain": [
       "array([-459.314442  , -475.51384278, -468.07847515, ...,  119.77705961,\n",
       "        -11.59014506,  138.47099828])"
      ]
     },
     "execution_count": 27,
     "metadata": {},
     "output_type": "execute_result"
    }
   ],
   "source": [
    "sla.solve(Kdense,F)"
   ]
  },
  {
   "cell_type": "code",
   "execution_count": 28,
   "id": "cfbbd71e",
   "metadata": {},
   "outputs": [
    {
     "data": {
      "text/plain": [
       "array([-459.314442  , -475.51384278, -468.07847515, ...,  119.77705961,\n",
       "        -11.59014506,  138.47099828])"
      ]
     },
     "execution_count": 28,
     "metadata": {},
     "output_type": "execute_result"
    }
   ],
   "source": [
    "P, L, U = sla.lu(Kdense)\n",
    "\n",
    "y = sla.solve_triangular(L, P.T@F, lower=True)\n",
    "\n",
    "sla.solve_triangular(U, y)"
   ]
  },
  {
   "cell_type": "code",
   "execution_count": null,
   "id": "58371a3e",
   "metadata": {},
   "outputs": [],
   "source": []
  },
  {
   "cell_type": "markdown",
   "id": "0c742d75",
   "metadata": {
    "slideshow": {
     "slide_type": "slide"
    }
   },
   "source": [
    "# Simple example"
   ]
  },
  {
   "cell_type": "markdown",
   "id": "e1f4b35e",
   "metadata": {
    "slideshow": {
     "slide_type": "-"
    }
   },
   "source": [
    "\n",
    "$$\n",
    "Ax = \\begin{bmatrix}c&1\\\\-1&1\\end{bmatrix}\\begin{bmatrix}x_1\\\\x_2\\end{bmatrix}\n",
    "=\n",
    "\\begin{bmatrix}b_1\\\\b_2\\end{bmatrix}\n",
    "$$\n",
    "with an exact solution of\n",
    "$$\n",
    "x_{exact} = \\begin{bmatrix}1\\\\1\\end{bmatrix}\n",
    "$$"
   ]
  },
  {
   "cell_type": "code",
   "execution_count": 29,
   "id": "d8139ebf",
   "metadata": {
    "slideshow": {
     "slide_type": "slide"
    }
   },
   "outputs": [],
   "source": [
    "def myLU(A): \n",
    "    M = A.copy()\n",
    "    for i in range(A.shape[0]):\n",
    "        M[i+1:,i] = M[i+1:,i]/M[i,i]\n",
    "        M[i+1:,i+1:] -= np.outer(M[i+1:,i],M[i,i+1:]) \n",
    "    return M"
   ]
  },
  {
   "cell_type": "code",
   "execution_count": 34,
   "id": "b41b6e99",
   "metadata": {
    "slideshow": {
     "slide_type": "-"
    }
   },
   "outputs": [
    {
     "name": "stdout",
     "output_type": "stream",
     "text": [
      "Exact solution =  [1 1]\n",
      "Computed solution =  [0. 1.]\n",
      "Error =  1.0\n"
     ]
    }
   ],
   "source": [
    "# Creating the arrays\n",
    "c =  1e-16\n",
    "A = np.array([[c, 1.], [-1, 1]])\n",
    "# xx is the exact solution\n",
    "xx = np.array([1,1])\n",
    "b = A.dot(xx)\n",
    "\n",
    "# Comput the LU\n",
    "M = myLU(A)\n",
    "L = np.tril(M,-1) + np.eye(2,2)\n",
    "U = np.triu(M)\n",
    "\n",
    "# Solve\n",
    "# x is the numerical (xhat)\n",
    "y = sla.solve_triangular(L, b, lower=True)\n",
    "x = sla.solve_triangular(U, y)\n",
    "\n",
    "\n",
    "print(\"Exact solution = \", xx)\n",
    "\n",
    "print(\"Computed solution = \",x)\n",
    "\n",
    "print(\"Error = \", la.norm(xx-x))\n"
   ]
  },
  {
   "cell_type": "markdown",
   "id": "d90ff731",
   "metadata": {},
   "source": [
    "Is the matrix A singular?\n",
    "\n",
    "A) YES\n",
    "\n",
    "B) NO\n"
   ]
  },
  {
   "cell_type": "code",
   "execution_count": 37,
   "id": "1cb749f4",
   "metadata": {},
   "outputs": [
    {
     "data": {
      "text/plain": [
       "array([1., 1.])"
      ]
     },
     "execution_count": 37,
     "metadata": {},
     "output_type": "execute_result"
    }
   ],
   "source": [
    "la.solve(A,b)"
   ]
  },
  {
   "cell_type": "code",
   "execution_count": 36,
   "id": "87ade828",
   "metadata": {},
   "outputs": [
    {
     "data": {
      "text/plain": [
       "1.0"
      ]
     },
     "execution_count": 36,
     "metadata": {},
     "output_type": "execute_result"
    }
   ],
   "source": [
    "la.det(A)"
   ]
  },
  {
   "cell_type": "code",
   "execution_count": null,
   "id": "7d19f1a4",
   "metadata": {},
   "outputs": [],
   "source": []
  }
 ],
 "metadata": {
  "kernelspec": {
   "display_name": "Python 3 (ipykernel)",
   "language": "python",
   "name": "python3"
  },
  "language_info": {
   "codemirror_mode": {
    "name": "ipython",
    "version": 3
   },
   "file_extension": ".py",
   "mimetype": "text/x-python",
   "name": "python",
   "nbconvert_exporter": "python",
   "pygments_lexer": "ipython3",
   "version": "3.9.7"
  }
 },
 "nbformat": 4,
 "nbformat_minor": 5
}
