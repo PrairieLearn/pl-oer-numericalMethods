{
  "cells": [
    {
      "cell_type": "markdown",
      "metadata": {},
      "source": [
        "# Solving linear system of equations"
      ]
    },
    {
      "cell_type": "markdown",
      "metadata": {},
      "source": [
        "Useful libraries for this notebook:"
      ]
    },
    {
      "cell_type": "code",
      "execution_count": 1,
      "metadata": {},
      "outputs": [],
      "source": [
        "import numpy as np\n",
        "import numpy.linalg as la\n",
        "import scipy.linalg as sla\n",
        "import scipy.sparse as sparse\n",
        "\n",
        "\n",
        "import matplotlib.pyplot as plt\n",
        "%matplotlib inline\n",
        "\n",
        "from PIL import Image\n",
        "\n",
        "import seaborn as sns\n",
        "sns.set(font_scale=2)\n",
        "plt.style.use('seaborn-whitegrid')\n",
        "\n",
        "from time import time\n"
      ]
    },
    {
      "cell_type": "markdown",
      "metadata": {
        "slideshow": {
          "slide_type": "slide"
        }
      },
      "source": [
        "## 1) Transforming images using linear operators:"
      ]
    },
    {
      "cell_type": "markdown",
      "metadata": {
        "slideshow": {
          "slide_type": "-"
        }
      },
      "source": [
        "### Import an image of a Social Security Number"
      ]
    },
    {
      "cell_type": "code",
      "execution_count": 4,
      "metadata": {
        "slideshow": {
          "slide_type": "-"
        }
      },
      "outputs": [],
      "source": [
        "img = Image.open('ssn.png')\n",
        "xmat = (255 - np.asarray(img).max(axis=2))/255"
      ]
    },
    {
      "cell_type": "code",
      "execution_count": 5,
      "metadata": {
        "slideshow": {
          "slide_type": "-"
        }
      },
      "outputs": [],
      "source": [
        "print(xmat.shape)\n",
        "print(xmat.min(),xmat.max())\n"
      ]
    },
    {
      "cell_type": "code",
      "execution_count": 6,
      "metadata": {
        "slideshow": {
          "slide_type": "-"
        }
      },
      "outputs": [],
      "source": [
        "plt.imshow(xmat);"
      ]
    },
    {
      "cell_type": "markdown",
      "metadata": {
        "slideshow": {
          "slide_type": "-"
        }
      },
      "source": [
        "#### \"Vectorize\" the image, creating the 1d array `x`"
      ]
    },
    {
      "cell_type": "code",
      "execution_count": 7,
      "metadata": {
        "slideshow": {
          "slide_type": "-"
        }
      },
      "outputs": [],
      "source": [
        "x = xmat.flatten()\n",
        "x.shape"
      ]
    },
    {
      "cell_type": "markdown",
      "metadata": {
        "slideshow": {
          "slide_type": "slide"
        }
      },
      "source": [
        "### Construct a \"blur\" matrix\n",
        "More about this blur matrix on a later MP..."
      ]
    },
    {
      "cell_type": "code",
      "execution_count": 8,
      "metadata": {
        "slideshow": {
          "slide_type": "-"
        }
      },
      "outputs": [],
      "source": [
        "def blur_operator(m,n,radius):\n",
        "    imat, jmat = np.meshgrid(np.arange(m), np.arange(n), indexing='ij')\n",
        "    ivec = np.atleast_2d(imat.flatten())\n",
        "    jvec = np.atleast_2d(jmat.flatten())\n",
        "    A = np.fmax(0, 1 - np.sqrt((ivec.T - ivec)**2 + (jvec.T - jvec)**2)/radius)\n",
        "    A /= A.sum(axis=1)\n",
        "    return A"
      ]
    },
    {
      "cell_type": "code",
      "execution_count": 9,
      "metadata": {
        "slideshow": {
          "slide_type": "-"
        }
      },
      "outputs": [],
      "source": [
        "A = blur_operator(xmat.shape[0],xmat.shape[1],5)\n",
        "A.shape"
      ]
    },
    {
      "cell_type": "markdown",
      "metadata": {
        "slideshow": {
          "slide_type": "slide"
        }
      },
      "source": [
        "### Compute b = A x"
      ]
    },
    {
      "cell_type": "code",
      "execution_count": 10,
      "metadata": {
        "slideshow": {
          "slide_type": "-"
        }
      },
      "outputs": [],
      "source": [
        "b = A @ x\n",
        "b.shape"
      ]
    },
    {
      "cell_type": "code",
      "execution_count": 11,
      "metadata": {
        "slideshow": {
          "slide_type": "-"
        }
      },
      "outputs": [],
      "source": [
        "b2D = b.reshape(xmat.shape)\n",
        "plt.imshow(b2D)"
      ]
    },
    {
      "cell_type": "markdown",
      "metadata": {
        "slideshow": {
          "slide_type": "slide"
        }
      },
      "source": [
        "### Assume we have the blurred image (b), solve for the unblurred one (x)\n",
        "\n",
        "In essence, we want $x = A^{-1} b$. Instead of evaluating the inverse, we can evaluate:"
      ]
    },
    {
      "cell_type": "markdown",
      "metadata": {
        "slideshow": {
          "slide_type": "-"
        }
      },
      "source": [
        "#### a)  `np.linalg.solve`:"
      ]
    },
    {
      "cell_type": "code",
      "execution_count": 12,
      "metadata": {
        "slideshow": {
          "slide_type": "-"
        }
      },
      "outputs": [],
      "source": [
        "x_solve1 = la.solve(A,b)\n",
        "x_solve1.shape"
      ]
    },
    {
      "cell_type": "code",
      "execution_count": 13,
      "metadata": {
        "slideshow": {
          "slide_type": "-"
        }
      },
      "outputs": [],
      "source": [
        "plt.imshow(x_solve1.reshape(xmat.shape))"
      ]
    },
    {
      "cell_type": "markdown",
      "metadata": {
        "slideshow": {
          "slide_type": "-"
        }
      },
      "source": [
        "Voila! We have our recovered original image :-)"
      ]
    },
    {
      "cell_type": "markdown",
      "metadata": {
        "slideshow": {
          "slide_type": "-"
        }
      },
      "source": [
        "We can check the results with inverse (but we will avoid using inverse in this course. More to come on that soon!)"
      ]
    },
    {
      "cell_type": "code",
      "execution_count": 14,
      "metadata": {
        "slideshow": {
          "slide_type": "-"
        }
      },
      "outputs": [],
      "source": [
        "xx = la.inv(A)@b\n",
        "np.isclose(xx, x_solve1, rtol=1e-05, atol=1e-08, equal_nan=False).sum()"
      ]
    },
    {
      "cell_type": "markdown",
      "metadata": {
        "slideshow": {
          "slide_type": "slide"
        }
      },
      "source": [
        "### Now add some noise"
      ]
    },
    {
      "cell_type": "code",
      "execution_count": 15,
      "metadata": {
        "slideshow": {
          "slide_type": "-"
        }
      },
      "outputs": [],
      "source": [
        "b_noisy = b + 1e-3 * np.random.rand(b.size)\n",
        "\n",
        "x_noisy = la.solve(A,b_noisy)\n",
        "\n",
        "plt.imshow(x_noisy.reshape(xmat.shape))\n"
      ]
    },
    {
      "cell_type": "markdown",
      "metadata": {
        "collapsed": true,
        "slideshow": {
          "slide_type": "-"
        }
      },
      "source": [
        "What happened to your solution. We will soon be talking about conditioning of matrices. "
      ]
    },
    {
      "cell_type": "markdown",
      "metadata": {
        "slideshow": {
          "slide_type": "slide"
        }
      },
      "source": [
        "## 2) Solving Triangular Systems"
      ]
    },
    {
      "cell_type": "markdown",
      "metadata": {
        "slideshow": {
          "slide_type": "-"
        }
      },
      "source": [
        "https://docs.scipy.org/doc/scipy/reference/generated/scipy.linalg.solve_triangular.html"
      ]
    },
    {
      "cell_type": "markdown",
      "metadata": {
        "slideshow": {
          "slide_type": "-"
        }
      },
      "source": [
        "#### Forward-substitution:"
      ]
    },
    {
      "cell_type": "code",
      "execution_count": 16,
      "metadata": {
        "slideshow": {
          "slide_type": "-"
        }
      },
      "outputs": [],
      "source": [
        "M1 = np.array([[2,0,0,0],[3,2,0,0],[1,2,6,0],[1,3,4,2]])\n",
        "b1 = np.array([2,2,6,4])"
      ]
    },
    {
      "cell_type": "code",
      "execution_count": 17,
      "metadata": {
        "slideshow": {
          "slide_type": "-"
        }
      },
      "outputs": [],
      "source": [
        "def my_forward_substitution(M,b):\n",
        "    n = len(b)\n",
        "    y = np.zeros(n)\n",
        "    for i in range(n):\n",
        "        tmp = b[i]\n",
        "        for j in range(i):\n",
        "            tmp -= y[j]*M[i,j]\n",
        "        y[i]=tmp/M[i,i]\n",
        "    return y"
      ]
    },
    {
      "cell_type": "code",
      "execution_count": 18,
      "metadata": {
        "slideshow": {
          "slide_type": "-"
        }
      },
      "outputs": [],
      "source": [
        "my_forward_substitution(M1,b1)"
      ]
    },
    {
      "cell_type": "code",
      "execution_count": 19,
      "metadata": {
        "scrolled": true,
        "slideshow": {
          "slide_type": "-"
        }
      },
      "outputs": [],
      "source": [
        "sla.solve_triangular(M1, b1, lower=True)"
      ]
    },
    {
      "cell_type": "markdown",
      "metadata": {
        "slideshow": {
          "slide_type": "slide"
        }
      },
      "source": [
        "#### Backward-substitution:"
      ]
    },
    {
      "cell_type": "code",
      "execution_count": 20,
      "metadata": {
        "slideshow": {
          "slide_type": "-"
        }
      },
      "outputs": [],
      "source": [
        "M2 = np.array([[2,8,4,2],[0,4,4,3],[0,0,6,2],[0,0,0,2]])\n",
        "b2 = np.array([2,4,4,1])"
      ]
    },
    {
      "cell_type": "code",
      "execution_count": 21,
      "metadata": {
        "slideshow": {
          "slide_type": "-"
        }
      },
      "outputs": [],
      "source": [
        "def my_backward_substitution(M,b):\n",
        "    n = len(b)\n",
        "    y = np.zeros(n)\n",
        "    for i in range(n-1, -1, -1):\n",
        "        tmp = b[i]\n",
        "        for j in range(i+1, n):\n",
        "            tmp -= y[j]*M[i,j]\n",
        "        y[i] = tmp/M[i,i]\n",
        "    return y"
      ]
    },
    {
      "cell_type": "code",
      "execution_count": 22,
      "metadata": {
        "slideshow": {
          "slide_type": "-"
        }
      },
      "outputs": [],
      "source": [
        "my_backward_substitution(M2,b2)"
      ]
    },
    {
      "cell_type": "code",
      "execution_count": 23,
      "metadata": {
        "slideshow": {
          "slide_type": "-"
        }
      },
      "outputs": [],
      "source": [
        "sla.solve_triangular(M2, b2)"
      ]
    },
    {
      "cell_type": "markdown",
      "metadata": {
        "slideshow": {
          "slide_type": "skip"
        }
      },
      "source": [
        "## 3) LU Factorization (without pivoting)"
      ]
    },
    {
      "cell_type": "markdown",
      "metadata": {
        "slideshow": {
          "slide_type": "skip"
        }
      },
      "source": [
        "### Factorize and solve resulting triangular systems"
      ]
    },
    {
      "cell_type": "markdown",
      "metadata": {
        "slideshow": {
          "slide_type": "skip"
        }
      },
      "source": [
        "1) Factorize:\n",
        "\n",
        "$$A = L U$$\n",
        "\n",
        "to solve $Ax=b$\n",
        "\n",
        "2) Forward substitution:\n",
        "\n",
        "$y \\leftarrow \\text{solve}\\,\\, L y = b$\n",
        "    \n",
        "$$ y_i = b_i - \\sum_{j=1}^{i-1} L_{ij} y_j \\quad i=1,2,3,...,n$$\n",
        "\n",
        "Backward substitution:\n",
        "    \n",
        "$x \\leftarrow \\text{solve}\\,\\, U x = y$\n",
        "\n",
        "$$ x_i = y_i - \\sum_{j=i+1}^{n} U_{ij} x_j \\quad i=n, n-1, n-2, ..., 1$$"
      ]
    },
    {
      "cell_type": "markdown",
      "metadata": {
        "slideshow": {
          "slide_type": "skip"
        }
      },
      "source": [
        "#### What is happening inside \"solve\"?\n",
        "\n",
        "A factorization and substitutions. For example, let's think of LU factorization:\n",
        "\n",
        "If $Ax = P L U x = b$, then there are two steps:\n",
        "1. $y \\leftarrow \\text{solve}\\,\\, L y = P^Tb$\n",
        "2. $x \\leftarrow \\text{solve}\\,\\, U x = y$"
      ]
    },
    {
      "cell_type": "markdown",
      "metadata": {
        "slideshow": {
          "slide_type": "slide"
        }
      },
      "source": [
        "####  LU factorization and triangular substitutions:"
      ]
    },
    {
      "cell_type": "code",
      "execution_count": 24,
      "metadata": {
        "slideshow": {
          "slide_type": "-"
        }
      },
      "outputs": [],
      "source": [
        "import scipy.linalg as sla\n",
        "P, L, U = sla.lu(A)\n",
        "\n",
        "P.shape"
      ]
    },
    {
      "cell_type": "code",
      "execution_count": 25,
      "metadata": {
        "slideshow": {
          "slide_type": "-"
        }
      },
      "outputs": [],
      "source": [
        "y = sla.solve_triangular(L, P.T@b, lower=True)\n",
        "\n",
        "x_solve = sla.solve_triangular(U, y)\n",
        "\n",
        "plt.imshow(x_solve.reshape(xmat.shape))"
      ]
    },
    {
      "cell_type": "markdown",
      "metadata": {
        "slideshow": {
          "slide_type": "slide"
        }
      },
      "source": [
        "#### Why not just `np.linalg.solve`?"
      ]
    },
    {
      "cell_type": "markdown",
      "metadata": {
        "slideshow": {
          "slide_type": "-"
        }
      },
      "source": [
        "Suppose you have many social security numbers to un-blur. You should factorize your blur matrix only once and then perform several triangular solves.\n",
        "\n",
        "Let's time:\n",
        "\n",
        "1. solve including factorization\n",
        "2. factorization\n",
        "3. solve, given a factorization"
      ]
    },
    {
      "cell_type": "code",
      "execution_count": 26,
      "metadata": {
        "slideshow": {
          "slide_type": "-"
        }
      },
      "outputs": [],
      "source": [
        "%timeit sla.solve(A, b)"
      ]
    },
    {
      "cell_type": "code",
      "execution_count": 27,
      "metadata": {
        "slideshow": {
          "slide_type": "-"
        }
      },
      "outputs": [],
      "source": [
        "%timeit P, L, U = sla.lu(A)"
      ]
    },
    {
      "cell_type": "code",
      "execution_count": 28,
      "metadata": {
        "slideshow": {
          "slide_type": "-"
        }
      },
      "outputs": [],
      "source": [
        "%timeit sla.solve_triangular(U, y)"
      ]
    },
    {
      "cell_type": "markdown",
      "metadata": {
        "slideshow": {
          "slide_type": "slide"
        }
      },
      "source": [
        "### Let's take a look at the matrix format"
      ]
    },
    {
      "cell_type": "code",
      "execution_count": 29,
      "metadata": {
        "slideshow": {
          "slide_type": "-"
        }
      },
      "outputs": [],
      "source": [
        "plt.figure(figsize=(12,6))\n",
        "plt.subplot(131)\n",
        "plt.spy(A); plt.xticks([]); plt.yticks([]);\n",
        "\n",
        "plt.subplot(132)\n",
        "plt.spy(L); plt.xticks([]); plt.yticks([]);\n",
        "\n",
        "plt.subplot(133)\n",
        "plt.spy(U); plt.xticks([]); plt.yticks([]);"
      ]
    },
    {
      "cell_type": "markdown",
      "metadata": {
        "slideshow": {
          "slide_type": "-"
        }
      },
      "source": [
        "Note that many entries of the matrices are zeros! We don't need to store all of the zeros. In fact, we can even use solvers that efficiently take into account the format of the matrices."
      ]
    },
    {
      "cell_type": "code",
      "execution_count": 30,
      "metadata": {
        "slideshow": {
          "slide_type": "slide"
        }
      },
      "outputs": [],
      "source": [
        " A_csr = sparse.csr_matrix(A)"
      ]
    },
    {
      "cell_type": "code",
      "execution_count": 31,
      "metadata": {
        "slideshow": {
          "slide_type": "-"
        }
      },
      "outputs": [],
      "source": [
        "%timeit sparse.linalg.spsolve(A_csr,b)"
      ]
    },
    {
      "cell_type": "code",
      "execution_count": 32,
      "metadata": {
        "slideshow": {
          "slide_type": "-"
        }
      },
      "outputs": [],
      "source": [
        "x_solve_3 = sparse.linalg.spsolve(A_csr,b)\n",
        "plt.imshow(x_solve_3.reshape(xmat.shape))"
      ]
    },
    {
      "cell_type": "markdown",
      "metadata": {
        "slideshow": {
          "slide_type": "-"
        }
      },
      "source": [
        "This is just a teaser :-) We will talk more later about sparse systems."
      ]
    },
    {
      "cell_type": "markdown",
      "metadata": {
        "slideshow": {
          "slide_type": "slide"
        }
      },
      "source": [
        "## 4) Example:  Topology design optimization"
      ]
    },
    {
      "cell_type": "markdown",
      "metadata": {
        "slideshow": {
          "slide_type": "-"
        }
      },
      "source": [
        "![](myfigure.png)"
      ]
    },
    {
      "cell_type": "markdown",
      "metadata": {
        "slideshow": {
          "slide_type": "-"
        }
      },
      "source": [
        "When performing optimization of structural problem, for example to obtain the bridge design above, you may want to use a numerical method called Finite Element Method (you will learn this in a future MP). The optimization will consist of a series of `solve` of the form:\n",
        "$$ {\\bf K} {\\bf u} = {\\bf F} $$\n",
        "\n",
        "Here will load the matrix $ {\\bf K}$ from a file. The matrix is given in Compressed Sparse Column (CSC) format."
      ]
    },
    {
      "cell_type": "code",
      "execution_count": 33,
      "metadata": {
        "slideshow": {
          "slide_type": "-"
        }
      },
      "outputs": [],
      "source": [
        "K = sparse.load_npz('yourmatrix.npz')\n",
        "K"
      ]
    },
    {
      "cell_type": "markdown",
      "metadata": {
        "slideshow": {
          "slide_type": "slide"
        }
      },
      "source": [
        "We can `spy` the distribution of the non-zero entries of the matrix:"
      ]
    },
    {
      "cell_type": "code",
      "execution_count": 34,
      "metadata": {
        "slideshow": {
          "slide_type": "-"
        }
      },
      "outputs": [],
      "source": [
        "plt.spy(K)\n",
        "plt.show()"
      ]
    },
    {
      "cell_type": "markdown",
      "metadata": {
        "slideshow": {
          "slide_type": "-"
        }
      },
      "source": [
        "The matrix ${\\bf K}$ has a banded format, and it is also symmetric and positive definite. "
      ]
    },
    {
      "cell_type": "code",
      "execution_count": 35,
      "metadata": {
        "slideshow": {
          "slide_type": "-"
        }
      },
      "outputs": [],
      "source": [
        "Kdense = K.todense()"
      ]
    },
    {
      "cell_type": "code",
      "execution_count": 36,
      "metadata": {
        "slideshow": {
          "slide_type": "skip"
        }
      },
      "outputs": [],
      "source": [
        "Kdense.shape"
      ]
    },
    {
      "cell_type": "markdown",
      "metadata": {
        "slideshow": {
          "slide_type": "slide"
        }
      },
      "source": [
        "### Solving the linear system of equations using different methods:"
      ]
    },
    {
      "cell_type": "code",
      "execution_count": 37,
      "metadata": {
        "slideshow": {
          "slide_type": "-"
        }
      },
      "outputs": [],
      "source": [
        "F = np.zeros(K.shape[0])\n",
        "F[1]=-1"
      ]
    },
    {
      "cell_type": "markdown",
      "metadata": {
        "slideshow": {
          "slide_type": "-"
        }
      },
      "source": [
        "#### a) la.solve"
      ]
    },
    {
      "cell_type": "code",
      "execution_count": 38,
      "metadata": {
        "slideshow": {
          "slide_type": "-"
        }
      },
      "outputs": [],
      "source": [
        "u1 = sla.solve(Kdense,F)\n",
        "u1.shape"
      ]
    },
    {
      "cell_type": "code",
      "execution_count": 39,
      "metadata": {
        "slideshow": {
          "slide_type": "-"
        }
      },
      "outputs": [],
      "source": [
        "%timeit sla.solve(Kdense,F)"
      ]
    },
    {
      "cell_type": "markdown",
      "metadata": {
        "slideshow": {
          "slide_type": "slide"
        }
      },
      "source": [
        "#### b) LU factorization"
      ]
    },
    {
      "cell_type": "code",
      "execution_count": 40,
      "metadata": {
        "slideshow": {
          "slide_type": "-"
        }
      },
      "outputs": [],
      "source": [
        "P,L,U = sla.lu(Kdense)\n",
        "y = sla.solve_triangular(L, np.dot(P.T, F), lower=True)\n",
        "u2 = sla.solve_triangular(U, y)\n",
        "u2.shape"
      ]
    },
    {
      "cell_type": "code",
      "execution_count": 41,
      "metadata": {
        "slideshow": {
          "slide_type": "-"
        }
      },
      "outputs": [],
      "source": [
        "%timeit sla.lu(Kdense)\n",
        "%timeit sla.solve_triangular(L, np.dot(P.T, F), lower=True)\n",
        "%timeit sla.solve_triangular(U, y)"
      ]
    },
    {
      "cell_type": "markdown",
      "metadata": {
        "slideshow": {
          "slide_type": "slide"
        }
      },
      "source": [
        "#### c) Cholesky factorization"
      ]
    },
    {
      "cell_type": "code",
      "execution_count": 42,
      "metadata": {
        "slideshow": {
          "slide_type": "-"
        }
      },
      "outputs": [],
      "source": [
        "Kcho = sla.cholesky(Kdense)\n",
        "u3 = sla.cho_solve((Kcho,False),F)\n",
        "u3.shape"
      ]
    },
    {
      "cell_type": "code",
      "execution_count": 43,
      "metadata": {
        "slideshow": {
          "slide_type": "-"
        }
      },
      "outputs": [],
      "source": [
        "%timeit sla.cholesky(Kdense)\n",
        "%timeit sla.cho_solve((Kcho,False),F)"
      ]
    },
    {
      "cell_type": "markdown",
      "metadata": {
        "slideshow": {
          "slide_type": "slide"
        }
      },
      "source": [
        "#### d) Sparse solve"
      ]
    },
    {
      "cell_type": "code",
      "execution_count": 44,
      "metadata": {
        "slideshow": {
          "slide_type": "-"
        }
      },
      "outputs": [],
      "source": [
        "from scipy.sparse.linalg import spsolve"
      ]
    },
    {
      "cell_type": "code",
      "execution_count": 45,
      "metadata": {
        "slideshow": {
          "slide_type": "-"
        }
      },
      "outputs": [],
      "source": [
        "u4 = spsolve(K,F)\n",
        "u4.shape"
      ]
    },
    {
      "cell_type": "code",
      "execution_count": 46,
      "metadata": {
        "slideshow": {
          "slide_type": "-"
        }
      },
      "outputs": [],
      "source": [
        "%timeit spsolve(K,F)"
      ]
    },
    {
      "cell_type": "markdown",
      "metadata": {
        "slideshow": {
          "slide_type": "slide"
        }
      },
      "source": [
        "## 5) LU Factorization"
      ]
    },
    {
      "cell_type": "markdown",
      "metadata": {
        "slideshow": {
          "slide_type": "-"
        }
      },
      "source": [
        "Factorize the matrix $A$ as $A = LU$"
      ]
    },
    {
      "cell_type": "code",
      "execution_count": 47,
      "metadata": {
        "slideshow": {
          "slide_type": "subslide"
        }
      },
      "outputs": [],
      "source": [
        "n = 4\n",
        "\n",
        "A = np.array([[2.0,8,4,1],[1,2,3,3],[1,2,6,2],[1,3,4,2]])\n",
        "\n",
        "## Algorithm 1\n",
        "## Factorization using the block-format, \n",
        "## creating new matrices L and U\n",
        "## and not modifying A\n",
        "print(\"LU factorization using Algorithm 1\")\n",
        "U = np.zeros((n,n))\n",
        "L = np.zeros((n,n))\n",
        "M = A.copy()\n",
        "for i in range(n):\n",
        "    U[i,i:] = M[i,i:]\n",
        "    L[i:,i] = M[i:,i]/U[i,i]\n",
        "    M[i+1:,i+1:] -= np.outer(L[i+1:,i],U[i,i+1:])\n",
        "print(\"U = \",U)\n",
        "print(\"L = \",L)\n",
        "\n",
        "\n",
        "\n",
        "## Algorithm 2\n",
        "## Factorization using the block-format \n",
        "## Matrices L and U are stored in the input matrix\n",
        "## that could be a copy of A or A itself\n",
        "print(\"LU factorization using Algorithm 2\")  \n",
        "M = A.copy()\n",
        "for i in range(n):\n",
        "    M[i+1:,i] = M[i+1:,i]/M[i,i]\n",
        "    M[i+1:,i+1:] -= np.outer(M[i+1:,i],M[i,i+1:]) \n",
        "print(\"M = \",M)\n",
        "\n",
        "\n",
        "\n",
        "## Algorithm 3\n",
        "## \"Typical\" Gaussian Elimination algorithm\n",
        "print(\"LU factorization using Algorithm 3\")\n",
        "print(' \"Traditional\" Gaussian elimination') \n",
        "M = A.copy()\n",
        "for i in range(n-1):\n",
        "    for j in range(i+1,n):\n",
        "        M[j,i] = M[j,i]/M[i,i]\n",
        "        for k in range(i+1,n):\n",
        "            M[j,k] -= M[j,i]*M[i,k]\n",
        "print(\"M = \",M)\n",
        "\n",
        "#P, L, U = sla.lu(A)"
      ]
    },
    {
      "cell_type": "code",
      "execution_count": 48,
      "metadata": {
        "slideshow": {
          "slide_type": "subslide"
        }
      },
      "outputs": [],
      "source": [
        "## Factorize and solve \n",
        "M = A.copy()\n",
        "for i in range(n):\n",
        "    M[i+1:,i] = M[i+1:,i]/M[i,i]\n",
        "    M[i+1:,i+1:] -= np.outer(M[i+1:,i],M[i,i+1:]) \n",
        "\n",
        "print(\"Solve system of equations for \")\n",
        "b = np.array([2,2,1,4])\n",
        "print(\"b = \",b)\n",
        "x = np.zeros(n)\n",
        "y = np.zeros(n)\n",
        "\n",
        "# Foward-substitution - solve Ly = b for y\n",
        "for i in range(0, n):\n",
        "    tmp = b[i]\n",
        "    for j in range(0, i):\n",
        "        tmp -= y[j]*M[i,j]\n",
        "    y[i]=tmp\n",
        "#print(y)\n",
        "\n",
        "# Backward substitution - solve Ux = y for x\n",
        "for i in range(n-1, -1, -1):\n",
        "    tmp = y[i]\n",
        "    for j in range(i+1, n):\n",
        "        tmp -= x[j]*M[i,j]\n",
        "    x[i] = tmp/M[i,i]\n",
        "print(\"Solution is:\")\n",
        "print(\"x = \",x)"
      ]
    },
    {
      "cell_type": "code",
      "execution_count": 49,
      "metadata": {},
      "outputs": [],
      "source": [
        "la.solve(A,b)"
      ]
    },
    {
      "cell_type": "markdown",
      "metadata": {
        "slideshow": {
          "slide_type": "slide"
        }
      },
      "source": [
        "##  6) Relative cost of matrix operations"
      ]
    },
    {
      "cell_type": "code",
      "execution_count": 50,
      "metadata": {
        "slideshow": {
          "slide_type": "-"
        }
      },
      "outputs": [],
      "source": [
        "n_values = (10**np.linspace(1, 4, 15)).astype(np.int32)\n",
        "n_values"
      ]
    },
    {
      "cell_type": "code",
      "execution_count": 51,
      "metadata": {
        "slideshow": {
          "slide_type": "-"
        }
      },
      "outputs": [],
      "source": [
        "times_matmul = []\n",
        "times_lu = []\n",
        "times_chol = []\n",
        "\n",
        "for n in n_values:\n",
        "    print(n)\n",
        "    A = np.random.randn(n, n)\n",
        "    A = A.T@A\n",
        "    start_time = time()\n",
        "    A.dot(A)\n",
        "    times_matmul.append(time() - start_time)\n",
        "    start_time = time()\n",
        "    sla.lu(A)\n",
        "    times_lu.append(time() - start_time)\n",
        "    start_time = time()\n",
        "    sla.cholesky(A)\n",
        "    times_chol.append(time() - start_time)"
      ]
    },
    {
      "cell_type": "code",
      "execution_count": 52,
      "metadata": {
        "slideshow": {
          "slide_type": "slide"
        }
      },
      "outputs": [],
      "source": [
        "plt.plot(n_values, times_matmul, label='matmul')\n",
        "plt.plot(n_values, times_lu, label='lu')\n",
        "plt.plot(n_values, times_chol, label='chol')\n",
        "plt.legend(loc=\"best\")\n",
        "plt.xlabel(\"Matrix size $n$\")\n",
        "plt.ylabel(\"Wall time [s]\")"
      ]
    },
    {
      "cell_type": "markdown",
      "metadata": {
        "slideshow": {
          "slide_type": "-"
        }
      },
      "source": [
        "* The faster algorithms make the slower ones look bad. But... it's all relative.\n",
        "* Can we get a better plot?\n",
        "* Can we see the asymptotic cost ($O(n^3)$) of these algorithms from the plot?"
      ]
    },
    {
      "cell_type": "code",
      "execution_count": 53,
      "metadata": {
        "slideshow": {
          "slide_type": "slide"
        }
      },
      "outputs": [],
      "source": [
        "plt.loglog(n_values, times_matmul, label='matmul')\n",
        "plt.loglog(n_values, times_lu, label='lu')\n",
        "plt.loglog(n_values, times_chol, label='chol')\n",
        "plt.legend(loc=\"best\")\n",
        "plt.xlabel(\"Matrix size $n$\")\n",
        "plt.ylabel(\"Wall time [s]\")"
      ]
    },
    {
      "cell_type": "markdown",
      "metadata": {
        "slideshow": {
          "slide_type": "slide"
        }
      },
      "source": [
        "## 7) Simple example"
      ]
    },
    {
      "cell_type": "markdown",
      "metadata": {
        "slideshow": {
          "slide_type": "-"
        }
      },
      "source": [
        "\n",
        "$$\n",
        "Ax = \\begin{bmatrix}c&1\\\\-1&1\\end{bmatrix}\\begin{bmatrix}x_1\\\\x_2\\end{bmatrix}\n",
        "=\n",
        "\\begin{bmatrix}b_1\\\\b_2\\end{bmatrix}\n",
        "$$\n",
        "with an exact solution of\n",
        "$$\n",
        "x_{exact} = \\begin{bmatrix}1\\\\1\\end{bmatrix}\n",
        "$$"
      ]
    },
    {
      "cell_type": "code",
      "execution_count": 54,
      "metadata": {
        "slideshow": {
          "slide_type": "slide"
        }
      },
      "outputs": [],
      "source": [
        "def myLU(A): \n",
        "    M = A.copy()\n",
        "    for i in range(A.shape[0]):\n",
        "        M[i+1:,i] = M[i+1:,i]/M[i,i]\n",
        "        M[i+1:,i+1:] -= np.outer(M[i+1:,i],M[i,i+1:]) \n",
        "    return M"
      ]
    },
    {
      "cell_type": "code",
      "execution_count": 55,
      "metadata": {
        "slideshow": {
          "slide_type": "-"
        }
      },
      "outputs": [],
      "source": [
        "# Creating the arrays\n",
        "c = 1e-16\n",
        "A = np.array([[c, 1.], [-1, 1]])\n",
        "# xx is the exact solution\n",
        "xx = np.array([1,1])\n",
        "b = A.dot(xx)\n",
        "\n",
        "# Comput the LU\n",
        "M = myLU(A)\n",
        "L = np.tril(M,-1) + np.eye(2,2)\n",
        "U = np.triu(M)\n",
        "\n",
        "# Solve\n",
        "# x is the numerical (xhat)\n",
        "y = sla.solve_triangular(L, b, lower=True)\n",
        "x = sla.solve_triangular(U, y)\n",
        "\n",
        "\n",
        "print(\"Exact solution = \", xx)\n",
        "\n",
        "print(\"Computed solution = \",x)\n",
        "\n",
        "print(\"Error = \", la.norm(xx-x))\n"
      ]
    },
    {
      "cell_type": "markdown",
      "metadata": {},
      "source": [
        "Is the matrix A singular?\n",
        "\n",
        "A) YES\n",
        "\n",
        "B) NO\n"
      ]
    },
    {
      "cell_type": "code",
      "execution_count": 56,
      "metadata": {
        "slideshow": {
          "slide_type": "-"
        }
      },
      "outputs": [],
      "source": [
        "la.inv(A)"
      ]
    },
    {
      "cell_type": "markdown",
      "metadata": {
        "slideshow": {
          "slide_type": "slide"
        }
      },
      "source": [
        "## 8) LU with Pivoting"
      ]
    },
    {
      "cell_type": "code",
      "execution_count": 57,
      "metadata": {
        "slideshow": {
          "slide_type": "-"
        }
      },
      "outputs": [],
      "source": [
        "# Creating the arrays\n",
        "c = 1e-16\n",
        "A = np.array([[c, 1.], [-1, 1]])\n",
        "# xx is the exact solution\n",
        "xx = np.array([1,1])\n",
        "b = A.dot(xx)\n",
        "\n",
        "x = la.solve(A,b)\n",
        "\n",
        "## or \n",
        "\n",
        "P,L,U = sla.lu(A)\n",
        "y = sla.solve_triangular(L, P.T@b, lower=True)\n",
        "x = sla.solve_triangular(U, y)\n",
        "\n",
        "\n",
        "print(\"Exact solution = \", xx)\n",
        "\n",
        "print(\"Computed solution = \",x)\n",
        "\n",
        "print(\"Error = \", la.norm(xx-x))"
      ]
    },
    {
      "cell_type": "code",
      "execution_count": null,
      "metadata": {
        "slideshow": {
          "slide_type": "-"
        }
      },
      "outputs": [],
      "source": [
        "P"
      ]
    }
  ],
  "metadata": {
    "kernelspec": {
      "display_name": "Python 3",
      "language": "python",
      "name": "python3"
    },
    "language_info": {
      "codemirror_mode": {
        "name": "ipython",
        "version": 3
      },
      "file_extension": ".py",
      "mimetype": "text/x-python",
      "name": "python",
      "nbconvert_exporter": "python",
      "pygments_lexer": "ipython3",
      "version": "3.8.0"
    }
  },
  "nbformat": 4,
  "nbformat_minor": 2
}