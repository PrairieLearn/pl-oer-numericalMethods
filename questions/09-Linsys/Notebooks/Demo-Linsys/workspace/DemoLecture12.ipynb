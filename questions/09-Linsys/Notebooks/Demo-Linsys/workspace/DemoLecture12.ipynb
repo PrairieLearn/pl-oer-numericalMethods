{
 "cells": [
  {
   "cell_type": "code",
   "execution_count": 2,
   "id": "04295911",
   "metadata": {},
   "outputs": [],
   "source": [
    "import matplotlib.pyplot as plt\n",
    "%matplotlib inline\n",
    "\n",
    "import numpy as np\n",
    "import numpy.linalg as la\n",
    "import scipy.linalg as sla\n",
    "import scipy.sparse as sp\n",
    "import scipy.sparse.linalg as spla"
   ]
  },
  {
   "cell_type": "markdown",
   "id": "2bf5cb2e",
   "metadata": {},
   "source": [
    "# Norms"
   ]
  },
  {
   "cell_type": "code",
   "execution_count": 3,
   "id": "ad808777",
   "metadata": {},
   "outputs": [
    {
     "name": "stdout",
     "output_type": "stream",
     "text": [
      "[0.6941883  0.34446549 0.16584797 0.79286753 0.8055187  0.22374267\n",
      " 0.39421691 0.35993428 0.70158379 0.39689181]\n",
      "1.002903957568391 1.002903957568391\n"
     ]
    }
   ],
   "source": [
    "v = np.random.rand(10)\n",
    "print(v)\n",
    "\n",
    "p = 5\n",
    "\n",
    "#clear\n",
    "\n",
    "normv = 0\n",
    "for vi in v:\n",
    "    normv += vi**p\n",
    "normv = normv**(1/p)\n",
    "  \n",
    "print(normv, la.norm(v,p))"
   ]
  },
  {
   "cell_type": "code",
   "execution_count": 3,
   "id": "ed73db57",
   "metadata": {},
   "outputs": [
    {
     "name": "stdout",
     "output_type": "stream",
     "text": [
      "(10, 10)\n",
      "(10,)\n",
      "4.750681993825184 4.92906067502148\n"
     ]
    }
   ],
   "source": [
    "n = 10\n",
    "\n",
    "A = np.random.rand(n,n)\n",
    "print(A.shape)\n",
    "\n",
    "v = np.random.rand(n)\n",
    "print(v.shape)\n",
    "\n",
    "p = 2\n",
    "\n",
    "#clear\n",
    "\n",
    "#get norm v\n",
    "normv = 0\n",
    "for vi in v:\n",
    "    normv += vi**p\n",
    "normv = normv**(1/p)\n",
    "\n",
    "#get norm Av\n",
    "Av = A@v\n",
    "normAv = 0\n",
    "for vi in Av:\n",
    "    normAv += vi**p\n",
    "normAv = normAv**(1/p)\n",
    " \n",
    "print(normAv/normv, la.norm(A,2))"
   ]
  },
  {
   "cell_type": "code",
   "execution_count": 4,
   "id": "9547acc0",
   "metadata": {},
   "outputs": [
    {
     "name": "stdout",
     "output_type": "stream",
     "text": [
      "(10, 10)\n",
      "5.010522943162962 5.030201859185762\n"
     ]
    }
   ],
   "source": [
    "#clear\n",
    "\n",
    "n = 10\n",
    "\n",
    "A = np.random.rand(n,n)\n",
    "print(A.shape)\n",
    "\n",
    "p = 2\n",
    "\n",
    "normA = 0\n",
    "\n",
    "for i in range(100000):\n",
    "\n",
    "    v = np.random.rand(n)\n",
    "\n",
    "    #get norm v\n",
    "    normv = 0\n",
    "    for vi in v:\n",
    "        normv += vi**p\n",
    "    normv = normv**(1/p)\n",
    "\n",
    "    #get norm Av\n",
    "    Av = A@v\n",
    "    normAv = 0\n",
    "    for vi in Av:\n",
    "        normAv += vi**p\n",
    "    normAv = normAv**(1/p)\n",
    "    \n",
    "    normAtemp = normAv/normv\n",
    "    if normAtemp > normA:\n",
    "        normA = normAtemp\n",
    "\n",
    "\n",
    "print(normA, la.norm(A,p))"
   ]
  },
  {
   "cell_type": "markdown",
   "id": "87e41116",
   "metadata": {},
   "source": [
    "# Norms to quantify errors"
   ]
  },
  {
   "cell_type": "code",
   "execution_count": 5,
   "id": "8524e7b3",
   "metadata": {},
   "outputs": [
    {
     "data": {
      "text/plain": [
       "0.1"
      ]
     },
     "execution_count": 5,
     "metadata": {},
     "output_type": "execute_result"
    }
   ],
   "source": [
    "u = np.array([1,0])\n",
    "v = np.array([1,0.1])\n",
    "\n",
    "e = v-u\n",
    "la.norm(e,2)"
   ]
  },
  {
   "cell_type": "code",
   "execution_count": 6,
   "id": "41ebdb47",
   "metadata": {},
   "outputs": [
    {
     "data": {
      "text/plain": [
       "1.004987562112089"
      ]
     },
     "execution_count": 6,
     "metadata": {},
     "output_type": "execute_result"
    }
   ],
   "source": [
    "la.norm(v)"
   ]
  },
  {
   "cell_type": "code",
   "execution_count": 7,
   "id": "e5225214",
   "metadata": {},
   "outputs": [
    {
     "data": {
      "text/plain": [
       "1.0"
      ]
     },
     "execution_count": 7,
     "metadata": {},
     "output_type": "execute_result"
    }
   ],
   "source": [
    "la.norm(u)"
   ]
  },
  {
   "cell_type": "markdown",
   "id": "b21638b0",
   "metadata": {},
   "source": [
    "# Be careful with the default settings\n",
    "\n",
    "https://numpy.org/doc/stable/reference/generated/numpy.linalg.norm.html"
   ]
  },
  {
   "cell_type": "code",
   "execution_count": 8,
   "id": "d9548bc6",
   "metadata": {},
   "outputs": [
    {
     "name": "stdout",
     "output_type": "stream",
     "text": [
      "[[8 5 7]\n",
      " [2 0 1]\n",
      " [5 1 1]]\n",
      "13.038404810405298\n",
      "13.038404810405298\n",
      "12.753730981250325\n",
      "[12.75373098  2.63673594  0.6244755 ]\n",
      "15.0\n",
      "[15  6  9]\n",
      "20.0\n",
      "[20  3  7]\n"
     ]
    }
   ],
   "source": [
    "n = 3\n",
    "\n",
    "A = np.random.randint(10, size=(n,n))\n",
    "print(A)\n",
    "\n",
    "#clear\n",
    "\n",
    "print(la.norm(A))\n",
    "print(la.norm(A.flatten()))\n",
    "\n",
    "print(la.norm(A,2))\n",
    "print(la.svd(A)[1])\n",
    "\n",
    "print(la.norm(A,1))\n",
    "print(A.sum(axis=0))\n",
    "\n",
    "print(la.norm(A,np.inf))\n",
    "print(A.sum(axis=1))"
   ]
  },
  {
   "cell_type": "markdown",
   "id": "4db262e8",
   "metadata": {},
   "source": [
    "# Solve Linear System of Equations"
   ]
  },
  {
   "cell_type": "markdown",
   "id": "e374c1d5",
   "metadata": {
    "slideshow": {
     "slide_type": "-"
    }
   },
   "source": [
    "![](myfigure.png)"
   ]
  },
  {
   "cell_type": "markdown",
   "id": "20eab797",
   "metadata": {
    "slideshow": {
     "slide_type": "-"
    }
   },
   "source": [
    "When performing optimization of structural problem, for example to obtain the bridge design above, you may want to use a numerical method called Finite Element Method (you will learn this in a future MP). The optimization will consist of a series of `solve` of the form:\n",
    "$$ {\\bf K} {\\bf u} = {\\bf F} $$\n",
    "\n",
    "Here will load the matrix $ {\\bf K}$ from a file. The matrix is given in Compressed Sparse Column (CSC) format."
   ]
  },
  {
   "cell_type": "code",
   "execution_count": 9,
   "id": "8d485edb",
   "metadata": {
    "slideshow": {
     "slide_type": "-"
    }
   },
   "outputs": [
    {
     "data": {
      "text/plain": [
       "<6600x6600 sparse matrix of type '<class 'numpy.float64'>'\n",
       "\twith 105912 stored elements in Compressed Sparse Column format>"
      ]
     },
     "execution_count": 9,
     "metadata": {},
     "output_type": "execute_result"
    }
   ],
   "source": [
    "K = sp.load_npz('yourmatrix.npz')\n",
    "K"
   ]
  },
  {
   "cell_type": "markdown",
   "id": "f3e2cb23",
   "metadata": {
    "slideshow": {
     "slide_type": "slide"
    }
   },
   "source": [
    "We can `spy` the distribution of the non-zero entries of the matrix:"
   ]
  },
  {
   "cell_type": "code",
   "execution_count": 10,
   "id": "5f13cfed",
   "metadata": {
    "slideshow": {
     "slide_type": "-"
    }
   },
   "outputs": [
    {
     "data": {
      "image/png": "[encoded data removed]",
      "text/plain": [
       "<Figure size 432x288 with 1 Axes>"
      ]
     },
     "metadata": {
      "needs_background": "light"
     },
     "output_type": "display_data"
    }
   ],
   "source": [
    "plt.spy(K)\n",
    "plt.show()"
   ]
  },
  {
   "cell_type": "markdown",
   "id": "d6b03e72",
   "metadata": {
    "slideshow": {
     "slide_type": "-"
    }
   },
   "source": [
    "The matrix ${\\bf K}$ has a banded format, and it is also symmetric and positive definite. "
   ]
  },
  {
   "cell_type": "code",
   "execution_count": 11,
   "id": "4cb21500",
   "metadata": {
    "slideshow": {
     "slide_type": "-"
    }
   },
   "outputs": [],
   "source": [
    "Kdense = K.todense()"
   ]
  },
  {
   "cell_type": "code",
   "execution_count": 12,
   "id": "184a8c19",
   "metadata": {
    "slideshow": {
     "slide_type": "skip"
    }
   },
   "outputs": [
    {
     "data": {
      "text/plain": [
       "(6600, 6600)"
      ]
     },
     "execution_count": 12,
     "metadata": {},
     "output_type": "execute_result"
    }
   ],
   "source": [
    "Kdense.shape"
   ]
  },
  {
   "cell_type": "markdown",
   "id": "9f57525b",
   "metadata": {
    "slideshow": {
     "slide_type": "slide"
    }
   },
   "source": [
    "### Solving the linear system of equations using different methods:"
   ]
  },
  {
   "cell_type": "code",
   "execution_count": 13,
   "id": "b712e696",
   "metadata": {
    "slideshow": {
     "slide_type": "-"
    }
   },
   "outputs": [],
   "source": [
    "F = np.zeros(K.shape[0])\n",
    "F[1]=-1"
   ]
  },
  {
   "cell_type": "markdown",
   "id": "7fe81814",
   "metadata": {
    "slideshow": {
     "slide_type": "-"
    }
   },
   "source": [
    "#### a) la.solve"
   ]
  },
  {
   "cell_type": "code",
   "execution_count": 14,
   "id": "1315f92c",
   "metadata": {
    "slideshow": {
     "slide_type": "-"
    }
   },
   "outputs": [
    {
     "data": {
      "text/plain": [
       "(6600,)"
      ]
     },
     "execution_count": 14,
     "metadata": {},
     "output_type": "execute_result"
    }
   ],
   "source": [
    "u1 = sla.solve(Kdense,F)\n",
    "u1.shape"
   ]
  },
  {
   "cell_type": "markdown",
   "id": "fdd427a9",
   "metadata": {
    "slideshow": {
     "slide_type": "slide"
    }
   },
   "source": [
    "#### b) LU factorization"
   ]
  },
  {
   "cell_type": "code",
   "execution_count": 15,
   "id": "7a37cbe4",
   "metadata": {
    "slideshow": {
     "slide_type": "-"
    }
   },
   "outputs": [
    {
     "data": {
      "text/plain": [
       "(6600,)"
      ]
     },
     "execution_count": 15,
     "metadata": {},
     "output_type": "execute_result"
    }
   ],
   "source": [
    "P,L,U = sla.lu(Kdense)\n",
    "y = sla.solve_triangular(L, np.dot(P.T, F), lower=True)\n",
    "u2 = sla.solve_triangular(U, y)\n",
    "u2.shape"
   ]
  },
  {
   "cell_type": "markdown",
   "id": "d2542088",
   "metadata": {
    "slideshow": {
     "slide_type": "slide"
    }
   },
   "source": [
    "#### c) Cholesky factorization"
   ]
  },
  {
   "cell_type": "code",
   "execution_count": 16,
   "id": "bb97ef85",
   "metadata": {
    "slideshow": {
     "slide_type": "-"
    }
   },
   "outputs": [
    {
     "data": {
      "text/plain": [
       "(6600,)"
      ]
     },
     "execution_count": 16,
     "metadata": {},
     "output_type": "execute_result"
    }
   ],
   "source": [
    "Kcho = sla.cholesky(Kdense)\n",
    "u3 = sla.cho_solve((Kcho,False),F)\n",
    "u3.shape"
   ]
  },
  {
   "cell_type": "markdown",
   "id": "0a651f4e",
   "metadata": {
    "slideshow": {
     "slide_type": "slide"
    }
   },
   "source": [
    "#### d) Sparse solve"
   ]
  },
  {
   "cell_type": "code",
   "execution_count": 17,
   "id": "70dcc3c7",
   "metadata": {
    "slideshow": {
     "slide_type": "-"
    }
   },
   "outputs": [
    {
     "data": {
      "text/plain": [
       "(6600,)"
      ]
     },
     "execution_count": 17,
     "metadata": {},
     "output_type": "execute_result"
    }
   ],
   "source": [
    "u4 = spla.spsolve(K,F)\n",
    "u4.shape"
   ]
  },
  {
   "cell_type": "markdown",
   "id": "1fccdb66",
   "metadata": {},
   "source": [
    "# What is happening inside \"solve\"?"
   ]
  },
  {
   "cell_type": "markdown",
   "id": "3b882d38",
   "metadata": {
    "slideshow": {
     "slide_type": "skip"
    }
   },
   "source": [
    "Inside \"Solve\" there are factorization and substitutions. For example, let's think of LU factorization.\n",
    "\n",
    "We want to solve $Ax = P L U x = b$. We perform the following steps:\n",
    "\n",
    "1. Factorize $A = P L U$\n",
    "2. $y \\leftarrow \\text{solve}\\,\\, L y = P^Tb$\n",
    "3. $x \\leftarrow \\text{solve}\\,\\, U x = y$"
   ]
  },
  {
   "cell_type": "markdown",
   "id": "8acdb4a6",
   "metadata": {},
   "source": [
    "## Why do we split the factorization and substitutions?"
   ]
  },
  {
   "cell_type": "code",
   "execution_count": 18,
   "id": "f7db31c6",
   "metadata": {},
   "outputs": [],
   "source": [
    "F = np.zeros(K.shape[0])\n",
    "F[1]=-10\n",
    "F[0]=5"
   ]
  },
  {
   "cell_type": "code",
   "execution_count": 19,
   "id": "89473d8d",
   "metadata": {},
   "outputs": [
    {
     "data": {
      "text/plain": [
       "array([-459.314442  , -475.51384278, -468.07847515, ...,  119.77705961,\n",
       "        -11.59014506,  138.47099828])"
      ]
     },
     "execution_count": 19,
     "metadata": {},
     "output_type": "execute_result"
    }
   ],
   "source": [
    "sla.solve(Kdense,F)"
   ]
  },
  {
   "cell_type": "code",
   "execution_count": 20,
   "id": "cfbbd71e",
   "metadata": {},
   "outputs": [
    {
     "data": {
      "text/plain": [
       "array([-459.314442  , -475.51384278, -468.07847515, ...,  119.77705961,\n",
       "        -11.59014506,  138.47099828])"
      ]
     },
     "execution_count": 20,
     "metadata": {},
     "output_type": "execute_result"
    }
   ],
   "source": [
    "P, L, U = sla.lu(Kdense)\n",
    "\n",
    "y = sla.solve_triangular(L, P.T@F, lower=True)\n",
    "\n",
    "sla.solve_triangular(U, y)"
   ]
  },
  {
   "cell_type": "code",
   "execution_count": 21,
   "id": "58371a3e",
   "metadata": {},
   "outputs": [
    {
     "data": {
      "text/plain": [
       "array([1887.13375621, 1878.39516289, 1860.03769023, ..., -478.84908937,\n",
       "         46.36058189, -553.53877926])"
      ]
     },
     "execution_count": 21,
     "metadata": {},
     "output_type": "execute_result"
    }
   ],
   "source": [
    "#clear\n",
    "F[1]=10\n",
    "F[0]=10\n",
    "y = sla.solve_triangular(L, P.T@F, lower=True)\n",
    "sla.solve_triangular(U, y)"
   ]
  },
  {
   "cell_type": "markdown",
   "id": "0c742d75",
   "metadata": {
    "slideshow": {
     "slide_type": "slide"
    }
   },
   "source": [
    "# Simple example"
   ]
  },
  {
   "cell_type": "markdown",
   "id": "e1f4b35e",
   "metadata": {
    "slideshow": {
     "slide_type": "-"
    }
   },
   "source": [
    "\n",
    "$$\n",
    "Ax = \\begin{bmatrix}c&1\\\\-1&1\\end{bmatrix}\\begin{bmatrix}x_1\\\\x_2\\end{bmatrix}\n",
    "=\n",
    "\\begin{bmatrix}b_1\\\\b_2\\end{bmatrix}\n",
    "$$\n",
    "with an exact solution of\n",
    "$$\n",
    "x_{exact} = \\begin{bmatrix}1\\\\1\\end{bmatrix}\n",
    "$$"
   ]
  },
  {
   "cell_type": "code",
   "execution_count": 22,
   "id": "d8139ebf",
   "metadata": {
    "slideshow": {
     "slide_type": "slide"
    }
   },
   "outputs": [],
   "source": [
    "def myLU(A): \n",
    "    M = A.copy()\n",
    "    for i in range(A.shape[0]):\n",
    "        M[i+1:,i] = M[i+1:,i]/M[i,i]\n",
    "        M[i+1:,i+1:] -= np.outer(M[i+1:,i],M[i,i+1:]) \n",
    "    return M"
   ]
  },
  {
   "cell_type": "code",
   "execution_count": 23,
   "id": "b41b6e99",
   "metadata": {
    "slideshow": {
     "slide_type": "-"
    }
   },
   "outputs": [
    {
     "name": "stdout",
     "output_type": "stream",
     "text": [
      "Exact solution =  [1 1]\n",
      "Computed solution =  [0. 1.]\n",
      "Error =  1.0\n"
     ]
    }
   ],
   "source": [
    "# Creating the arrays\n",
    "c = 1e-16\n",
    "A = np.array([[c, 1.], [-1, 1]])\n",
    "# xx is the exact solution\n",
    "xx = np.array([1,1])\n",
    "b = A.dot(xx)\n",
    "\n",
    "# Comput the LU\n",
    "M = myLU(A)\n",
    "L = np.tril(M,-1) + np.eye(2,2)\n",
    "U = np.triu(M)\n",
    "\n",
    "# Solve\n",
    "# x is the numerical (xhat)\n",
    "y = sla.solve_triangular(L, b, lower=True)\n",
    "x = sla.solve_triangular(U, y)\n",
    "\n",
    "\n",
    "print(\"Exact solution = \", xx)\n",
    "\n",
    "print(\"Computed solution = \",x)\n",
    "\n",
    "print(\"Error = \", la.norm(xx-x))\n"
   ]
  },
  {
   "cell_type": "markdown",
   "id": "d90ff731",
   "metadata": {},
   "source": [
    "Is the matrix A singular?\n",
    "\n",
    "A) YES\n",
    "\n",
    "B) NO\n"
   ]
  },
  {
   "cell_type": "code",
   "execution_count": 24,
   "id": "625e906a",
   "metadata": {},
   "outputs": [
    {
     "name": "stdout",
     "output_type": "stream",
     "text": [
      "Exact solution =  [1 1]\n",
      "Computed solution =  [1. 1.]\n",
      "Error =  0.0\n"
     ]
    }
   ],
   "source": [
    "#clear\n",
    "\n",
    "# Creating the arrays\n",
    "c = 1e-16\n",
    "A = np.array([[c, 1.], [-1, 1]])\n",
    "# xx is the exact solution\n",
    "xx = np.array([1,1])\n",
    "b = A.dot(xx)\n",
    "\n",
    "# P,L,U = sla.lu(A)\n",
    "# y = sla.solve_triangular(L, P.T@b, lower=True)\n",
    "# x = sla.solve_triangular(U, y)\n",
    "\n",
    "x = la.solve(A,b)\n",
    "\n",
    "\n",
    "print(\"Exact solution = \", xx)\n",
    "\n",
    "print(\"Computed solution = \",x)\n",
    "\n",
    "print(\"Error = \", la.norm(xx-x))"
   ]
  },
  {
   "cell_type": "code",
   "execution_count": 25,
   "id": "1cb749f4",
   "metadata": {},
   "outputs": [
    {
     "name": "stdout",
     "output_type": "stream",
     "text": [
      "0.0\n"
     ]
    }
   ],
   "source": [
    "Asing = np.array([[4,6],[2,3]])\n",
    "print(la.det(Asing))\n",
    "b = np.random.rand(2)"
   ]
  },
  {
   "cell_type": "code",
   "execution_count": 29,
   "id": "644e0b95",
   "metadata": {},
   "outputs": [
    {
     "ename": "LinAlgError",
     "evalue": "singular matrix: resolution failed at diagonal 1",
     "output_type": "error",
     "traceback": [
      "\u001b[0;31m---------------------------------------------------------------------------\u001b[0m",
      "\u001b[0;31mLinAlgError\u001b[0m                               Traceback (most recent call last)",
      "\u001b[0;32m/var/folders/vh/f4w57yz16hvfwvzfr3jjvgsr0000gn/T/ipykernel_97295/1289125899.py\u001b[0m in \u001b[0;36m<module>\u001b[0;34m\u001b[0m\n\u001b[1;32m      4\u001b[0m \u001b[0my\u001b[0m \u001b[0;34m=\u001b[0m \u001b[0msla\u001b[0m\u001b[0;34m.\u001b[0m\u001b[0msolve_triangular\u001b[0m\u001b[0;34m(\u001b[0m\u001b[0mL\u001b[0m\u001b[0;34m,\u001b[0m \u001b[0mP\u001b[0m\u001b[0;34m.\u001b[0m\u001b[0mT\u001b[0m\u001b[0;34m@\u001b[0m\u001b[0mb\u001b[0m\u001b[0;34m,\u001b[0m \u001b[0mlower\u001b[0m\u001b[0;34m=\u001b[0m\u001b[0;32mTrue\u001b[0m\u001b[0;34m)\u001b[0m\u001b[0;34m\u001b[0m\u001b[0;34m\u001b[0m\u001b[0m\n\u001b[1;32m      5\u001b[0m \u001b[0;34m\u001b[0m\u001b[0m\n\u001b[0;32m----> 6\u001b[0;31m \u001b[0mx\u001b[0m \u001b[0;34m=\u001b[0m \u001b[0msla\u001b[0m\u001b[0;34m.\u001b[0m\u001b[0msolve_triangular\u001b[0m\u001b[0;34m(\u001b[0m\u001b[0mU\u001b[0m\u001b[0;34m,\u001b[0m \u001b[0my\u001b[0m\u001b[0;34m)\u001b[0m\u001b[0;34m\u001b[0m\u001b[0;34m\u001b[0m\u001b[0m\n\u001b[0m\u001b[1;32m      7\u001b[0m \u001b[0;34m\u001b[0m\u001b[0m\n\u001b[1;32m      8\u001b[0m \u001b[0;31m# x = la.solve(Asing,b)\u001b[0m\u001b[0;34m\u001b[0m\u001b[0;34m\u001b[0m\u001b[0m\n",
      "\u001b[0;32m~/opt/anaconda3/lib/python3.9/site-packages/scipy/linalg/basic.py\u001b[0m in \u001b[0;36msolve_triangular\u001b[0;34m(a, b, trans, lower, unit_diagonal, overwrite_b, debug, check_finite)\u001b[0m\n\u001b[1;32m    359\u001b[0m         \u001b[0;32mreturn\u001b[0m \u001b[0mx\u001b[0m\u001b[0;34m\u001b[0m\u001b[0;34m\u001b[0m\u001b[0m\n\u001b[1;32m    360\u001b[0m     \u001b[0;32mif\u001b[0m \u001b[0minfo\u001b[0m \u001b[0;34m>\u001b[0m \u001b[0;36m0\u001b[0m\u001b[0;34m:\u001b[0m\u001b[0;34m\u001b[0m\u001b[0;34m\u001b[0m\u001b[0m\n\u001b[0;32m--> 361\u001b[0;31m         raise LinAlgError(\"singular matrix: resolution failed at diagonal %d\" %\n\u001b[0m\u001b[1;32m    362\u001b[0m                           (info-1))\n\u001b[1;32m    363\u001b[0m     raise ValueError('illegal value in %dth argument of internal trtrs' %\n",
      "\u001b[0;31mLinAlgError\u001b[0m: singular matrix: resolution failed at diagonal 1"
     ]
    }
   ],
   "source": [
    "\n",
    "P,L,U = sla.lu(Asing)\n",
    "\n",
    "# y = sla.solve_triangular(L, P.T@b, lower=True)\n",
    "\n",
    "# x = sla.solve_triangular(U, y)\n",
    "\n",
    "# x = la.solve(Asing,b)\n",
    "\n"
   ]
  },
  {
   "cell_type": "code",
   "execution_count": null,
   "id": "72742ffa",
   "metadata": {},
   "outputs": [],
   "source": []
  }
 ],
 "metadata": {
  "kernelspec": {
   "display_name": "Python 3 (ipykernel)",
   "language": "python",
   "name": "python3"
  },
  "language_info": {
   "codemirror_mode": {
    "name": "ipython",
    "version": 3
   },
   "file_extension": ".py",
   "mimetype": "text/x-python",
   "name": "python",
   "nbconvert_exporter": "python",
   "pygments_lexer": "ipython3",
   "version": "3.9.7"
  }
 },
 "nbformat": 4,
 "nbformat_minor": 5
}
