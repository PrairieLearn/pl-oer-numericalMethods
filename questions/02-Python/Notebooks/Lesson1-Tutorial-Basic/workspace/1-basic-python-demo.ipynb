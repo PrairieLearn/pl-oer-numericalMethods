{
  "cells": [
    {
      "cell_type": "markdown",
      "metadata": {},
      "source": [
        "# Basic Python\n",
        "\n",
        "This notebook walks through some of the basics\n",
        "of pure python, such as variables, data types,\n",
        "functions, etc.\n",
        "\n",
        "This notebook assumes Python 3.6+."
      ]
    },
    {
      "cell_type": "markdown",
      "metadata": {},
      "source": [
        "## Basic Datatypes\n",
        "\n",
        "* Integers\n",
        "* Floating-point numbers\n",
        "* Complex numbers\n",
        "* Booleans\n",
        "* Strings\n",
        "* `None`\n",
        "\n",
        "Can use the function `type()` to figure out the type if you are not sure.\n",
        "\n",
        "### Examples:"
      ]
    },
    {
      "cell_type": "markdown",
      "metadata": {},
      "source": [
        "#### Integers\n",
        "\n",
        "Integers have standard operators defined:\n",
        "\n",
        "* addition = `+`\n",
        "* subtraction = `-`\n",
        "* multiplication = `*`\n",
        "* division = `/`\n",
        "* modulo = `%`\n",
        "* power = `**`\n",
        "\n",
        "Dividing two integers produces a floating-point number; if you want the C-style \"divide and round down\" behavior, use the integer division operator `//`."
      ]
    },
    {
      "cell_type": "code",
      "execution_count": 1,
      "metadata": {},
      "outputs": [],
      "source": [
        "4+4"
      ]
    },
    {
      "cell_type": "code",
      "execution_count": 2,
      "metadata": {},
      "outputs": [],
      "source": [
        "a = [1,2,3]\n",
        "b = a"
      ]
    },
    {
      "cell_type": "code",
      "execution_count": 3,
      "metadata": {},
      "outputs": [],
      "source": [
        "a == b"
      ]
    },
    {
      "cell_type": "code",
      "execution_count": 4,
      "metadata": {},
      "outputs": [],
      "source": [
        "id(a)"
      ]
    },
    {
      "cell_type": "code",
      "execution_count": 5,
      "metadata": {},
      "outputs": [],
      "source": [
        "print(5)\n",
        "print(type(5))\n",
        "print(5 + 4)\n",
        "print(7 - 8)\n",
        "print(10 * 6)\n",
        "print(25 / 4)\n",
        "print(25 // 4)\n",
        "print(25 % 4)\n",
        "print(4**2)"
      ]
    },
    {
      "cell_type": "code",
      "execution_count": null,
      "metadata": {},
      "outputs": [],
      "source": []
    },
    {
      "cell_type": "markdown",
      "metadata": {},
      "source": [
        "#### Floating point numbers\n",
        "Like integers, standard operators are defined."
      ]
    },
    {
      "cell_type": "code",
      "execution_count": null,
      "metadata": {},
      "outputs": [],
      "source": []
    },
    {
      "cell_type": "code",
      "execution_count": 6,
      "metadata": {},
      "outputs": [],
      "source": [
        "print(5.0)\n",
        "print(type(5.0))\n",
        "print(4.0/5.0)"
      ]
    },
    {
      "cell_type": "markdown",
      "metadata": {},
      "source": [
        "#### Complex numbers\n",
        "Like integers and floating point numbers, standard operators are defined. Python uses `j` for the imaginary unit. You must prefix it with a number, otherwise Python will think you are using `j` as a variable."
      ]
    },
    {
      "cell_type": "code",
      "execution_count": 7,
      "metadata": {},
      "outputs": [],
      "source": [
        "print(5+1j)\n",
        "print(type(5+1j))\n",
        "print((5+1j) - (3-1j))"
      ]
    },
    {
      "cell_type": "markdown",
      "metadata": {},
      "source": [
        "#### Strings\n",
        "No differentiation between character and string.  Strings can be empty. \n",
        "\n",
        "Can use either ' (single quote) or \" (double quote) to open and close, but cannot mix opening and closing within the same string.  Recall that there are special characters that you may need to escape and there are special character combinations to represent whitespace.\n",
        "\n",
        "The addition operator is defined for strings and can be used to concatenate strings."
      ]
    },
    {
      "cell_type": "code",
      "execution_count": 8,
      "metadata": {},
      "outputs": [],
      "source": [
        "print(type(\"\"))\n",
        "print('hello world!')\n",
        "print('hello \"world\"!') # \" doesn't end string since it was started with '\n",
        "print('a \\\\ must be escaped, a tab is \\t, a newline is \\n ')\n",
        "print('ab' + 'c')"
      ]
    },
    {
      "cell_type": "markdown",
      "metadata": {},
      "source": [
        "##### Multiline strings"
      ]
    },
    {
      "cell_type": "code",
      "execution_count": 9,
      "metadata": {},
      "outputs": [],
      "source": [
        "print(\"\"\"\n",
        "         This\n",
        "         is\n",
        "         a \n",
        "         multiline\n",
        "         string.\"\"\")\n",
        "print(\"\"\"\n",
        "         So\n",
        "         is\n",
        "         this.\n",
        "         \"\"\")\n",
        "\n",
        "# Multiline strings are functionally multiline comments too\n",
        "print(\"Code I want to run\")\n",
        "\n",
        "'''\n",
        "print(\"Code I want not to run\")\n",
        "print(\"More code I want not to run\")\n",
        "'''"
      ]
    },
    {
      "cell_type": "markdown",
      "metadata": {},
      "source": [
        "#### Booleans\n",
        "\n",
        "Booleans can take one of two values:  `True` or `False`.\n",
        "Basic logical operators can be used to combine boolean values. Rather than use symbols like other languages, Python uses words as logical operators."
      ]
    },
    {
      "cell_type": "code",
      "execution_count": 10,
      "metadata": {},
      "outputs": [],
      "source": [
        "# Boolean literals: \"True\", \"False\"\n",
        "\n",
        "# Boolean operators: \"and\", \"(inclusive) or\", \"not\"\n",
        "\n",
        "print(type(True))\n",
        "print(True)\n",
        "print(True and False)\n",
        "print(True or False)\n",
        "print(not True)"
      ]
    },
    {
      "cell_type": "markdown",
      "metadata": {},
      "source": [
        "## Typecasting\n",
        "The above examples went through a variety of datatypes.  Recall that it's also possible to cast a value from one datatype to another (for instance turning an int into a string)."
      ]
    },
    {
      "cell_type": "code",
      "execution_count": 11,
      "metadata": {},
      "outputs": [],
      "source": [
        "print(type(str(5)))\n",
        "print(float(7))\n",
        "print(int(float(\"3.2\")))\n",
        "print(int(True))"
      ]
    },
    {
      "cell_type": "markdown",
      "metadata": {},
      "source": [
        "## Variables\n",
        "\n",
        "You can initialize a variable by assigning a value to a variable name.\n",
        "\n",
        "This can be done with with any of the data types discussed above.\n",
        "\n",
        "Note:  Python is dynamically typed, which means the variable type\n",
        "is automatically determined.  For instance, in the example below, x is initially an int, but turns into a string when we give it a string value."
      ]
    },
    {
      "cell_type": "code",
      "execution_count": 12,
      "metadata": {},
      "outputs": [],
      "source": [
        "x = 17\n",
        "print(type(x))\n",
        "x = 'hello'\n",
        "print(type(x))\n",
        "\n",
        "fruit = 'grapes'\n",
        "count = 10\n",
        "phrase = str(count) + ' ' + fruit\n",
        "print(phrase)\n"
      ]
    },
    {
      "cell_type": "markdown",
      "metadata": {},
      "source": [
        "You can also perform operations on variables and assign new\n",
        "values to variables."
      ]
    },
    {
      "cell_type": "code",
      "execution_count": 13,
      "metadata": {},
      "outputs": [],
      "source": [
        "x = 10\n",
        "x = x + 12\n",
        "print(x)"
      ]
    },
    {
      "cell_type": "markdown",
      "metadata": {},
      "source": [
        "In addition to the previous examples, there is also augmented assignment in python, where an augmented operator like *=, +=, etc. is used.\n",
        "\n",
        "Example:"
      ]
    },
    {
      "cell_type": "code",
      "execution_count": 14,
      "metadata": {},
      "outputs": [],
      "source": [
        "x = 3\n",
        "x += 5\n",
        "print(x)"
      ]
    },
    {
      "cell_type": "markdown",
      "metadata": {},
      "source": [
        "**N.B.** There is no `++` or `--` in Python; use `+= 1` or `-= 1` instead."
      ]
    },
    {
      "cell_type": "markdown",
      "metadata": {},
      "source": [
        "# String Formatting / Prettier print statements\n",
        "Up until this points, the examples have\n",
        "been single strings (or strings concatenated\n",
        "with the + operator).  Often more advanced string\n",
        "formatting with variables determined can be helpful for output.\n",
        "\n",
        "While there have been a variety of different methods for string formatting, we are focusing on `fstrings`, which allow for easy formatting.  An `fstring` is made by preceding the string by the\n",
        "letter \"f\" and then variables can be entered directly into brackets\n",
        "in the string for replacement."
      ]
    },
    {
      "cell_type": "code",
      "execution_count": 15,
      "metadata": {},
      "outputs": [],
      "source": [
        "name = 'Ana'\n",
        "food = 'pizza'\n",
        "count = 4\n",
        "\n",
        "phrase1 = f'{name} eats only {food} on weekends'\n",
        "print(phrase1)\n",
        "\n",
        "phrase2 = f'{name} eats {count} {food}s each week'\n",
        "print(phrase2)"
      ]
    },
    {
      "cell_type": "markdown",
      "metadata": {},
      "source": [
        "## Data Structures\n",
        "\n",
        "Often it is helpful to combine multiple values in a single data structure.  We'll review a couple of types.\n",
        "\n",
        "### Lists\n",
        "\n",
        "Lists in Python are an ordered collection that can contain arbitrary items.  Some properties of lists in Python:\n",
        "* Size changes automatically as items are added and removed\n",
        "* Mutable (the items in the list can change)\n",
        "* Arbitrary items (a list can contain a mix of datatypes, and even other data structures)\n",
        "\n",
        "#### Creating a list\n",
        "Lists are created using the bracket notation.  They can be created with items preadded or they can be created empty and simply added to later."
      ]
    },
    {
      "cell_type": "code",
      "execution_count": 16,
      "metadata": {},
      "outputs": [],
      "source": [
        "a = [1, 2, 3, 4]\n",
        "b = ['hello', 1, 2.5] # list containing variety of items\n",
        "c = [[1, 2, 3], # list of lists\n",
        "     [4, 5, 6]]\n",
        "d = [] # empty list"
      ]
    },
    {
      "cell_type": "markdown",
      "metadata": {},
      "source": [
        "#### Accessing a list\n",
        "Lists are accessed using the bracket notation.  Indexing starts at 0."
      ]
    },
    {
      "cell_type": "code",
      "execution_count": 17,
      "metadata": {},
      "outputs": [],
      "source": [
        "print(a[0])\n",
        "print(b[0])"
      ]
    },
    {
      "cell_type": "markdown",
      "metadata": {},
      "source": [
        "Going out of range will throw an error."
      ]
    },
    {
      "cell_type": "code",
      "execution_count": 18,
      "metadata": {},
      "outputs": [],
      "source": [
        "print(a[4])  # out of range"
      ]
    },
    {
      "cell_type": "markdown",
      "metadata": {},
      "source": [
        "Indexes for lists can also be negative.\n",
        "Negative indices count back from the end of the list."
      ]
    },
    {
      "cell_type": "code",
      "execution_count": null,
      "metadata": {},
      "outputs": [],
      "source": [
        "print(a[-1])  # last element\n",
        "print(a[-2])  # 2nd from last element"
      ]
    },
    {
      "cell_type": "markdown",
      "metadata": {},
      "source": [
        "For nested items (such as `c` above, the list of lists), the index determines which item from the outermost data structure is accessed.  Then, the same notation can be used to access into the retrieved data structure.  Example:"
      ]
    },
    {
      "cell_type": "code",
      "execution_count": null,
      "metadata": {},
      "outputs": [],
      "source": [
        "print(c[0])\n",
        "print(c[0][2])"
      ]
    },
    {
      "cell_type": "markdown",
      "metadata": {},
      "source": [
        "#### List Slicing\n",
        "The above examples all accessed an element of a list\n",
        "(whether that be another data structure or a value).\n",
        "Recall that we can also use slicing to access a subset\n",
        "of the items in a list.  To use slicing, provide the\n",
        "start and end index (end is exclusive)."
      ]
    },
    {
      "cell_type": "code",
      "execution_count": null,
      "metadata": {},
      "outputs": [],
      "source": [
        "print(a[1:3])\n",
        "print(a[1:])\n",
        "print(a[:2])"
      ]
    },
    {
      "cell_type": "markdown",
      "metadata": {},
      "source": [
        "#### Editing Lists\n",
        "Variety of ways to edit lists.  Some involve list functions.  Basic operations for editing a list are:\n",
        "* `append()` (add to end)\n",
        "* `insert()` (add item at a specific index)\n",
        "* `remove()` (remove specific item)\n",
        "* `pop()` (remove item at specific index and return item)\n",
        "* `del` (remove item at specific index)\n",
        "\n",
        "\n",
        "Many methods that operate on lists are available\n",
        "[`python list documentation`](https://docs.python.org/3/tutorial/datastructures.html#more-on-lists)\n",
        "\n",
        "Examples:"
      ]
    },
    {
      "cell_type": "code",
      "execution_count": null,
      "metadata": {},
      "outputs": [],
      "source": [
        "a.append(6)  # adds to the end\n",
        "print(a)\n",
        "a[4] = 5  # sets item at position 4\n",
        "print(a)\n",
        "a.remove(3)  # removes the first 3 in the list\n",
        "print(a)\n",
        "del a[2]  # removes the item at position 2\n",
        "print(a)"
      ]
    },
    {
      "cell_type": "markdown",
      "metadata": {},
      "source": [
        "#### List Functions\n",
        "Wide variety of functions, see [`python list documentation`](https://docs.python.org/3/tutorial/datastructures.html#more-on-lists).\n",
        "\n",
        "Examples:"
      ]
    },
    {
      "cell_type": "code",
      "execution_count": null,
      "metadata": {},
      "outputs": [],
      "source": [
        "print(a)"
      ]
    },
    {
      "cell_type": "markdown",
      "metadata": {},
      "source": [
        "Length of a list (note, this is number of items in outer list if list contains other data structures)"
      ]
    },
    {
      "cell_type": "code",
      "execution_count": null,
      "metadata": {},
      "outputs": [],
      "source": [
        "print(len(a))"
      ]
    },
    {
      "cell_type": "markdown",
      "metadata": {},
      "source": [
        "Checking if items are in a list.  How to check will depend on whether the index of the item is needed."
      ]
    },
    {
      "cell_type": "code",
      "execution_count": null,
      "metadata": {},
      "outputs": [],
      "source": [
        "print(5 in a) # just checking if in, not getting index\n",
        "print(-1 in a)# just checking if in, not getting index\n",
        "print(a.index(1))  # gets the first index of "
      ]
    },
    {
      "cell_type": "markdown",
      "metadata": {},
      "source": [
        "Other list functions are also available for things like:\n",
        "* sorting a list\n",
        "* reversing a list\n",
        "* counting number of times something occurs in a list"
      ]
    },
    {
      "cell_type": "code",
      "execution_count": null,
      "metadata": {},
      "outputs": [],
      "source": [
        "print(a.index(1))  # the index of the first 3\n",
        "print(a.count(5))\n",
        "a.reverse()  # these are in-place operations\n",
        "print(a)\n",
        "a.sort()\n",
        "print(a)"
      ]
    },
    {
      "cell_type": "markdown",
      "metadata": {},
      "source": [
        "#### Caution!\n",
        "Recall that you should be careful when dealing with lists as the data may not be copied. Be careful to make sure you are not inadvertently editing a list.\n",
        "\n",
        "Example:  what happens to a and b"
      ]
    },
    {
      "cell_type": "code",
      "execution_count": null,
      "metadata": {},
      "outputs": [],
      "source": [
        "a = [0, 1, 2, 3, 4]\n",
        "b = a\n",
        "b[2] = 6\n",
        "\n",
        "print(a)\n",
        "print(b)\n",
        "\n",
        "c = a.copy()\n",
        "c[4] = 7\n",
        "\n",
        "print(a)\n",
        "print(c)\n"
      ]
    },
    {
      "cell_type": "markdown",
      "metadata": {},
      "source": [
        "### Tuples\n",
        "Tuples are similar to lists, except they are of fixed length and are immutable (you cannot change what is in the tuple).  Tuples are represented using parentheses instead of brackets.  \n",
        "\n",
        "#### Creating tuples"
      ]
    },
    {
      "cell_type": "code",
      "execution_count": null,
      "metadata": {},
      "outputs": [],
      "source": [
        "a = (1, 2, 3)\n",
        "b = (['hi', 3], 5, 7)"
      ]
    },
    {
      "cell_type": "markdown",
      "metadata": {},
      "source": [
        "#### Accessing tuple elements\n",
        "\n",
        "Accessing elements of tuples is done via the bracket notation (the same format as with lists)."
      ]
    },
    {
      "cell_type": "code",
      "execution_count": null,
      "metadata": {},
      "outputs": [],
      "source": [
        "print(a[2])"
      ]
    },
    {
      "cell_type": "markdown",
      "metadata": {},
      "source": [
        "Recall:  cannot change tuple\n",
        "\n",
        "Trying to change elements will cause an error."
      ]
    },
    {
      "cell_type": "code",
      "execution_count": null,
      "metadata": {},
      "outputs": [],
      "source": [
        "a[2] = 5  # error"
      ]
    },
    {
      "cell_type": "markdown",
      "metadata": {},
      "source": [
        "#### Unpacking tuples\n",
        "\n",
        "Another primary use of tuples is to pass around multiple items (such as returning multiple items from a function).  Often we want to separate the elements into different variables immediately.  This can be done easily via unpacking.\n",
        "\n",
        "Unpacking example:"
      ]
    },
    {
      "cell_type": "code",
      "execution_count": null,
      "metadata": {},
      "outputs": [],
      "source": [
        "x, y = ('diameter', 4+5)"
      ]
    },
    {
      "cell_type": "markdown",
      "metadata": {},
      "source": [
        "## Conditional Statements\n",
        "Conditional statements allow for performing different actions based on some condition.  The conditions must evaluate as a boolean (see section on booleans above for the results of boolean logic).\n",
        "\n",
        "Example conditionals:"
      ]
    },
    {
      "cell_type": "code",
      "execution_count": null,
      "metadata": {},
      "outputs": [],
      "source": [
        "x = 10\n",
        "y = 5\n",
        "if x<5:\n",
        "    print('x is small')\n",
        "    \n",
        "elif x>5:\n",
        "    print('x is big')\n",
        "    \n",
        "elif x == 5 and y==5:\n",
        "    print('x and y are 5')\n",
        "    \n",
        "else:\n",
        "    print('x is 5, y is not')\n"
      ]
    },
    {
      "cell_type": "markdown",
      "metadata": {},
      "source": [
        "## Caution:  whitespace is important\n",
        "\n",
        "For things like conditionals (above), loops (below),\n",
        "and functions (below), the tabbing must be consistent (indentation matters)."
      ]
    },
    {
      "cell_type": "markdown",
      "metadata": {},
      "source": [
        "## Looping\n",
        "\n",
        "### For loops\n",
        "For loops are good when you are looping through a\n",
        "specific set of values, such as looping through the\n",
        "values in a list or looping through a set number of\n",
        "(such as looping through a range of indices).\n",
        "\n",
        "#### Examples:  looping through list of items"
      ]
    },
    {
      "cell_type": "code",
      "execution_count": null,
      "metadata": {},
      "outputs": [],
      "source": [
        "ice_creams = ('Chocolate', 'Vanilla', 'Cookie Dough')\n",
        "for flavor in ice_creams:\n",
        "    print(f'I like {flavor} ice cream')"
      ]
    },
    {
      "cell_type": "markdown",
      "metadata": {},
      "source": [
        "For loops are often combined with\n",
        "[`range()`](https://docs.python.org/3/library/functions.html#func-range)\n",
        "which easily generates values to loop through in a range object.\n",
        "            \n",
        "#### Examples:  looping over range of values"
      ]
    },
    {
      "cell_type": "code",
      "execution_count": null,
      "metadata": {},
      "outputs": [],
      "source": [
        "for i in range(3):\n",
        "    print(i)\n",
        "\n",
        "print('\\n')\n",
        "\n",
        "# Get the product of numbers one through ten\n",
        "product = 1\n",
        "for i in range(1, 11):\n",
        "    product *= i\n",
        "print(product)"
      ]
    },
    {
      "cell_type": "markdown",
      "metadata": {},
      "source": [
        "### While loops\n",
        "Python also has while loops for when it's more appropriate to loop until a condition has been met.\n",
        "\n",
        "Example:"
      ]
    },
    {
      "cell_type": "code",
      "execution_count": null,
      "metadata": {},
      "outputs": [],
      "source": [
        "val = 15.3\n",
        "while val > 1:\n",
        "    print('dividing in half')\n",
        "    val = val/2.0\n",
        "print(f'val is less than 1, val={val}')"
      ]
    },
    {
      "cell_type": "markdown",
      "metadata": {},
      "source": [
        "#### Iterating until something stops changing\n",
        "\n",
        "While loops are frequently used when looping\n",
        "until some sort of convergence.  The following\n",
        "example shows what that sort of while loop looks\n",
        "like, looping until the value stops changing within\n",
        "a given tolerance."
      ]
    },
    {
      "cell_type": "code",
      "execution_count": null,
      "metadata": {},
      "outputs": [],
      "source": [
        "n = 1\n",
        "prev = 0\n",
        "tol = 1e-5\n",
        "curr = 0.5\n",
        "while abs(prev - curr) > tol:\n",
        "    prev = curr\n",
        "    curr += 0.5**n\n",
        "    n += 1\n",
        "    \n",
        "print(f'Converged in {n} iterations\\ncurr = {curr}, prev = {prev}')"
      ]
    },
    {
      "cell_type": "markdown",
      "metadata": {},
      "source": [
        "## Nested Loops and Conditionals\n",
        "\n",
        "The previous for loop, while loop, and conditional examples were all single levels of loops or conditionals.  Loops and conditionals are frequently nested (loops within loops, conditionals within loops, etc.). "
      ]
    },
    {
      "cell_type": "markdown",
      "metadata": {},
      "source": [
        "## Functions\n",
        "Functions are a way to separate out commonly performed operations.\n",
        "They can (but do not have to) take parameters and/or return values"
      ]
    },
    {
      "cell_type": "code",
      "execution_count": null,
      "metadata": {},
      "outputs": [],
      "source": [
        "def greet(name):\n",
        "    print(f'Hello {name}! Welcome to CS 199!')\n",
        "    \n",
        "greet('Bob')\n",
        "greet('Ana')"
      ]
    },
    {
      "cell_type": "markdown",
      "metadata": {},
      "source": [
        "Now we look at a slightly more complex example of a function\n",
        "that performs some computations to get a result.  This function\n",
        "is designed to convert between Celsius and Fahrenheit."
      ]
    },
    {
      "cell_type": "code",
      "execution_count": null,
      "metadata": {},
      "outputs": [],
      "source": [
        "def convert(deg, celsius=True):\n",
        "    if celsius:\n",
        "        temp = (9 / 5.) * deg + 32\n",
        "    else:\n",
        "        temp = (5 / 9.) * (deg - 32)\n",
        "    \n",
        "temp_cels = -8\n",
        "print(f'It is {convert(temp_cels)} degrees Fahrenheit outside.')"
      ]
    },
    {
      "cell_type": "markdown",
      "metadata": {},
      "source": [
        "But that doesn't look right ... it's saying the temperature is `None`. \n",
        "\n",
        "Question:  What could be going wrong?\n",
        "\n",
        "Answer:  Nothing being returned.  If you don't specify what to return from a function, python by default returns `None`, so need to clearly return the desired variable.\n",
        "\n",
        "The following example shows the corrected function."
      ]
    },
    {
      "cell_type": "code",
      "execution_count": null,
      "metadata": {},
      "outputs": [],
      "source": [
        "def convert(deg, celsius=True):\n",
        "    if celsius:\n",
        "        temp = (9 / 5.) * deg + 32\n",
        "    else:\n",
        "        temp = (5 / 9.) * (deg - 32)\n",
        "    \n",
        "    return temp\n",
        "\n",
        "temp_cels = -8\n",
        "print(f'It is {convert(temp_cels)} degrees Fahrenheit outside.')"
      ]
    },
    {
      "cell_type": "markdown",
      "metadata": {},
      "source": [
        "## Basic Libraries\n",
        "### Math library\n",
        "\n",
        "The math library contains a variety of basic math\n",
        "functions and relevant math constants.\n",
        "\n",
        "Examples:"
      ]
    },
    {
      "cell_type": "code",
      "execution_count": null,
      "metadata": {},
      "outputs": [],
      "source": [
        "import math\n",
        "print(math.sin(2*math.pi))\n",
        "print(math.log(math.e))"
      ]
    },
    {
      "cell_type": "markdown",
      "metadata": {},
      "source": [
        "What if we don't recall whether the log function is base 10 or natural log?  How can we find out?\n",
        "* Online documentation [`math logarithmic functions`](https://docs.python.org/2/library/math.html#)\n",
        "* help function (see below)"
      ]
    },
    {
      "cell_type": "code",
      "execution_count": null,
      "metadata": {},
      "outputs": [],
      "source": [
        "help(math.log)"
      ]
    }
  ],
  "metadata": {
    "kernelspec": {
      "display_name": "Python 3",
      "language": "python",
      "name": "python3"
    },
    "language_info": {
      "codemirror_mode": {
        "name": "ipython",
        "version": 3
      },
      "file_extension": ".py",
      "mimetype": "text/x-python",
      "name": "python",
      "nbconvert_exporter": "python",
      "pygments_lexer": "ipython3",
      "version": "3.6.6"
    }
  },
  "nbformat": 4,
  "nbformat_minor": 4
}