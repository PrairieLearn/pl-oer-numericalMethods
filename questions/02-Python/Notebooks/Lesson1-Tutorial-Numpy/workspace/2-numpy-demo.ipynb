{
  "cells": [
    {
      "cell_type": "markdown",
      "metadata": {},
      "source": [
        "# Numpy Demo\n",
        "We'll go through some examples here to refresh the basics of numpy.  There are also plenty of other guides online:\n",
        "* [Numpy quickstart tutorial](https://docs.scipy.org/doc/numpy-dev/user/quickstart.html)\n",
        "* [Numpy for MATLAB users](https://docs.scipy.org/doc/numpy-dev/user/numpy-for-matlab-users.html) -- great reference if you are used to working with MATLAB\n",
        "\n",
        "First, to use a package we need to import it."
      ]
    },
    {
      "cell_type": "code",
      "execution_count": 1,
      "metadata": {},
      "outputs": [],
      "source": [
        "import numpy as np"
      ]
    },
    {
      "cell_type": "markdown",
      "metadata": {},
      "source": [
        "# Motivation\n",
        "\n",
        "Question:  Why bother with numpy?\n",
        "\n",
        "Answer:  Numpy arrays are faster and more efficient than lists when working with numerical data."
      ]
    },
    {
      "cell_type": "markdown",
      "metadata": {},
      "source": [
        "## Example:  Pure Python vs Numpy\n",
        "Let's compare the running time for a basic operation in\n",
        "pure python and numpy.  The following code blocks\n",
        "create two random matrices $A$ and $B$, then compute\n",
        "$C = AB$ (you don't need to worry about understanding the code at this time).\n",
        "\n",
        "### Pure Python\n",
        "The first code block is with pure python using lists (no numpy)."
      ]
    },
    {
      "cell_type": "code",
      "execution_count": 2,
      "metadata": {},
      "outputs": [],
      "source": [
        "import random\n",
        "import time\n",
        "\n",
        "def create_rand_matrix(n):\n",
        "    # Create random matrix without numpy\n",
        "    M = []\n",
        "    for i in range(n):\n",
        "        row = []\n",
        "        for j in range(n):\n",
        "            row.append(random.random())\n",
        "        M.append(row)\n",
        "    return M\n",
        "    \n",
        "start = time.perf_counter()\n",
        "\n",
        "n = 100\n",
        "\n",
        "A = create_rand_matrix(n)\n",
        "B = create_rand_matrix(n)\n",
        "    \n",
        "# Compute C = AB\n",
        "C = []\n",
        "for i in range(n):\n",
        "    row = []\n",
        "    for j in range(n):\n",
        "        sum = 0\n",
        "        for k in range(n):\n",
        "            sum += A[i][k] * B[k][j]\n",
        "        row.append(sum)\n",
        "    C.append(row)\n",
        "    \n",
        "stop = time.perf_counter()\n",
        "print(stop - start)"
      ]
    },
    {
      "cell_type": "markdown",
      "metadata": {},
      "source": [
        "### Numpy\n",
        "The same thing using numpy arrays."
      ]
    },
    {
      "cell_type": "code",
      "execution_count": 3,
      "metadata": {},
      "outputs": [],
      "source": [
        "start = time.perf_counter()\n",
        "\n",
        "n = 100\n",
        "\n",
        "A = np.random.random((n, n))\n",
        "B = np.random.random((n, n))\n",
        "C = A @ B\n",
        "\n",
        "stop = time.perf_counter()\n",
        "print(stop - start)"
      ]
    },
    {
      "cell_type": "markdown",
      "metadata": {},
      "source": [
        "# Creating Arrays\n",
        "Numerous ways of creating arrays are available."
      ]
    },
    {
      "cell_type": "markdown",
      "metadata": {},
      "source": [
        "## Creating arrays from a list"
      ]
    },
    {
      "cell_type": "code",
      "execution_count": 4,
      "metadata": {},
      "outputs": [],
      "source": [
        "vals_list = [1, 3, 2, 8]\n",
        "vals_array = np.array(vals_list)\n",
        "\n",
        "print(\"vals_list: \", vals_list)\n",
        "print(\"vals_array: \", vals_array)"
      ]
    },
    {
      "cell_type": "markdown",
      "metadata": {},
      "source": [
        "## Creating arrays using built-in functions\n",
        "* [np.arange()](http://docs.scipy.org/doc/numpy-1.10.1/reference/generated/numpy.arange.html)\n",
        "* [np.linspace()](http://docs.scipy.org/doc/numpy-1.10.0/reference/generated/numpy.linspace.html)\n",
        "* How do we know how to call them?\n",
        "    * See documentation\n",
        "    * ipython help"
      ]
    },
    {
      "cell_type": "markdown",
      "metadata": {},
      "source": [
        "### np.arange()\n",
        "Evenly spaced numbers in a interval (meant for use with an integer step size).  Examples:"
      ]
    },
    {
      "cell_type": "code",
      "execution_count": 5,
      "metadata": {},
      "outputs": [],
      "source": [
        "print(np.arange(10)) # stop\n",
        "print(np.arange(4,12)) # start and stop\n",
        "print(np.arange(4,12,2)) # start, stop, and step"
      ]
    },
    {
      "cell_type": "markdown",
      "metadata": {},
      "source": [
        "### np.linspace()\n",
        "Evenly spaced numbers in an interval.  Examples:"
      ]
    },
    {
      "cell_type": "code",
      "execution_count": 6,
      "metadata": {},
      "outputs": [],
      "source": [
        "print(np.linspace(0,1,11))\n",
        "print(np.linspace(0,10,11))"
      ]
    },
    {
      "cell_type": "markdown",
      "metadata": {},
      "source": [
        "Note that unlike `np.arange()`, here the last number is included, and the third parameter is the number of steps."
      ]
    },
    {
      "cell_type": "markdown",
      "metadata": {},
      "source": [
        "### Other special vectors\n",
        "Often need to initialize to zeros or vector of all 1s"
      ]
    },
    {
      "cell_type": "code",
      "execution_count": 7,
      "metadata": {},
      "outputs": [],
      "source": [
        "print(np.zeros(5))\n",
        "print(np.ones(4))"
      ]
    },
    {
      "cell_type": "markdown",
      "metadata": {},
      "source": [
        "# Data Types\n",
        "Recall, Python is dynamically typed.  Types are changed automatically as needed.  And, lists can hold anything.  A single list could hold strings and integers.\n",
        "\n",
        "What about arrays?\n",
        "Numpy arrays are statically typed.\n",
        "\n",
        "So, what are the data types of the arrays we created above?  What are the available datatypes?  How do we specify what datatype we want? "
      ]
    },
    {
      "cell_type": "code",
      "execution_count": 8,
      "metadata": {},
      "outputs": [],
      "source": [
        "vals_list = [1,3,2,8]\n",
        "vals_array = np.array(vals_list)\n",
        "vals_arrayf = np.array(vals_list, dtype=float)\n",
        "\n",
        "print(\"vals_array: \", vals_array)\n",
        "print(\"vals_arrayf: \", vals_arrayf)\n",
        "\n",
        "print(type(vals_list))\n",
        "print(type(vals_array))\n",
        "print(type(vals_arrayf))\n",
        "print(vals_array.dtype)\n",
        "print(vals_arrayf.dtype)"
      ]
    },
    {
      "cell_type": "markdown",
      "metadata": {},
      "source": [
        "The `dtype` argument is valid for most array-creation functions, including\n",
        "`numpy.zeros`, `np.ones`, and `np.arange`."
      ]
    },
    {
      "cell_type": "markdown",
      "metadata": {},
      "source": [
        "In Python3, the `dtype` of an array that results from mathematical operations will\n",
        "automatically adjust to whatever is sensible."
      ]
    },
    {
      "cell_type": "code",
      "execution_count": 9,
      "metadata": {},
      "outputs": [],
      "source": [
        "print('integers: ', vals_array)\n",
        "print('more integers: ', vals_array * 3)\n",
        "print('floats: ', vals_array / 3)"
      ]
    },
    {
      "cell_type": "markdown",
      "metadata": {},
      "source": [
        "You can also copy an array and change the `dtype`."
      ]
    },
    {
      "cell_type": "code",
      "execution_count": 10,
      "metadata": {},
      "outputs": [],
      "source": [
        "arr = np.arange(10.0)\n",
        "x = arr.astype(int)\n",
        "print('arr: ', arr)\n",
        "print('x: ', x)"
      ]
    },
    {
      "cell_type": "markdown",
      "metadata": {},
      "source": [
        "# Accessing Array Elements\n",
        "Now that we actually have arrays, how do we get things from them?\n",
        "Indexed from 0, bracket notation for accessing"
      ]
    },
    {
      "cell_type": "code",
      "execution_count": 11,
      "metadata": {},
      "outputs": [],
      "source": [
        "print(vals_arrayf)\n",
        "print(vals_arrayf[0])"
      ]
    },
    {
      "cell_type": "markdown",
      "metadata": {},
      "source": [
        "Negative indexing is also allowed."
      ]
    },
    {
      "cell_type": "code",
      "execution_count": 12,
      "metadata": {},
      "outputs": [],
      "source": [
        "print(vals_arrayf[-1])"
      ]
    },
    {
      "cell_type": "markdown",
      "metadata": {},
      "source": [
        "What if I want a section of an array?  Array slicing."
      ]
    },
    {
      "cell_type": "code",
      "execution_count": 13,
      "metadata": {},
      "outputs": [],
      "source": [
        "print(vals_arrayf[1:3])\n",
        "print(vals_arrayf[1:2])"
      ]
    },
    {
      "cell_type": "markdown",
      "metadata": {},
      "source": [
        "In addition to a start and end, you can also choose a step for the slice."
      ]
    },
    {
      "cell_type": "code",
      "execution_count": 14,
      "metadata": {},
      "outputs": [],
      "source": [
        "print(vals_arrayf)\n",
        "print(vals_arrayf[::2])  # odd indices\n",
        "print(vals_arrayf[1::2])  # even indices\n",
        "print(vals_arrayf[::-1])  # handy way to reverse an array"
      ]
    },
    {
      "cell_type": "markdown",
      "metadata": {},
      "source": [
        "# Copies vs. Views (Accidentally changing your array)"
      ]
    },
    {
      "cell_type": "markdown",
      "metadata": {},
      "source": [
        "You need to be careful with `numpy` arrays if you are\n",
        "* trying to copy part of an array, or\n",
        "* passing an array to a function\n",
        "\n",
        "You might be in for a nasty surprise if you change an element."
      ]
    },
    {
      "cell_type": "code",
      "execution_count": 15,
      "metadata": {},
      "outputs": [],
      "source": [
        "simple = np.arange(5)\n",
        "small = simple[:2]\n",
        "print(simple)\n",
        "print('')\n",
        "print(small)\n",
        "print('')\n",
        "\n",
        "small[0] = 7\n",
        "print(small)\n",
        "print('')\n",
        "print(simple)  # shouldn't have changed, right?"
      ]
    },
    {
      "cell_type": "markdown",
      "metadata": {},
      "source": [
        "This happens because `small` is something called a \"view\" of\n",
        "`simple`, rather than a copy. This helps `numpy` save memory and\n",
        "speed up your program, but it can lead to tricky bugs if it\n",
        "is not your intent. In general, it can be difficult to tell\n",
        "whether something will be a view or a copy.\n",
        "\n",
        "Functions also do not make copies of their input arrays."
      ]
    },
    {
      "cell_type": "code",
      "execution_count": 16,
      "metadata": {},
      "outputs": [],
      "source": [
        "def foo(x):  # notice that x is not returned\n",
        "    x[0] = 100\n",
        "\n",
        "\n",
        "foo(simple)\n",
        "print(simple)"
      ]
    },
    {
      "cell_type": "markdown",
      "metadata": {},
      "source": [
        "If you think you are accidentally changing your array elsewhere in your code,\n",
        "you can copy it to be on the safe side. This will be slow your program down\n",
        "and use more memory, but it can help debugging and save a lot of headaches."
      ]
    },
    {
      "cell_type": "code",
      "execution_count": 17,
      "metadata": {},
      "outputs": [],
      "source": [
        "simple = np.arange(5)\n",
        "print('before:')\n",
        "print(simple)\n",
        "\n",
        "my_copy = simple[:2].copy()\n",
        "my_copy[1] = 10\n",
        "\n",
        "foo(simple.copy())\n",
        "\n",
        "print('after:')\n",
        "print(simple)"
      ]
    }
  ],
  "metadata": {
    "kernelspec": {
      "display_name": "Python 3",
      "language": "python",
      "name": "python3"
    },
    "language_info": {
      "codemirror_mode": {
        "name": "ipython",
        "version": 3
      },
      "file_extension": ".py",
      "mimetype": "text/x-python",
      "name": "python",
      "nbconvert_exporter": "python",
      "pygments_lexer": "ipython3",
      "version": "3.6.6"
    }
  },
  "nbformat": 4,
  "nbformat_minor": 4
}