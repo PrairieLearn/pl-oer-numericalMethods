{
  "cells": [
    {
      "cell_type": "markdown",
      "metadata": {},
      "source": [
        "# Matplotlib\n",
        "Same as before, first thing we do is import necessary packages"
      ]
    },
    {
      "cell_type": "code",
      "execution_count": 1,
      "metadata": {},
      "outputs": [],
      "source": [
        "%matplotlib inline\n",
        "import matplotlib.pyplot as plt\n",
        "import numpy as np"
      ]
    },
    {
      "cell_type": "markdown",
      "metadata": {},
      "source": [
        "This notebook will go through a lot of examples, but matplotlib\n",
        "has pretty good [documentation](http://matplotlib.org/api/pyplot_api.html) and a \n",
        "[gallery of examples](http://matplotlib.org/1.5.1/gallery.html).  They also\n",
        "have a [pyplot tutorial](http://matplotlib.org/users/pyplot_tutorial.html)\n",
        "that might be helpful in addition to the examples shown here.\n",
        "\n",
        "Often, it is helpful to find an example in the gallery of what you are looking for\n",
        "and then view the code for how to create that plot."
      ]
    },
    {
      "cell_type": "markdown",
      "metadata": {},
      "source": [
        "# Starting simple\n",
        "\n",
        "What about just a simple plot?\n",
        "\n",
        "Simple plot of some random numbers.  Note that range of x values is assumed from 0 to n-1\n",
        "if no range is specified.\n",
        "\n",
        "This uses np.random.randint().  See the numpy demo notebook for examples of numpy's random number generation functions."
      ]
    },
    {
      "cell_type": "code",
      "execution_count": 2,
      "metadata": {},
      "outputs": [],
      "source": [
        "yvals = np.random.randint(0,51,10)\n",
        "plt.plot(yvals)\n",
        "plt.show()"
      ]
    },
    {
      "cell_type": "markdown",
      "metadata": {},
      "source": [
        "What if we have x-values we want to provide too?"
      ]
    },
    {
      "cell_type": "code",
      "execution_count": 3,
      "metadata": {},
      "outputs": [],
      "source": [
        "xvals = np.arange(2003,2013,1)\n",
        "yvals = [62,112,116,114,119,127,103,126,105,139]\n",
        "plt.plot(xvals, yvals)\n",
        "plt.show()"
      ]
    },
    {
      "cell_type": "markdown",
      "metadata": {},
      "source": [
        "Note that the arguments could be arrays or lists, it didn't matter."
      ]
    },
    {
      "cell_type": "markdown",
      "metadata": {},
      "source": [
        "# Adding titles and labels\n",
        "\n",
        "Those previous graphs had no labels.  Good plots have axes labels and titles, so how do we add them?"
      ]
    },
    {
      "cell_type": "code",
      "execution_count": 4,
      "metadata": {},
      "outputs": [],
      "source": [
        "plt.xlabel('Year')\n",
        "plt.ylabel('RBIs')\n",
        "plt.title('Miguel Cabrera\\'s RBIs vs Year')\n",
        "plt.plot(xvals, yvals)\n",
        "plt.show()"
      ]
    },
    {
      "cell_type": "markdown",
      "metadata": {},
      "source": [
        "# Changing line style, color\n",
        "\n",
        "That plot still doesn't look great, how can I make it look better?\n",
        "\n",
        "You can specify the line color, style, etc. that you want.\n",
        "\n",
        "This plot changes the line color to red, adds circle markers at the data points,\n",
        "and changes the line width to be thicker."
      ]
    },
    {
      "cell_type": "code",
      "execution_count": 5,
      "metadata": {},
      "outputs": [],
      "source": [
        "plt.xlabel('Year')\n",
        "plt.ylabel('RBIs')\n",
        "plt.title('Miguel Cabrera\\'s RBIs vs Year')\n",
        "plt.plot(xvals,yvals,'ro-',linewidth=2)\n",
        "plt.show()"
      ]
    },
    {
      "cell_type": "markdown",
      "metadata": {},
      "source": [
        "# Multiple lines on a single plot\n",
        "\n",
        "Can easily add multiple lines to a single plot by just calling `plt.plot()` with the data for each different line.\n",
        "\n",
        "If you do have multiple lines on one plot, it is always good to have a legend as well.\n",
        "To add a legend, specify the label='some label' when plotting each of the data and then\n",
        "call plt.legend().  You can specify where the legend is placed by specifying a location\n",
        "(see matplotlib's documentation for location details)."
      ]
    },
    {
      "cell_type": "code",
      "execution_count": 6,
      "metadata": {},
      "outputs": [],
      "source": [
        "xvals2 = np.arange(2005,2013,1)\n",
        "yvals2 = [10,81,119,102,141,83,120,108]\n",
        "\n",
        "plt.xlabel('Year')\n",
        "plt.ylabel('RBIs')\n",
        "plt.title('RBIs vs Year for Miguel Cabrera and Prince Fielder')\n",
        "\n",
        "plt.plot(xvals, yvals, 'ro-', label='Miguel Cabrera')\n",
        "plt.plot(xvals2, yvals2, 'go-', label='Prince Fielder')\n",
        "plt.legend(loc=2)\n",
        "\n",
        "plt.show()"
      ]
    },
    {
      "cell_type": "markdown",
      "metadata": {},
      "source": [
        "# Examples of More Line Styles\n",
        "We've seen how to change line thickness, line style, and line color.  There are quite a few options for line styles, colors, etc.\n",
        "\n",
        "For example, sometimes it is helpful to plot just markers (no lines connecting them).  Or, you might want to use a dashed line instead of a solid line or change to a differnet shaped marker.  This example just shows a couple more options.  There are tons of options available though -- see matplotlib's documentation or gallery."
      ]
    },
    {
      "cell_type": "code",
      "execution_count": 7,
      "metadata": {},
      "outputs": [],
      "source": [
        "xvals2 = np.arange(2005,2013,1)\n",
        "yvals2 = [10,81,119,102,141,83,120,108]\n",
        "\n",
        "plt.xlabel('Year')\n",
        "plt.ylabel('RBIs')\n",
        "plt.title('RBIs vs Year for Miguel Cabrera and Prince Fielder')\n",
        "\n",
        "plt.plot(xvals, yvals, 'ro', label='Miguel Cabrera')\n",
        "plt.plot(xvals2, yvals2, 'gs--', label='Prince Fielder')\n",
        "plt.legend(loc=2)\n",
        "\n",
        "plt.show()"
      ]
    },
    {
      "cell_type": "markdown",
      "metadata": {},
      "source": [
        "# Logarithmic Axis Scales\n",
        "Options available for doing log-log and semilog axis scales available.\n",
        "\n",
        "This example also shows how to make separate figures -- call plt.figure() before\n",
        "plotting the data you want on each plot."
      ]
    },
    {
      "cell_type": "code",
      "execution_count": 8,
      "metadata": {},
      "outputs": [],
      "source": [
        "a = np.arange(10)\n",
        "\n",
        "plt.figure()\n",
        "xs = 10**(2*a)\n",
        "ys = 10**a\n",
        "plt.loglog(xs, ys, 'bo-')\n",
        "plt.title('log scale on both x-axis and y-axis')\n",
        "plt.show()\n",
        "\n",
        "# The same data plotted with plt.plot()\n",
        "plt.figure()\n",
        "plt.plot(xs, ys, 'bo-')\n",
        "plt.title('linear scale on x-axis and y-axis')\n",
        "plt.show()"
      ]
    },
    {
      "cell_type": "markdown",
      "metadata": {},
      "source": [
        "The same exact data is plotted in both of the above, just using different\n",
        "scales for the axes.  Note we can only really see a couple of the data points\n",
        "in the second plot."
      ]
    },
    {
      "cell_type": "markdown",
      "metadata": {},
      "source": [
        "We can also do log scaling on only one axis (x or y)."
      ]
    },
    {
      "cell_type": "code",
      "execution_count": 9,
      "metadata": {},
      "outputs": [],
      "source": [
        "a = np.arange(10)\n",
        "\n",
        "plt.figure()\n",
        "xs = 10**(0.25*a)\n",
        "ys = a\n",
        "plt.semilogx(xs, ys, 'bo-')\n",
        "plt.show()\n",
        "\n",
        "plt.figure()\n",
        "xs = a\n",
        "ys = 10**(0.5*a)\n",
        "plt.semilogy(xs, ys, 'bo-')\n",
        "plt.show()"
      ]
    },
    {
      "cell_type": "markdown",
      "metadata": {},
      "source": [
        "Note, these were straight lines as plotted, but would have looked very different\n",
        "on an ordinary plot (using plt.plot())  "
      ]
    },
    {
      "cell_type": "markdown",
      "metadata": {},
      "source": [
        "# Some Fancier Options\n",
        "\n",
        "## Multiple Subplots\n",
        "How to add multiple subplots on one figure (you could also do two separate plots)"
      ]
    },
    {
      "cell_type": "code",
      "execution_count": 10,
      "metadata": {},
      "outputs": [],
      "source": [
        "plt.figure(1)\n",
        "\n",
        "plt.subplot(211)\n",
        "plt.xlabel('Year')\n",
        "plt.ylabel('RBIs')\n",
        "plt.title(\"Miguel Cabrera's RBIs vs Year\")\n",
        "plt.plot(xvals,yvals,'ro-')\n",
        "\n",
        "plt.subplot(212)\n",
        "plt.xlabel('Year')\n",
        "plt.ylabel('RBIs')\n",
        "plt.title(\"Prince Fielder's RBIs vs Year\")\n",
        "plt.plot(xvals2,yvals2,'go-')\n",
        "\n",
        "plt.tight_layout()\n",
        "plt.show()"
      ]
    },
    {
      "cell_type": "markdown",
      "metadata": {},
      "source": [
        "The x-axis and y-axis ranges are different on each subplot, can we force it to be the same?"
      ]
    },
    {
      "cell_type": "code",
      "execution_count": 11,
      "metadata": {},
      "outputs": [],
      "source": [
        "def format_axis(ax):\n",
        "    ax.set_xlim((2002, 2013))\n",
        "\n",
        "    ax.set_xlabel('Year')\n",
        "    ax.set_ylabel('RBIs')\n",
        "\n",
        "fig, (ax0,ax1) = plt.subplots(nrows=2, sharey=True, figsize=(6,6))\n",
        "\n",
        "ax0.plot(xvals,yvals,'rs-')\n",
        "ax0.set_title('Miguel Cabrera\\'s RBIs vs Year')\n",
        "format_axis(ax0)\n",
        "\n",
        "ax1.plot(xvals2,yvals2,'gs-')\n",
        "ax1.set_title('Prince Fielder\\'s RBIs vs Year')\n",
        "format_axis(ax1)\n",
        "\n",
        "plt.tight_layout()\n",
        "plt.show()"
      ]
    },
    {
      "cell_type": "markdown",
      "metadata": {},
      "source": [
        "Note: could have used `sharex=True` argument to `plt.subplots`\n",
        "instead of manually setting xlim for each, but then tick labels\n",
        "would only appear for bottom plot"
      ]
    }
  ],
  "metadata": {
    "kernelspec": {
      "display_name": "Python 3",
      "language": "python",
      "name": "python3"
    },
    "language_info": {
      "codemirror_mode": {
        "name": "ipython",
        "version": 3
      },
      "file_extension": ".py",
      "mimetype": "text/x-python",
      "name": "python",
      "nbconvert_exporter": "python",
      "pygments_lexer": "ipython3",
      "version": "3.6.6"
    }
  },
  "nbformat": 4,
  "nbformat_minor": 4
}