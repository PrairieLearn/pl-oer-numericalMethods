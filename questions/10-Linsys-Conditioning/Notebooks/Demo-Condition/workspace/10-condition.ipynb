{
  "cells": [
    {
      "cell_type": "markdown",
      "metadata": {
        "slideshow": {
          "slide_type": "slide"
        }
      },
      "source": [
        "# Linear System of Equations - Conditioning"
      ]
    },
    {
      "cell_type": "code",
      "execution_count": 1,
      "metadata": {
        "slideshow": {
          "slide_type": "skip"
        }
      },
      "outputs": [],
      "source": [
        "import numpy as np\n",
        "import numpy.linalg as la"
      ]
    },
    {
      "cell_type": "markdown",
      "metadata": {
        "slideshow": {
          "slide_type": "skip"
        }
      },
      "source": [
        "# Conditioning of $2\\times2$ matrices\n",
        "\n",
        "This mini-demo gives you the opportunity to play around with the 2-norm condition number of a $2\\times 2$ matrix. \n",
        "\n",
        "* What happens if you choose the columns of the matrix to be nearly linearly dependent?\n",
        "* What happens if you choose the diagonal entries to be very different in magnitude?"
      ]
    },
    {
      "cell_type": "code",
      "execution_count": 2,
      "metadata": {
        "slideshow": {
          "slide_type": "skip"
        }
      },
      "outputs": [],
      "source": [
        "la.cond([\n",
        "         [0.000001, 0.1],\n",
        "         [0,  1]\n",
        "         ], 2)"
      ]
    },
    {
      "cell_type": "markdown",
      "metadata": {
        "slideshow": {
          "slide_type": "slide"
        }
      },
      "source": [
        "# Hilbert Matrix - Condition Number"
      ]
    },
    {
      "cell_type": "code",
      "execution_count": 3,
      "metadata": {
        "slideshow": {
          "slide_type": "-"
        }
      },
      "outputs": [],
      "source": [
        "import numpy.linalg as la\n",
        "import numpy as np"
      ]
    },
    {
      "cell_type": "code",
      "execution_count": 4,
      "metadata": {
        "slideshow": {
          "slide_type": "-"
        }
      },
      "outputs": [],
      "source": [
        "ndim = np.array([2,3,8,11,14])"
      ]
    },
    {
      "cell_type": "markdown",
      "metadata": {
        "slideshow": {
          "slide_type": "-"
        }
      },
      "source": [
        "Let's perform linear solves for matrices with increasing size \"n\", for a problem in which we know what the solution would be."
      ]
    },
    {
      "cell_type": "code",
      "execution_count": 5,
      "metadata": {
        "slideshow": {
          "slide_type": "-"
        }
      },
      "outputs": [],
      "source": [
        "for nd in ndim:\n",
        "    ## This is the vector 'x' that we want to obtain (the exact one)\n",
        "    x = np.ones(nd)\n",
        "    ## Create a matrix with random values between 0 and 1\n",
        "    A = np.random.rand(nd,nd)\n",
        "    ## We compute the matrix-vector multiplication \n",
        "    ## to find the right-hand side b\n",
        "    b = A @ x\n",
        "    ## We now use the linear algebra pack to compute Ax = b and solve for x\n",
        "    x_solve = la.solve(A,b)\n",
        "    ## What do we expect? \n",
        "    print(\"------ N =\", nd, \"----------\")\n",
        "    error = x_solve-x\n",
        "    print(\"Norm of error = \", la.norm(error,2)) "
      ]
    },
    {
      "cell_type": "code",
      "execution_count": 6,
      "metadata": {
        "slideshow": {
          "slide_type": "-"
        }
      },
      "outputs": [],
      "source": [
        "print(x_solve)"
      ]
    },
    {
      "cell_type": "markdown",
      "metadata": {
        "slideshow": {
          "slide_type": "slide"
        }
      },
      "source": [
        "Now we will perform the same computation, but for a special matrix, known as the Hilbert matrix"
      ]
    },
    {
      "cell_type": "code",
      "execution_count": 7,
      "metadata": {},
      "outputs": [],
      "source": [
        "def Hilbert(n):  \n",
        "    H = np.zeros((n, n))    \n",
        "    for i in range(n):        \n",
        "        for j in range(n):        \n",
        "            H[i,j] = 1.0/(j+i+1)    \n",
        "    return H"
      ]
    },
    {
      "cell_type": "code",
      "execution_count": 8,
      "metadata": {},
      "outputs": [],
      "source": [
        "for nd in ndim:\n",
        "    ## This is the vector 'x' that we want to obtain (the exact one)\n",
        "    x = np.ones(nd)\n",
        "    ## Create the Hilbert matrix\n",
        "    A = Hilbert(nd)\n",
        "    ## We compute the matrix-vector multiplication \n",
        "    ## to find the right-hand side b\n",
        "    b = A @ x  \n",
        "    ## We now use the linear algebra pack to compute Ax = b and solve for x\n",
        "    x_solve = la.solve(A,b)\n",
        "    ## What do we expect? \n",
        "    print(\"------ N =\", nd, \"----------\")\n",
        "    error = x_solve-x\n",
        "    print(\"Norm of error = \", la.norm(error,2)) "
      ]
    },
    {
      "cell_type": "code",
      "execution_count": 9,
      "metadata": {},
      "outputs": [],
      "source": [
        "print(x_solve)"
      ]
    },
    {
      "cell_type": "markdown",
      "metadata": {
        "slideshow": {
          "slide_type": "-"
        }
      },
      "source": [
        "**What went wrong?**"
      ]
    },
    {
      "cell_type": "markdown",
      "metadata": {
        "slideshow": {
          "slide_type": "slide"
        }
      },
      "source": [
        "## Condition number"
      ]
    },
    {
      "cell_type": "markdown",
      "metadata": {
        "slideshow": {
          "slide_type": "-"
        }
      },
      "source": [
        "The solution to this linear system is extremely sensitive to small changes in the matrix entries and the right-hand side entries. What is the condition number of the Hilbert matrix?"
      ]
    },
    {
      "cell_type": "code",
      "execution_count": 10,
      "metadata": {
        "slideshow": {
          "slide_type": "-"
        }
      },
      "outputs": [],
      "source": [
        "for nd in ndim:\n",
        "    ## This is the vector 'x' that we want to obtain (the exact one)\n",
        "    x = np.ones(nd)\n",
        "    ## Create the Hilbert matrix\n",
        "    A = Hilbert(nd)\n",
        "    ## We compute the matrix-vector multiplication \n",
        "    ## to find the right-hand side b\n",
        "    b = A @ x\n",
        "    ## We now use the linear algebra pack to compute Ax = b and solve for x\n",
        "    x_solve = la.solve(A,b)\n",
        "    ## What do we expect? \n",
        "    print(\"------ N =\", nd, \"----------\")\n",
        "    error = x_solve-x\n",
        "    print(\"Norm of error = \", la.norm(error,2)) \n",
        "    print(\"Condition number = \", la.cond(A,2))"
      ]
    },
    {
      "cell_type": "markdown",
      "metadata": {
        "collapsed": true,
        "slideshow": {
          "slide_type": "slide"
        }
      },
      "source": [
        "## Residual"
      ]
    },
    {
      "cell_type": "code",
      "execution_count": 11,
      "metadata": {
        "slideshow": {
          "slide_type": "-"
        }
      },
      "outputs": [],
      "source": [
        "for nd in ndim:\n",
        "    ## This is the vector 'x' that we want to obtain (the exact one)\n",
        "    x = np.ones(nd)\n",
        "    ## Create the Hilbert matrix\n",
        "    A = Hilbert(nd)\n",
        "    ## We compute the matrix-vector multiplication \n",
        "    ## to find the right-hand side b\n",
        "    b = A @ x\n",
        "    ## We now use the linear algebra pack to compute Ax = b and solve for x\n",
        "    x_solve = la.solve(A,b)\n",
        "    ## What do we expect? \n",
        "    print(\"------ N =\", nd, \"----------\")\n",
        "    error = x_solve-x\n",
        "    residual = A@x_solve - b\n",
        "    print(\"Error norm = \", la.norm(error,2)) \n",
        "    print(\"Residual norm = \", la.norm(residual,2)) "
      ]
    },
    {
      "cell_type": "code",
      "execution_count": 12,
      "metadata": {
        "slideshow": {
          "slide_type": "-"
        }
      },
      "outputs": [],
      "source": [
        "x_solve"
      ]
    },
    {
      "cell_type": "markdown",
      "metadata": {
        "slideshow": {
          "slide_type": "slide"
        }
      },
      "source": [
        "## Rule of thumb"
      ]
    },
    {
      "cell_type": "code",
      "execution_count": 13,
      "metadata": {
        "slideshow": {
          "slide_type": "-"
        }
      },
      "outputs": [],
      "source": [
        "for nd in ndim:\n",
        "    ## This is the vector 'x' that we want to obtain (the exact one)\n",
        "    x = np.ones(nd)\n",
        "    ## Create the Hilbert matrix\n",
        "    A = Hilbert(nd)\n",
        "    ## We compute the matrix-vector multiplication \n",
        "    ## to find the right-hand side b\n",
        "    b = A @ x\n",
        "    ## We now use the linear algebra pack to compute Ax = b and solve for x\n",
        "    x_solve = la.solve(A,b)\n",
        "    ## What do we expect? \n",
        "    print(\"------ N =\", nd, \"----------\")\n",
        "    residual = A@x_solve - b\n",
        "    print(\"Residual norm = \", la.norm(residual,2))   \n",
        "    print(\"|dx| / |x| < \", la.cond(A,2)*10**(-16))"
      ]
    },
    {
      "cell_type": "code",
      "execution_count": null,
      "metadata": {
        "slideshow": {
          "slide_type": "skip"
        }
      },
      "outputs": [],
      "source": []
    },
    {
      "cell_type": "code",
      "execution_count": 14,
      "metadata": {
        "slideshow": {
          "slide_type": "slide"
        }
      },
      "outputs": [],
      "source": [
        "import numpy as np\n",
        "import numpy.linalg as la\n",
        "import scipy.linalg as sla"
      ]
    },
    {
      "cell_type": "code",
      "execution_count": 15,
      "metadata": {
        "slideshow": {
          "slide_type": "-"
        }
      },
      "outputs": [],
      "source": [
        "def lu1(A):\n",
        "    \"\"\"\n",
        "    \"\"\"\n",
        "    LU = A.copy()\n",
        "    \n",
        "    n = A.shape[0]\n",
        "    for i in range(1,n):\n",
        "        l_21 = LU[i:,i-1]\n",
        "        u_12 = LU[i-1,i:]\n",
        "        A_22 = LU[i:,i:]\n",
        "        u_11 = LU[i-1,i-1]\n",
        "        \n",
        "        # l_{21} = a_{21} / u_{11}\n",
        "        l_21 /= u_11\n",
        "        # A_{22} = LU[] \n",
        "        A_22 += -np.outer(l_21, u_12)\n",
        "        \n",
        "    return LU"
      ]
    },
    {
      "cell_type": "markdown",
      "metadata": {
        "slideshow": {
          "slide_type": "-"
        }
      },
      "source": [
        "# Try this\n",
        "$$\n",
        "Ax = \\begin{bmatrix}c&1\\\\-1&1\\end{bmatrix}\\begin{bmatrix}x_1\\\\x_2\\end{bmatrix}\n",
        "=\n",
        "\\begin{bmatrix}b_1\\\\b_2\\end{bmatrix}\n",
        "$$\n",
        "with an exact solution of\n",
        "$$\n",
        "x_{exact} = \\begin{bmatrix}1\\\\1\\end{bmatrix}\n",
        "$$"
      ]
    },
    {
      "cell_type": "code",
      "execution_count": 16,
      "metadata": {
        "slideshow": {
          "slide_type": "slide"
        }
      },
      "outputs": [],
      "source": [
        "c = 1e-16\n",
        "A = np.array([[c, 1.], [-1, 1]])\n",
        "# xx is the exact solution\n",
        "xx = np.array([1,1])\n",
        "b = A.dot(xx)\n",
        "\n",
        "# Comput the LU\n",
        "LU = lu1(A)\n",
        "L = np.tril(LU,-1) + np.eye(2,2)\n",
        "U = np.triu(LU)\n",
        "\n",
        "# Solve\n",
        "# x is the numerical (xhat)\n",
        "y = sla.solve_triangular(L, b, lower=True)\n",
        "x = sla.solve_triangular(U, y)\n",
        "\n",
        "print(\"Condition number = \", la.cond(A,2))\n",
        "\n",
        "print(\"Exact solution = \", xx)\n",
        "\n",
        "print(\"Computed solution = \",x)\n",
        "\n",
        "print(\"Error = \", la.norm(xx-x))\n",
        "\n"
      ]
    },
    {
      "cell_type": "markdown",
      "metadata": {
        "slideshow": {
          "slide_type": "slide"
        }
      },
      "source": [
        "## Residual"
      ]
    },
    {
      "cell_type": "code",
      "execution_count": 17,
      "metadata": {
        "slideshow": {
          "slide_type": "-"
        }
      },
      "outputs": [],
      "source": [
        "c = 1e-1\n",
        "A = np.array([[c, 1.], [-1, 1]])\n",
        "xx = np.array([1,1])\n",
        "b = A.dot(xx)\n",
        "\n",
        "# Comput the LU\n",
        "LU = lu1(A)\n",
        "L = np.tril(LU,-1) + np.eye(2,2)\n",
        "U = np.triu(LU)\n",
        "\n",
        "# Solve\n",
        "y = sla.solve_triangular(L, b, lower=True)\n",
        "x = sla.solve_triangular(U, y)\n",
        "\n",
        "\n",
        "print(\"Exact solution = \", xx)\n",
        "\n",
        "print(\"Computed solution = \",x)\n",
        "\n",
        "print(\"Condition number = \", la.cond(A,2))\n",
        "\n",
        "print(\"Residual norm = \",la.norm(A@x - b))\n",
        "\n",
        "print(\"Error norm = \",la.norm(xx - x))"
      ]
    },
    {
      "cell_type": "code",
      "execution_count": null,
      "metadata": {},
      "outputs": [],
      "source": []
    },
    {
      "cell_type": "markdown",
      "metadata": {
        "slideshow": {
          "slide_type": "slide"
        }
      },
      "source": [
        "# Rule of Thumb on Conditioning"
      ]
    },
    {
      "cell_type": "code",
      "execution_count": 18,
      "metadata": {},
      "outputs": [],
      "source": [
        "import numpy as np\n",
        "import numpy.linalg as la\n",
        "import matplotlib.pyplot as plt\n",
        "\n",
        "# print(plt.style.available) # uncomment to print all styles\n",
        "import seaborn as sns\n",
        "sns.set(font_scale=2)\n",
        "plt.style.use('seaborn-whitegrid')\n",
        "plt.rcParams['figure.figsize'] = (8,6.0)\n",
        "%matplotlib inline"
      ]
    },
    {
      "cell_type": "markdown",
      "metadata": {},
      "source": [
        "### Let's make a matrix\n",
        "\n",
        "Make the second column nearly linearly indepent to the first"
      ]
    },
    {
      "cell_type": "code",
      "execution_count": 19,
      "metadata": {},
      "outputs": [],
      "source": [
        "n = 10\n",
        "A = np.random.rand(n,n)\n",
        "\n",
        "delta = 1e-16\n",
        "\n",
        "A[:,1] = A[:,0] + delta*A[:,1]\n",
        "print(\"cond = %g\" % np.linalg.cond(A))"
      ]
    },
    {
      "cell_type": "markdown",
      "metadata": {},
      "source": [
        "### Make a problem we know the answer to:\n",
        "\n",
        "Let $x={\\bf 1}$, then $x$ solves the problem\n",
        "$$\n",
        "A x = b\n",
        "$$\n",
        "where $b = A {\\bf 1}$."
      ]
    },
    {
      "cell_type": "code",
      "execution_count": 21,
      "metadata": {},
      "outputs": [],
      "source": [
        "# This is the exact solution\n",
        "xexact = np.ones((n,))\n",
        "b = A.dot(xexact)"
      ]
    },
    {
      "cell_type": "code",
      "execution_count": 22,
      "metadata": {},
      "outputs": [],
      "source": [
        "# This is the approximated solution\n",
        "xnum = np.linalg.solve(A, b)"
      ]
    },
    {
      "cell_type": "markdown",
      "metadata": {},
      "source": [
        "Since we are solving with LU with partial pivoting, the residual should be small!"
      ]
    },
    {
      "cell_type": "markdown",
      "metadata": {},
      "source": [
        "## Residual Versus Error\n",
        "$$\n",
        "r = b - A x\n",
        "$$\n",
        "whereas\n",
        "$$\n",
        "e = x_{exact} - x\n",
        "$$"
      ]
    },
    {
      "cell_type": "code",
      "execution_count": 23,
      "metadata": {},
      "outputs": [],
      "source": [
        "xexact"
      ]
    },
    {
      "cell_type": "code",
      "execution_count": 24,
      "metadata": {},
      "outputs": [],
      "source": [
        "xnum"
      ]
    },
    {
      "cell_type": "code",
      "execution_count": 25,
      "metadata": {},
      "outputs": [],
      "source": [
        "r = b - A@xnum\n",
        "e = xexact - xnum"
      ]
    },
    {
      "cell_type": "code",
      "execution_count": 26,
      "metadata": {},
      "outputs": [],
      "source": [
        "print(\"norm of residual = \", la.norm(r))\n",
        "print(\"norm of the error = \", la.norm(e))"
      ]
    },
    {
      "cell_type": "markdown",
      "metadata": {},
      "source": [
        "The condition number of A is high (ill-conditioned problem), and hence the error bound is also high."
      ]
    },
    {
      "cell_type": "markdown",
      "metadata": {},
      "source": [
        "## Let's do a test\n",
        "\n",
        "We'll do the following steps\n",
        "1. Make a matrix $A$\n",
        "2. Find it's smallest eigenvalue $\\lambda$, then $A - \\lambda I$ would be singular\n",
        "3. Instead, let's make B = $A - \\lambda \\cdot c\\cdot I$ where c is a parameter in $[0,1]$.  This will make the problem closer and closer to singular.\n",
        "4. Plot the condition number versus the error."
      ]
    },
    {
      "cell_type": "code",
      "execution_count": 27,
      "metadata": {},
      "outputs": [],
      "source": [
        "n = 10\n",
        "A = np.random.rand(n,n)\n",
        "A = A.dot(A.T)  # make it symmetric\n",
        "v, _ = np.linalg.eig(A)\n",
        "lmbda = np.min(np.abs(v))\n",
        "I = np.eye(n,n)\n",
        "print(lmbda)\n",
        "print(np.linalg.cond(A - lmbda*I))"
      ]
    },
    {
      "cell_type": "code",
      "execution_count": 28,
      "metadata": {},
      "outputs": [],
      "source": [
        "x = np.ones((n,))\n",
        "b = A.dot(x)\n",
        "\n",
        "cond = []\n",
        "error = []\n",
        "clist = 1.0-1.0/np.logspace(0,15,int(100))\n",
        "clist.sort()\n",
        "for c in clist:\n",
        "    B = A - lmbda * c * I\n",
        "    xnum = np.linalg.solve(B, b)\n",
        "    cond.append(np.linalg.cond(B))\n",
        "    error.append(np.linalg.norm(x-xnum))"
      ]
    },
    {
      "cell_type": "code",
      "execution_count": 29,
      "metadata": {},
      "outputs": [],
      "source": [
        "plt.plot(np.log10(cond),15-np.log10(error), 'o', label='error')\n",
        "plt.plot(np.log10(cond),15-np.log10(cond), 'o', label='rule')\n",
        "plt.axis('equal')\n",
        "plt.legend()"
      ]
    },
    {
      "cell_type": "code",
      "execution_count": 30,
      "metadata": {},
      "outputs": [],
      "source": [
        "import random\n",
        "lambda1 = random.randint(3,12)\n",
        "while 1:\n",
        "    lambda2 = random.randint(5,20)\n",
        "    if lambda2 != lambda1:\n",
        "        break\n",
        "\n",
        "A = np.array([[lambda1,0],[random.randint(-4,4),lambda2]])"
      ]
    },
    {
      "cell_type": "code",
      "execution_count": 31,
      "metadata": {},
      "outputs": [],
      "source": [
        "A"
      ]
    },
    {
      "cell_type": "code",
      "execution_count": null,
      "metadata": {},
      "outputs": [],
      "source": []
    },
    {
      "cell_type": "code",
      "execution_count": null,
      "metadata": {},
      "outputs": [],
      "source": []
    }
  ],
  "metadata": {
    "kernelspec": {
      "display_name": "Python 3",
      "language": "python",
      "name": "python3"
    },
    "language_info": {
      "codemirror_mode": {
        "name": "ipython",
        "version": 3
      },
      "file_extension": ".py",
      "mimetype": "text/x-python",
      "name": "python",
      "nbconvert_exporter": "python",
      "pygments_lexer": "ipython3",
      "version": "3.8.0"
    }
  },
  "nbformat": 4,
  "nbformat_minor": 1
}